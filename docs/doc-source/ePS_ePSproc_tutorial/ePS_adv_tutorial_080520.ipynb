{
 "cells": [
  {
   "cell_type": "code",
   "execution_count": null,
   "metadata": {},
   "outputs": [],
   "source": []
  },
  {
   "cell_type": "markdown",
   "metadata": {},
   "source": [
    "# ePolyScat advanced usage tutorial\n",
    "08/05/20\n",
    "\n",
    "Paul Hockett\n",
    "\n",
    "Disclaimer: I am an enthusiastic ePolyScat user for photoionization calculations, but not an expert on the code."
   ]
  },
  {
   "cell_type": "markdown",
   "metadata": {},
   "source": [
    "## Overview & resources"
   ]
  },
  {
   "cell_type": "markdown",
   "metadata": {},
   "source": [
    "* [ePolyScat](http://www.chem.tamu.edu/rgroup/lucchese/ePolyScat.E3.manual/manual.html) (ePS) is an open-source tool for numerical computation of electron-molecule scattering & photoionization by Lucchese & coworkers. For more details try: \n",
    "    \n",
    "    * The [ePolyScat website and manual](http://www.chem.tamu.edu/rgroup/lucchese/ePolyScat.E3.manual/manual.html) (As of 2020 this site may no longer exist... an [archived version from 2016 is on the Internet Achive](https://web.archive.org/web/20160311080402/http://www.chem.tamu.edu/rgroup/lucchese/ePolyScat.E3.manual/manual.html) - relevant links in this document have been updated to Archive links). Note that the manual uses a frames-based layout, use the menu on the page to navigate to sub-sections (direct links break the menu).\n",
    "    * *Calculation of low-energy elastic cross sections for electron-CF4 scattering*, F. A. Gianturco, R. R. Lucchese, and N. Sanna, J. Chem. Phys. 100, 6464 (1994), http://dx.doi.org/10.1063/1.467237\n",
    "    * *Cross section and asymmetry parameter calculation for sulfur 1s photoionization of SF6*, A. P. P. Natalense and R. R. Lucchese, J. Chem. Phys. 111, 5344 (1999), http://dx.doi.org/10.1063/1.479794\n",
    "    \n",
    " "
   ]
  },
  {
   "cell_type": "markdown",
   "metadata": {},
   "source": [
    "* [ePSproc](https://epsproc.readthedocs.io) is an open-source tool for post-processing & visualisation of ePS results, aimed primarily at photoionization studies.\n",
    "    \n",
    "    * Ongoing documentation is on [Read the Docs](https://epsproc.readthedocs.io).\n",
    "    * Source code is [available on Github](https://github.com/phockett/ePSproc).\n",
    "    * For more background, see the software metapaper for the original release of ePSproc (Aug. 2016): *ePSproc: Post-processing suite for ePolyScat electron-molecule scattering calculations*, on [Authorea](https://www.authorea.com/users/71114/articles/122402/_show_article) or [arXiv 1611.04043](https://arxiv.org/abs/1611.04043).\n",
    "    \n",
    "    "
   ]
  },
  {
   "cell_type": "markdown",
   "metadata": {},
   "source": [
    "* [ePSdata](https://phockett.github.io/ePSdata/index.html) is an open-data/open-science collection of ePS + ePSproc results.\n",
    "\n",
    "    * ePSdata collects ePS datasets, post-processed via ePSproc (Python) in [Jupyter notebooks](https://jupyter.org), for a full open-data/open-science transparent pipeline.\n",
    "    * ePSdata is currently (Jan 2020) collecting existing calculations from 2010 - 2019, from the [femtolabs at NRC](http://femtolab.ca), with one notebook per ePS job.\n",
    "    * In future, ePSdata pages will be automatically generated from ePS jobs (via the ePSman toolset, currently in development), for immediate dissemination to the research community.\n",
    "    * Source notebooks are available on the [Github project pages](https://github.com/phockett/ePSdata/), and notebooks + datasets via [Zenodo repositories](https://about.zenodo.org) (one per dataset). Each notebook + dataset is given a Zenodo DOI for full traceability, and notebooks are versioned on Github.\n",
    "    * Note: ePSdata may also be linked or mirrored on the existing [ePolyScat Collected Results OSF project](https://osf.io/psjxt/), but will effectively supercede those pages.\n",
    "    * All results are released under <a href=\"https://creativecommons.org/licenses/by-nc-sa/4.0/\">Creative Commons Attribution-NonCommercial-ShareAlike 4.0 (CC BY-NC-SA 4.0)</a> license, and are part of our ongoing [Open Science initiative](http://femtolab.ca/?p=877)."
   ]
  },
  {
   "cell_type": "markdown",
   "metadata": {},
   "source": [
    "### Workflow\n",
    "\n",
    "The general workflow for photoionization calculations plus post-processing is shown below. This pipeline involves a range of code suites, as shown in the main workflow; some additional details are also illustrated."
   ]
  },
  {
   "cell_type": "markdown",
   "metadata": {},
   "source": [
    "![ePS_workflow](https://phockett.github.io/ePSdata/_images/ePSworkflow_170220.gv.png)"
   ]
  },
  {
   "cell_type": "markdown",
   "metadata": {},
   "source": [
    "## Working with dipole matrix elements"
   ]
  },
  {
   "cell_type": "markdown",
   "metadata": {},
   "source": [
    "### Why work with matrix elements?\n",
    "\n",
    "Working directly from the dipole matrix elements has a few benefits, mainly relating to the flexibility these provide for post-processing and further use:\n",
    "\n",
    "- Analysis of partial wave composition (also available directly from ePS using [`GetCro` with the `CroByPartialWave` option set](https://web.archive.org/web/20160311205849fw_/http://www.chem.tamu.edu/rgroup/lucchese/ePolyScat.E3.manual/GetCro.html)).\n",
    "- Computation of additional properties based on the matrix elements, e.g. molecular frame (MF) and aligned frame (AF) observables. (Some of these are already possible in ePS directly, e.g. [`OrientCro` for MF computations](https://web.archive.org/web/20160311205849fw_/http://www.chem.tamu.edu/rgroup/lucchese/ePolyScat.E3.manual/OrientCro.html)).\n",
    "- Dissemination and sharing of results & processing.\n",
    "\n",
    "Disadvantages...\n",
    "\n",
    "- Care required for consistency and correct treatment (e.g. phase conventions, normalisation, etc.).\n",
    "- Formalism and derivations required."
   ]
  },
  {
   "cell_type": "markdown",
   "metadata": {},
   "source": [
    "### ePSproc: workflow with matrix elements"
   ]
  },
  {
   "cell_type": "markdown",
   "metadata": {},
   "source": [
    "The basic ePSproc workflow (from the [original software metapaper](https://www.authorea.com/users/71114/articles/122402/_show_article)) is shown below: essentially, the ePS output file is parsed for photoionization matrix elements, and ancillary data; the matrix elements are the used to calculate properties of interest, such as photoionziation cross-sections and MF-PADs.  For ePSdata, this workflow is applied to each ePS dataset, with a Jupyter notebook as a template. The completed analysis & dataset is then uploaded to Zenodo, and HTML version to ePSdata."
   ]
  },
  {
   "cell_type": "markdown",
   "metadata": {},
   "source": [
    "![ePSproc workflow](https://www.authorea.com/users/71114/articles/122402/master/file/figures/ePSproc_workflow_fig_040816/ePSproc_workflow_fig_040816.png)"
   ]
  }
 ],
 "metadata": {
  "kernelspec": {
   "display_name": "Python 3",
   "language": "python",
   "name": "python3"
  },
  "language_info": {
   "codemirror_mode": {
    "name": "ipython",
    "version": 3
   },
   "file_extension": ".py",
   "mimetype": "text/x-python",
   "name": "python",
   "nbconvert_exporter": "python",
   "pygments_lexer": "ipython3",
   "version": "3.7.3"
  }
 },
 "nbformat": 4,
 "nbformat_minor": 4
}
