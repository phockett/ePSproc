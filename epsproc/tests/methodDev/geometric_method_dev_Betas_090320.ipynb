{
 "cells": [
  {
   "cell_type": "markdown",
   "metadata": {},
   "source": [
    "# Method development - betas with geometric functions\n",
    "\n",
    "09/03/20\n",
    "\n",
    "Aims:\n",
    "\n",
    "- Develop $\\beta_{L,M}$ formalism.\n",
    "- Develop corresponding numerical methods.\n",
    "- Speed things up (see [low-level benchmarking notebook](https://epsproc.readthedocs.io/en/dev/tests/Low_level_bench_tests_Wigner3j_Feb2020.html)).\n",
    "- Analyse geometric terms.\n",
    "\n",
    "For individual functions, see http://localhost:8888/lab/tree/dev/ePSproc/geometric_method_dev_260220.ipynb"
   ]
  },
  {
   "cell_type": "markdown",
   "metadata": {},
   "source": [
    "## Formalism\n",
    "\n",
    "Following [the previous method dev notebook](), set up $\\beta_{LM}$ calculations as:\n",
    "\n",
    "\\begin{eqnarray*}\n",
    "\\beta_{L,-M}^{\\mu_{i},\\mu_{f}} & = & \\sum_{P,R',R}{E_{P-R}(\\hat{e};\\mu_{0})}\\sum_{l,m,\\mu}\\sum_{l',m',\\mu'}(-1)^{(\\mu'-\\mu_{0})}{\\Lambda_{R',R}(R_{\\hat{n}};\\mu,P,R,R')B_{L,-M}(l,l',m,m')}I_{l,m,\\mu}^{p_{i}\\mu_{i},p_{f}\\mu_{f}}(E)I_{l',m',\\mu'}^{p_{i}\\mu_{i},p_{f}\\mu_{f}*}(E)\n",
    "\\end{eqnarray*}\n",
    "\n",
    "\n",
    "In the previous notebook, methods were developed and tested; here, test with example matrix elements, and compare with standard results."
   ]
  },
  {
   "cell_type": "markdown",
   "metadata": {},
   "source": [
    "## Setup"
   ]
  },
  {
   "cell_type": "code",
   "execution_count": 1,
   "metadata": {},
   "outputs": [
    {
     "name": "stdout",
     "output_type": "stream",
     "text": [
      "* pyevtk not found, VTK export not available. \n"
     ]
    }
   ],
   "source": [
    "# Imports\n",
    "import numpy as np\n",
    "import pandas as pd\n",
    "import xarray as xr\n",
    "from functools import lru_cache  # For function result caching\n",
    "\n",
    "# Special functions\n",
    "# from scipy.special import sph_harm\n",
    "import spherical_functions as sf\n",
    "import quaternion\n",
    "\n",
    "# Performance & benchmarking libraries\n",
    "# from joblib import Memory\n",
    "# import xyzpy as xyz\n",
    "import numba as nb\n",
    "\n",
    "# Timings with ttictoc\n",
    "# https://github.com/hector-sab/ttictoc\n",
    "# from ttictoc import TicToc\n",
    "\n",
    "# Package fns.\n",
    "# For module testing, include path to module here\n",
    "import sys\n",
    "import os\n",
    "modPath = r'D:\\code\\github\\ePSproc'  # Win test machine\n",
    "# modPath = r'/home/femtolab/github/ePSproc/'  # Linux test machine\n",
    "sys.path.append(modPath)\n",
    "import epsproc as ep\n",
    "# TODO: tidy this up!\n",
    "from epsproc.util import matEleSelector\n",
    "from epsproc.geomFunc import geomCalc"
   ]
  },
  {
   "cell_type": "code",
   "execution_count": 2,
   "metadata": {},
   "outputs": [
    {
     "name": "stdout",
     "output_type": "stream",
     "text": [
      "*** ePSproc readMatEle(): scanning files for DumpIdy segments.\n",
      "\n",
      "*** Scanning dir\n",
      "D:\\code\\github\\ePSproc\\data\\photoionization\n",
      "Found 2 .out file(s)\n",
      "\n",
      "\n",
      "*** Reading ePS output file:  D:\\code\\github\\ePSproc\\data\\photoionization\\n2_3sg_0.1-50.1eV_A2.inp.out\n",
      "Expecting 51 energy points.\n",
      "Expecting 2 symmetries.\n",
      "Scanning CrossSection segments.\n",
      "Expecting 102 DumpIdy segments.\n",
      "Found 102 dumpIdy segments (sets of matrix elements).\n",
      "\n",
      "Processing segments to Xarrays...\n",
      "Processed 102 sets of DumpIdy file segments, (0 blank)\n",
      "\n",
      "*** Reading ePS output file:  D:\\code\\github\\ePSproc\\data\\photoionization\\no2_demo_ePS.out\n",
      "Expecting 1 energy points.\n",
      "Expecting 3 symmetries.\n",
      "Scanning CrossSection segments.\n",
      "Expecting 3 DumpIdy segments.\n",
      "Found 3 dumpIdy segments (sets of matrix elements).\n",
      "\n",
      "Processing segments to Xarrays...\n",
      "Processed 3 sets of DumpIdy file segments, (0 blank)\n",
      "*** ePSproc readMatEle(): scanning files for CrossSection segments.\n",
      "\n",
      "*** Scanning dir\n",
      "D:\\code\\github\\ePSproc\\data\\photoionization\n",
      "Found 2 .out file(s)\n",
      "\n",
      "\n",
      "*** Reading ePS output file:  D:\\code\\github\\ePSproc\\data\\photoionization\\n2_3sg_0.1-50.1eV_A2.inp.out\n",
      "Expecting 51 energy points.\n",
      "Expecting 2 symmetries.\n",
      "Scanning CrossSection segments.\n",
      "Expecting 3 CrossSection segments.\n",
      "Found 3 CrossSection segments (sets of results).\n",
      "Processed 3 sets of CrossSection file segments, (0 blank)\n",
      "\n",
      "*** Reading ePS output file:  D:\\code\\github\\ePSproc\\data\\photoionization\\no2_demo_ePS.out\n",
      "Expecting 1 energy points.\n",
      "Expecting 3 symmetries.\n",
      "Scanning CrossSection segments.\n",
      "Expecting 4 CrossSection segments.\n",
      "Found 4 CrossSection segments (sets of results).\n",
      "Processed 4 sets of CrossSection file segments, (0 blank)\n"
     ]
    }
   ],
   "source": [
    "# Load data from modPath\\data\n",
    "dataPath = os.path.join(modPath, 'data', 'photoionization')\n",
    "dataFile = os.path.join(dataPath, 'n2_3sg_0.1-50.1eV_A2.inp.out')  # Set for sample N2 data for testing\n",
    "\n",
    "# Scan data file\n",
    "# dataSet = ep.readMatEle(fileIn = dataFile)\n",
    "# dataXS = ep.readMatEle(fileIn = dataFile, recordType = 'CrossSection')  # XS info currently not set in NO2 sample file.\n",
    "dataSet = ep.readMatEle(fileBase = dataPath)\n",
    "dataXS = ep.readMatEle(fileBase = dataPath, recordType = 'CrossSection')  # XS info currently not set in NO2 sample file."
   ]
  },
  {
   "cell_type": "code",
   "execution_count": 3,
   "metadata": {},
   "outputs": [
    {
     "name": "stdout",
     "output_type": "stream",
     "text": [
      "Plotting data n2_3sg_0.1-50.1eV_A2.inp.out, pType=r, thres=0.01, with Seaborn\n"
     ]
    },
    {
     "name": "stderr",
     "output_type": "stream",
     "text": [
      "C:\\Users\\femtolab\\.conda\\envs\\ePSdev\\lib\\site-packages\\xarray\\core\\nputils.py:215: RuntimeWarning:\n",
      "\n",
      "All-NaN slice encountered\n",
      "\n",
      "No handles with labels found to put in legend.\n"
     ]
    },
    {
     "data": {
      "text/html": [
       "<div>\n",
       "<style scoped>\n",
       "    .dataframe tbody tr th:only-of-type {\n",
       "        vertical-align: middle;\n",
       "    }\n",
       "\n",
       "    .dataframe tbody tr th {\n",
       "        vertical-align: top;\n",
       "    }\n",
       "\n",
       "    .dataframe thead tr th {\n",
       "        text-align: left;\n",
       "    }\n",
       "\n",
       "    .dataframe thead tr:last-of-type th {\n",
       "        text-align: right;\n",
       "    }\n",
       "</style>\n",
       "<table border=\"1\" class=\"dataframe\">\n",
       "  <thead>\n",
       "    <tr>\n",
       "      <th></th>\n",
       "      <th></th>\n",
       "      <th></th>\n",
       "      <th>l</th>\n",
       "      <th colspan=\"3\" halign=\"left\">1</th>\n",
       "      <th colspan=\"3\" halign=\"left\">3</th>\n",
       "    </tr>\n",
       "    <tr>\n",
       "      <th></th>\n",
       "      <th></th>\n",
       "      <th></th>\n",
       "      <th>m</th>\n",
       "      <th>-1</th>\n",
       "      <th>0</th>\n",
       "      <th>1</th>\n",
       "      <th>-1</th>\n",
       "      <th>0</th>\n",
       "      <th>1</th>\n",
       "    </tr>\n",
       "    <tr>\n",
       "      <th>Cont</th>\n",
       "      <th>Targ</th>\n",
       "      <th>Total</th>\n",
       "      <th>mu</th>\n",
       "      <th></th>\n",
       "      <th></th>\n",
       "      <th></th>\n",
       "      <th></th>\n",
       "      <th></th>\n",
       "      <th></th>\n",
       "    </tr>\n",
       "  </thead>\n",
       "  <tbody>\n",
       "    <tr>\n",
       "      <th rowspan=\"2\" valign=\"top\">PU</th>\n",
       "      <th rowspan=\"2\" valign=\"top\">SG</th>\n",
       "      <th rowspan=\"2\" valign=\"top\">PU</th>\n",
       "      <th>-1</th>\n",
       "      <td>0.000000</td>\n",
       "      <td>0.00000</td>\n",
       "      <td>-6.203556</td>\n",
       "      <td>0.000000</td>\n",
       "      <td>0.000000</td>\n",
       "      <td>-2.090641</td>\n",
       "    </tr>\n",
       "    <tr>\n",
       "      <th>1</th>\n",
       "      <td>-6.203556</td>\n",
       "      <td>0.00000</td>\n",
       "      <td>0.000000</td>\n",
       "      <td>-2.090641</td>\n",
       "      <td>0.000000</td>\n",
       "      <td>0.000000</td>\n",
       "    </tr>\n",
       "    <tr>\n",
       "      <th>SU</th>\n",
       "      <th>SG</th>\n",
       "      <th>SU</th>\n",
       "      <th>0</th>\n",
       "      <td>0.000000</td>\n",
       "      <td>6.24652</td>\n",
       "      <td>0.000000</td>\n",
       "      <td>0.000000</td>\n",
       "      <td>2.605768</td>\n",
       "      <td>0.000000</td>\n",
       "    </tr>\n",
       "  </tbody>\n",
       "</table>\n",
       "</div>"
      ],
      "text/plain": [
       "l                          1                            3                    \n",
       "m                         -1        0         1        -1         0         1\n",
       "Cont Targ Total mu                                                           \n",
       "PU   SG   PU    -1  0.000000  0.00000 -6.203556  0.000000  0.000000 -2.090641\n",
       "                 1 -6.203556  0.00000  0.000000 -2.090641  0.000000  0.000000\n",
       "SU   SG   SU     0  0.000000  6.24652  0.000000  0.000000  2.605768  0.000000"
      ]
     },
     "execution_count": 3,
     "metadata": {},
     "output_type": "execute_result"
    },
    {
     "data": {
      "image/png": "[encoded data removed]",
      "text/plain": [
       "<Figure size 1200x1200 with 5 Axes>"
      ]
     },
     "metadata": {},
     "output_type": "display_data"
    }
   ],
   "source": [
    "# Set for a single set of matrix elements for testing\n",
    "dataNsel = 0\n",
    "matE = matEleSelector(dataSet[dataNsel], thres = 1e-2, inds = {'Eke':0.1, 'it':1, 'Type':'L'})\n",
    "# matE = matEleSelector(dataSet[dataNsel], thres = 1e-2, inds = {'it':1, 'Type':'L'})\n",
    "\n",
    "# Plot vs. (l,m)\n",
    "daPlot, daPlotpd, legendList, gFig = ep.lmPlot(matE, plotDims = ['Cont', 'Targ', 'Total', 'mu'], xDim = {'LM':['l','m']}, pType = 'r')\n",
    "daPlotpd"
   ]
  },
  {
   "cell_type": "code",
   "execution_count": 4,
   "metadata": {},
   "outputs": [],
   "source": [
    "# Test muiltiplication by pairs...\n",
    "matEconj = matE.copy().conj()\n",
    "matEconj = matEconj.unstack().rename({'l':'lp','m':'mp','mu':'mup'})\n",
    "\n",
    "matEmult = matEconj * matE.unstack()\n",
    "matEmult.attrs['dataType'] = 'multTest'"
   ]
  },
  {
   "cell_type": "code",
   "execution_count": 5,
   "metadata": {},
   "outputs": [
    {
     "data": {
      "text/plain": [
       "Coordinates:\n",
       "    Ehv      float64 15.68\n",
       "  * mup      (mup) int64 -1 0 1\n",
       "    Type     <U1 'L'\n",
       "    it       int64 1\n",
       "    Eke      float64 0.1\n",
       "    SF       complex128 (2.1560627+3.741674j)\n",
       "  * lp       (lp) int64 1 3\n",
       "  * mp       (mp) int64 -1 0 1\n",
       "  * Cont     (Cont) object 'PU' 'SU'\n",
       "  * Targ     (Targ) object 'SG'\n",
       "  * Total    (Total) object 'PU' 'SU'\n",
       "  * mu       (mu) int64 -1 0 1\n",
       "  * l        (l) int64 1 3\n",
       "  * m        (m) int64 -1 0 1"
      ]
     },
     "execution_count": 5,
     "metadata": {},
     "output_type": "execute_result"
    }
   ],
   "source": [
    "matEmult.coords"
   ]
  },
  {
   "cell_type": "code",
   "execution_count": 6,
   "metadata": {},
   "outputs": [
    {
     "data": {
      "text/html": [
       "<pre>&lt;xarray.DataArray &#x27;n2_3sg_0.1-50.1eV_A2.inp.out&#x27; (Cont: 2, Total: 2)&gt;\n",
       "array([[       nan+nanj,        nan+nanj],\n",
       "       [       nan+nanj, -0.7915971 +0.j]])\n",
       "Coordinates:\n",
       "    Ehv      float64 15.68\n",
       "    mup      int64 0\n",
       "    Type     &lt;U1 &#x27;L&#x27;\n",
       "    it       int64 1\n",
       "    Eke      float64 0.1\n",
       "    SF       complex128 (2.1560627+3.741674j)\n",
       "    mp       int64 0\n",
       "  * Cont     (Cont) object &#x27;PU&#x27; &#x27;SU&#x27;\n",
       "    Targ     &lt;U2 &#x27;SG&#x27;\n",
       "  * Total    (Total) object &#x27;PU&#x27; &#x27;SU&#x27;\n",
       "    mu       int64 0\n",
       "    m        int64 0</pre>"
      ],
      "text/plain": [
       "<xarray.DataArray 'n2_3sg_0.1-50.1eV_A2.inp.out' (Cont: 2, Total: 2)>\n",
       "array([[       nan+nanj,        nan+nanj],\n",
       "       [       nan+nanj, -0.7915971 +0.j]])\n",
       "Coordinates:\n",
       "    Ehv      float64 15.68\n",
       "    mup      int64 0\n",
       "    Type     <U1 'L'\n",
       "    it       int64 1\n",
       "    Eke      float64 0.1\n",
       "    SF       complex128 (2.1560627+3.741674j)\n",
       "    mp       int64 0\n",
       "  * Cont     (Cont) object 'PU' 'SU'\n",
       "    Targ     <U2 'SG'\n",
       "  * Total    (Total) object 'PU' 'SU'\n",
       "    mu       int64 0\n",
       "    m        int64 0"
      ]
     },
     "execution_count": 6,
     "metadata": {},
     "output_type": "execute_result"
    }
   ],
   "source": [
    "# Check individual terms and summations.\n",
    "l13 = (matEconj * matE.unstack()).sel({'l':1,'m':0,'lp':3,'mp':0,'mu':0,'mup':0}).squeeze()\n",
    "l31 = (matEconj * matE.unstack()).sel({'l':3,'m':0,'lp':1,'mp':0,'mu':0,'mup':0}).squeeze()\n",
    "\n",
    "# Sum should give real valued term only in this case...\n",
    "l13 + l31"
   ]
  },
  {
   "cell_type": "code",
   "execution_count": 7,
   "metadata": {},
   "outputs": [
    {
     "name": "stderr",
     "output_type": "stream",
     "text": [
      "C:\\Users\\femtolab\\.conda\\envs\\ePSdev\\lib\\site-packages\\xarray\\core\\nputils.py:215: RuntimeWarning:\n",
      "\n",
      "All-NaN slice encountered\n",
      "\n"
     ]
    },
    {
     "name": "stdout",
     "output_type": "stream",
     "text": [
      "Plotting data (No filename), pType=r, thres=0.01, with Seaborn\n"
     ]
    },
    {
     "name": "stderr",
     "output_type": "stream",
     "text": [
      "No handles with labels found to put in legend.\n"
     ]
    },
    {
     "data": {
      "text/html": [
       "<div>\n",
       "<style scoped>\n",
       "    .dataframe tbody tr th:only-of-type {\n",
       "        vertical-align: middle;\n",
       "    }\n",
       "\n",
       "    .dataframe tbody tr th {\n",
       "        vertical-align: top;\n",
       "    }\n",
       "\n",
       "    .dataframe thead tr th {\n",
       "        text-align: left;\n",
       "    }\n",
       "\n",
       "    .dataframe thead tr:last-of-type th {\n",
       "        text-align: right;\n",
       "    }\n",
       "</style>\n",
       "<table border=\"1\" class=\"dataframe\">\n",
       "  <thead>\n",
       "    <tr>\n",
       "      <th></th>\n",
       "      <th></th>\n",
       "      <th></th>\n",
       "      <th></th>\n",
       "      <th></th>\n",
       "      <th></th>\n",
       "      <th>l</th>\n",
       "      <th colspan=\"3\" halign=\"left\">1</th>\n",
       "      <th colspan=\"3\" halign=\"left\">3</th>\n",
       "    </tr>\n",
       "    <tr>\n",
       "      <th></th>\n",
       "      <th></th>\n",
       "      <th></th>\n",
       "      <th></th>\n",
       "      <th></th>\n",
       "      <th></th>\n",
       "      <th>m</th>\n",
       "      <th>-1</th>\n",
       "      <th>0</th>\n",
       "      <th>1</th>\n",
       "      <th>-1</th>\n",
       "      <th>0</th>\n",
       "      <th>1</th>\n",
       "    </tr>\n",
       "    <tr>\n",
       "      <th>Cont</th>\n",
       "      <th>Targ</th>\n",
       "      <th>Total</th>\n",
       "      <th>lp</th>\n",
       "      <th>mp</th>\n",
       "      <th>mu</th>\n",
       "      <th>mup</th>\n",
       "      <th></th>\n",
       "      <th></th>\n",
       "      <th></th>\n",
       "      <th></th>\n",
       "      <th></th>\n",
       "      <th></th>\n",
       "    </tr>\n",
       "  </thead>\n",
       "  <tbody>\n",
       "    <tr>\n",
       "      <th rowspan=\"8\" valign=\"top\">PU</th>\n",
       "      <th rowspan=\"8\" valign=\"top\">SG</th>\n",
       "      <th rowspan=\"8\" valign=\"top\">PU</th>\n",
       "      <th rowspan=\"4\" valign=\"top\">1</th>\n",
       "      <th rowspan=\"2\" valign=\"top\">-1</th>\n",
       "      <th>-1</th>\n",
       "      <th>1</th>\n",
       "      <td>0.000000</td>\n",
       "      <td>0.000000</td>\n",
       "      <td>3.556042</td>\n",
       "      <td>0.000000</td>\n",
       "      <td>0.000000</td>\n",
       "      <td>0.248403</td>\n",
       "    </tr>\n",
       "    <tr>\n",
       "      <th>1</th>\n",
       "      <th>1</th>\n",
       "      <td>3.556042</td>\n",
       "      <td>0.000000</td>\n",
       "      <td>0.000000</td>\n",
       "      <td>0.248403</td>\n",
       "      <td>0.000000</td>\n",
       "      <td>0.000000</td>\n",
       "    </tr>\n",
       "    <tr>\n",
       "      <th rowspan=\"2\" valign=\"top\">1</th>\n",
       "      <th>-1</th>\n",
       "      <th>-1</th>\n",
       "      <td>0.000000</td>\n",
       "      <td>0.000000</td>\n",
       "      <td>3.556042</td>\n",
       "      <td>0.000000</td>\n",
       "      <td>0.000000</td>\n",
       "      <td>0.248403</td>\n",
       "    </tr>\n",
       "    <tr>\n",
       "      <th>1</th>\n",
       "      <th>-1</th>\n",
       "      <td>3.556042</td>\n",
       "      <td>0.000000</td>\n",
       "      <td>0.000000</td>\n",
       "      <td>0.248403</td>\n",
       "      <td>0.000000</td>\n",
       "      <td>0.000000</td>\n",
       "    </tr>\n",
       "    <tr>\n",
       "      <th rowspan=\"4\" valign=\"top\">3</th>\n",
       "      <th rowspan=\"2\" valign=\"top\">-1</th>\n",
       "      <th>-1</th>\n",
       "      <th>1</th>\n",
       "      <td>0.000000</td>\n",
       "      <td>0.000000</td>\n",
       "      <td>0.248403</td>\n",
       "      <td>0.000000</td>\n",
       "      <td>0.000000</td>\n",
       "      <td>0.368290</td>\n",
       "    </tr>\n",
       "    <tr>\n",
       "      <th>1</th>\n",
       "      <th>1</th>\n",
       "      <td>0.248403</td>\n",
       "      <td>0.000000</td>\n",
       "      <td>0.000000</td>\n",
       "      <td>0.368290</td>\n",
       "      <td>0.000000</td>\n",
       "      <td>0.000000</td>\n",
       "    </tr>\n",
       "    <tr>\n",
       "      <th rowspan=\"2\" valign=\"top\">1</th>\n",
       "      <th>-1</th>\n",
       "      <th>-1</th>\n",
       "      <td>0.000000</td>\n",
       "      <td>0.000000</td>\n",
       "      <td>0.248403</td>\n",
       "      <td>0.000000</td>\n",
       "      <td>0.000000</td>\n",
       "      <td>0.368290</td>\n",
       "    </tr>\n",
       "    <tr>\n",
       "      <th>1</th>\n",
       "      <th>-1</th>\n",
       "      <td>0.248403</td>\n",
       "      <td>0.000000</td>\n",
       "      <td>0.000000</td>\n",
       "      <td>0.368290</td>\n",
       "      <td>0.000000</td>\n",
       "      <td>0.000000</td>\n",
       "    </tr>\n",
       "    <tr>\n",
       "      <th rowspan=\"2\" valign=\"top\">SU</th>\n",
       "      <th rowspan=\"2\" valign=\"top\">SG</th>\n",
       "      <th rowspan=\"2\" valign=\"top\">SU</th>\n",
       "      <th>1</th>\n",
       "      <th>0</th>\n",
       "      <th>0</th>\n",
       "      <th>0</th>\n",
       "      <td>0.000000</td>\n",
       "      <td>7.496043</td>\n",
       "      <td>0.000000</td>\n",
       "      <td>0.000000</td>\n",
       "      <td>-0.395799</td>\n",
       "      <td>0.000000</td>\n",
       "    </tr>\n",
       "    <tr>\n",
       "      <th>3</th>\n",
       "      <th>0</th>\n",
       "      <th>0</th>\n",
       "      <th>0</th>\n",
       "      <td>0.000000</td>\n",
       "      <td>-0.395799</td>\n",
       "      <td>0.000000</td>\n",
       "      <td>0.000000</td>\n",
       "      <td>0.661931</td>\n",
       "      <td>0.000000</td>\n",
       "    </tr>\n",
       "  </tbody>\n",
       "</table>\n",
       "</div>"
      ],
      "text/plain": [
       "l                                    1                             3  \\\n",
       "m                                   -1         0         1        -1   \n",
       "Cont Targ Total lp mp mu mup                                           \n",
       "PU   SG   PU    1  -1 -1  1   0.000000  0.000000  3.556042  0.000000   \n",
       "                       1  1   3.556042  0.000000  0.000000  0.248403   \n",
       "                    1 -1 -1   0.000000  0.000000  3.556042  0.000000   \n",
       "                       1 -1   3.556042  0.000000  0.000000  0.248403   \n",
       "                3  -1 -1  1   0.000000  0.000000  0.248403  0.000000   \n",
       "                       1  1   0.248403  0.000000  0.000000  0.368290   \n",
       "                    1 -1 -1   0.000000  0.000000  0.248403  0.000000   \n",
       "                       1 -1   0.248403  0.000000  0.000000  0.368290   \n",
       "SU   SG   SU    1   0  0  0   0.000000  7.496043  0.000000  0.000000   \n",
       "                3   0  0  0   0.000000 -0.395799  0.000000  0.000000   \n",
       "\n",
       "l                                                 \n",
       "m                                    0         1  \n",
       "Cont Targ Total lp mp mu mup                      \n",
       "PU   SG   PU    1  -1 -1  1   0.000000  0.248403  \n",
       "                       1  1   0.000000  0.000000  \n",
       "                    1 -1 -1   0.000000  0.248403  \n",
       "                       1 -1   0.000000  0.000000  \n",
       "                3  -1 -1  1   0.000000  0.368290  \n",
       "                       1  1   0.000000  0.000000  \n",
       "                    1 -1 -1   0.000000  0.368290  \n",
       "                       1 -1   0.000000  0.000000  \n",
       "SU   SG   SU    1   0  0  0  -0.395799  0.000000  \n",
       "                3   0  0  0   0.661931  0.000000  "
      ]
     },
     "execution_count": 7,
     "metadata": {},
     "output_type": "execute_result"
    },
    {
     "data": {
      "image/png": "[encoded data removed]",
      "text/plain": [
       "<Figure size 1200x1200 with 5 Axes>"
      ]
     },
     "metadata": {},
     "output_type": "display_data"
    }
   ],
   "source": [
    "# Plot vs. (l,m)\n",
    "# daPlot, daPlotpd, legendList, gFig = ep.lmPlot(matEmult, plotDims = ['Cont', 'Targ', 'Total', 'lp', 'mp', 'mu', 'mup'], xDim = {'LM':['l','m']}, pType = 'r')\n",
    "daPlot, daPlotpd, legendList, gFig = ep.lmPlot(matEmult, xDim = {'LM':['l','m']}, pType = 'r')\n",
    "daPlotpd"
   ]
  },
  {
   "cell_type": "code",
   "execution_count": 8,
   "metadata": {},
   "outputs": [
    {
     "name": "stderr",
     "output_type": "stream",
     "text": [
      "C:\\Users\\femtolab\\.conda\\envs\\ePSdev\\lib\\site-packages\\xarray\\core\\nputils.py:215: RuntimeWarning:\n",
      "\n",
      "All-NaN slice encountered\n",
      "\n"
     ]
    },
    {
     "name": "stdout",
     "output_type": "stream",
     "text": [
      "Plotting data (No filename), pType=r, thres=0.01, with Seaborn\n"
     ]
    },
    {
     "name": "stderr",
     "output_type": "stream",
     "text": [
      "No handles with labels found to put in legend.\n"
     ]
    },
    {
     "data": {
      "text/html": [
       "<div>\n",
       "<style scoped>\n",
       "    .dataframe tbody tr th:only-of-type {\n",
       "        vertical-align: middle;\n",
       "    }\n",
       "\n",
       "    .dataframe tbody tr th {\n",
       "        vertical-align: top;\n",
       "    }\n",
       "\n",
       "    .dataframe thead tr th {\n",
       "        text-align: left;\n",
       "    }\n",
       "\n",
       "    .dataframe thead tr:last-of-type th {\n",
       "        text-align: right;\n",
       "    }\n",
       "</style>\n",
       "<table border=\"1\" class=\"dataframe\">\n",
       "  <thead>\n",
       "    <tr>\n",
       "      <th></th>\n",
       "      <th></th>\n",
       "      <th></th>\n",
       "      <th>l</th>\n",
       "      <th colspan=\"3\" halign=\"left\">1</th>\n",
       "      <th colspan=\"3\" halign=\"left\">3</th>\n",
       "    </tr>\n",
       "    <tr>\n",
       "      <th></th>\n",
       "      <th></th>\n",
       "      <th></th>\n",
       "      <th>m</th>\n",
       "      <th>-1</th>\n",
       "      <th>0</th>\n",
       "      <th>1</th>\n",
       "      <th>-1</th>\n",
       "      <th>0</th>\n",
       "      <th>1</th>\n",
       "    </tr>\n",
       "    <tr>\n",
       "      <th>Cont</th>\n",
       "      <th>Targ</th>\n",
       "      <th>Total</th>\n",
       "      <th>mu</th>\n",
       "      <th></th>\n",
       "      <th></th>\n",
       "      <th></th>\n",
       "      <th></th>\n",
       "      <th></th>\n",
       "      <th></th>\n",
       "    </tr>\n",
       "  </thead>\n",
       "  <tbody>\n",
       "    <tr>\n",
       "      <th rowspan=\"2\" valign=\"top\">PU</th>\n",
       "      <th rowspan=\"2\" valign=\"top\">SG</th>\n",
       "      <th rowspan=\"2\" valign=\"top\">PU</th>\n",
       "      <th>-1</th>\n",
       "      <td>0.000000</td>\n",
       "      <td>0.000000</td>\n",
       "      <td>14.249028</td>\n",
       "      <td>0.000000</td>\n",
       "      <td>0.000000</td>\n",
       "      <td>13.109674</td>\n",
       "    </tr>\n",
       "    <tr>\n",
       "      <th>1</th>\n",
       "      <td>14.249028</td>\n",
       "      <td>0.000000</td>\n",
       "      <td>0.000000</td>\n",
       "      <td>13.109674</td>\n",
       "      <td>0.000000</td>\n",
       "      <td>0.000000</td>\n",
       "    </tr>\n",
       "    <tr>\n",
       "      <th>SU</th>\n",
       "      <th>SG</th>\n",
       "      <th>SU</th>\n",
       "      <th>0</th>\n",
       "      <td>0.000000</td>\n",
       "      <td>0.860009</td>\n",
       "      <td>0.000000</td>\n",
       "      <td>0.000000</td>\n",
       "      <td>6.170074</td>\n",
       "      <td>0.000000</td>\n",
       "    </tr>\n",
       "  </tbody>\n",
       "</table>\n",
       "</div>"
      ],
      "text/plain": [
       "l                           1                               3            \\\n",
       "m                          -1         0          1         -1         0   \n",
       "Cont Targ Total mu                                                        \n",
       "PU   SG   PU    -1   0.000000  0.000000  14.249028   0.000000  0.000000   \n",
       "                 1  14.249028  0.000000   0.000000  13.109674  0.000000   \n",
       "SU   SG   SU     0   0.000000  0.860009   0.000000   0.000000  6.170074   \n",
       "\n",
       "l                              \n",
       "m                           1  \n",
       "Cont Targ Total mu             \n",
       "PU   SG   PU    -1  13.109674  \n",
       "                 1   0.000000  \n",
       "SU   SG   SU     0   0.000000  "
      ]
     },
     "execution_count": 8,
     "metadata": {},
     "output_type": "execute_result"
    },
    {
     "data": {
      "image/png": "[encoded data removed]",
      "text/plain": [
       "<Figure size 1200x1200 with 5 Axes>"
      ]
     },
     "metadata": {},
     "output_type": "display_data"
    }
   ],
   "source": [
    "# Check differences...\n",
    "matEdiff = matEmult.sum(['lp','mp','mup']) - matE.unstack()\n",
    "matEdiff.attrs['dataType'] = 'matE'\n",
    "daPlot, daPlotpd, legendList, gFig = ep.lmPlot(matEdiff, plotDims = ['Cont', 'Targ', 'Total', 'mu'], xDim = {'LM':['l','m']}, pType = 'r')\n",
    "daPlotpd"
   ]
  },
  {
   "cell_type": "markdown",
   "metadata": {},
   "source": [
    "## Test full multiplication terms...\n",
    "See also http://localhost:8888/lab/tree/dev/ePSproc/geometric_method_dev_260220.ipynb"
   ]
  },
  {
   "cell_type": "code",
   "execution_count": 9,
   "metadata": {},
   "outputs": [],
   "source": [
    "lmax = matE.l.max()\n",
    "p = [0]  # Set single pol state only - NOTE EPR() currently sets all ep=1, need to fix this!\n",
    "\n",
    "# Calculate various tensors...\n",
    "\n",
    "# *** EPR\n",
    "EPRX = geomCalc.EPR(form = 'xarray', p = p).sel({'R-p':0})  # Set for R-p = 0 for p=0 case (redundant coord) - need to fix in e-field mult term!\n",
    "\n",
    "# *** Blm term with specified QNs - see below...\n",
    "# BLMtable = geomCalc.betaTerm(Lmax = lmax, form = 'xdaLM')  "
   ]
  },
  {
   "cell_type": "code",
   "execution_count": 10,
   "metadata": {},
   "outputs": [],
   "source": [
    "# This is the method from BLMCalcLoop() for getting all LM pairs - should work here too\n",
    "\n",
    "import pandas as pd\n",
    "\n",
    "# LMlist = pd.MultiIndex.from_product([matE.SumDim, matE.SumDim], names = ['LM1','LM2'])\n",
    "# indList = pd.MultiIndex.from_product([np.arange(0, matE.size), np.arange(0, matE.size)], names = ['ind1','ind2'])\n",
    "LMlist = pd.MultiIndex.from_product([matE.LM, matE.LM], names = ['lm','lpmp']).unique()\n",
    "indList = pd.MultiIndex.from_product([np.arange(0, matE.size), np.arange(0, matE.size)], names = ['ind1','ind2'])"
   ]
  },
  {
   "cell_type": "code",
   "execution_count": 11,
   "metadata": {},
   "outputs": [],
   "source": [
    "# Generate 3j QNs from matE\n",
    "\n",
    "# Code adapted from genllL() function, to generate all QNs\n",
    "\n",
    "def genllpMatE(matE, uniqueFlag = True, mFlag = True):\n",
    "    # Get QNs from matE\n",
    "    lList = matE.unstack().l.values  # Use unstack here, or np.unique(matE.l), to avoid duplicates\n",
    "    \n",
    "    if mFlag:\n",
    "        mList = matE.unstack().m.values\n",
    "    else:\n",
    "        mList = [0]\n",
    "    \n",
    "    # Set QNs for calculation, (l,m,mp)\n",
    "    QNs = []\n",
    "    for l in lList:\n",
    "        for lp in lList:\n",
    "            print([l,lp])\n",
    "            for m in mList:\n",
    "                for mp in mList:\n",
    "                    for L in np.arange(np.abs(l-lp), l+lp+1):\n",
    "                        M = -(m+mp)\n",
    "                        if np.abs(M) <= L:  # Skip terms with invalid M\n",
    "                            QNs.append([l, lp, L, m, mp, M])\n",
    "\n",
    "    if uniqueFlag:\n",
    "        return np.unique(QNs, axis = 0)\n",
    "    else:\n",
    "        return np.array(QNs)"
   ]
  },
  {
   "cell_type": "code",
   "execution_count": 12,
   "metadata": {},
   "outputs": [
    {
     "name": "stdout",
     "output_type": "stream",
     "text": [
      "[1, 1]\n",
      "[1, 3]\n",
      "[3, 1]\n",
      "[3, 3]\n"
     ]
    }
   ],
   "source": [
    "QNlist = genllpMatE(matE)  # Quite slow... generates 4608x6 values in this case?  NOW FIXED WITH matE.unstack() to avoid duplicates - 128x6 terms now."
   ]
  },
  {
   "cell_type": "code",
   "execution_count": 13,
   "metadata": {},
   "outputs": [],
   "source": [
    "uniquellpL, setllpL, indllpL = np.unique(QNlist, axis = 0, return_inverse = True, return_index = True)  # Returns 128x6"
   ]
  },
  {
   "cell_type": "code",
   "execution_count": 14,
   "metadata": {},
   "outputs": [
    {
     "ename": "TypeError",
     "evalue": "'int' object is not iterable",
     "output_type": "error",
     "traceback": [
      "\u001b[1;31m---------------------------------------------------------------------------\u001b[0m",
      "\u001b[1;31mTypeError\u001b[0m                                 Traceback (most recent call last)",
      "\u001b[1;32m<ipython-input-14-3002246f3fc3>\u001b[0m in \u001b[0;36m<module>\u001b[1;34m\u001b[0m\n\u001b[0;32m     21\u001b[0m \u001b[1;33m\u001b[0m\u001b[0m\n\u001b[0;32m     22\u001b[0m \u001b[1;31m# thrj0 = ep.geomFunc.w3jTable(QNs = genllpMatE(matE, mFlag = False), nonzeroFlag = True, form = 'xdaLM', dlist = ['l', 'lp', 'L', 'm', 'mp', 'M'])\u001b[0m\u001b[1;33m\u001b[0m\u001b[1;33m\u001b[0m\u001b[1;33m\u001b[0m\u001b[0m\n\u001b[1;32m---> 23\u001b[1;33m \u001b[0mQNsM0\u001b[0m \u001b[1;33m=\u001b[0m \u001b[0mep\u001b[0m\u001b[1;33m.\u001b[0m\u001b[0mgeomFunc\u001b[0m\u001b[1;33m.\u001b[0m\u001b[0mgenllpMatE\u001b[0m\u001b[1;33m(\u001b[0m\u001b[0mmatE\u001b[0m\u001b[1;33m,\u001b[0m \u001b[0mmFlag\u001b[0m \u001b[1;33m=\u001b[0m \u001b[1;32mFalse\u001b[0m\u001b[1;33m)\u001b[0m\u001b[1;33m\u001b[0m\u001b[1;33m\u001b[0m\u001b[0m\n\u001b[0m\u001b[0;32m     24\u001b[0m \u001b[0mthrj0\u001b[0m \u001b[1;33m=\u001b[0m \u001b[0mep\u001b[0m\u001b[1;33m.\u001b[0m\u001b[0mgeomFunc\u001b[0m\u001b[1;33m.\u001b[0m\u001b[0mw3jTable\u001b[0m\u001b[1;33m(\u001b[0m\u001b[0mQNs\u001b[0m \u001b[1;33m=\u001b[0m \u001b[0mQNsM0\u001b[0m\u001b[1;33m,\u001b[0m \u001b[0mnonzeroFlag\u001b[0m \u001b[1;33m=\u001b[0m \u001b[1;32mTrue\u001b[0m\u001b[1;33m,\u001b[0m \u001b[0mform\u001b[0m \u001b[1;33m=\u001b[0m \u001b[1;34m'xdaLM'\u001b[0m\u001b[1;33m,\u001b[0m \u001b[0mdlist\u001b[0m \u001b[1;33m=\u001b[0m \u001b[1;33m[\u001b[0m\u001b[1;34m'l'\u001b[0m\u001b[1;33m,\u001b[0m \u001b[1;34m'lp'\u001b[0m\u001b[1;33m,\u001b[0m \u001b[1;34m'L'\u001b[0m\u001b[1;33m,\u001b[0m \u001b[1;34m'm'\u001b[0m\u001b[1;33m,\u001b[0m \u001b[1;34m'mp'\u001b[0m\u001b[1;33m,\u001b[0m \u001b[1;34m'M'\u001b[0m\u001b[1;33m]\u001b[0m\u001b[1;33m)\u001b[0m\u001b[1;33m\u001b[0m\u001b[1;33m\u001b[0m\u001b[0m\n\u001b[0;32m     25\u001b[0m \u001b[0mBLMtable\u001b[0m \u001b[1;33m=\u001b[0m \u001b[0mmPhase\u001b[0m\u001b[1;33m*\u001b[0m\u001b[0mnp\u001b[0m\u001b[1;33m.\u001b[0m\u001b[0msqrt\u001b[0m\u001b[1;33m(\u001b[0m\u001b[0mdegen\u001b[0m\u001b[1;33m)\u001b[0m\u001b[1;33m*\u001b[0m\u001b[0mBLMtable\u001b[0m\u001b[1;33m*\u001b[0m\u001b[0mthrj0\u001b[0m\u001b[1;33m.\u001b[0m\u001b[0mdrop\u001b[0m\u001b[1;33m(\u001b[0m\u001b[1;34m'mSet'\u001b[0m\u001b[1;33m)\u001b[0m\u001b[1;33m.\u001b[0m\u001b[0msqueeze\u001b[0m\u001b[1;33m(\u001b[0m\u001b[1;33m)\u001b[0m\u001b[1;33m\u001b[0m\u001b[1;33m\u001b[0m\u001b[0m\n",
      "\u001b[1;32mD:\\code\\github\\ePSproc\\epsproc\\geomFunc\\geomUtils.py\u001b[0m in \u001b[0;36mgenllpMatE\u001b[1;34m(matE, uniqueFlag, mFlag, phaseConvention)\u001b[0m\n\u001b[0;32m    275\u001b[0m     \u001b[1;32mfor\u001b[0m \u001b[0ml\u001b[0m \u001b[1;32min\u001b[0m \u001b[0mlList\u001b[0m\u001b[1;33m:\u001b[0m\u001b[1;33m\u001b[0m\u001b[1;33m\u001b[0m\u001b[0m\n\u001b[0;32m    276\u001b[0m         \u001b[1;32mfor\u001b[0m \u001b[0mlp\u001b[0m \u001b[1;32min\u001b[0m \u001b[0mlList\u001b[0m\u001b[1;33m:\u001b[0m\u001b[1;33m\u001b[0m\u001b[1;33m\u001b[0m\u001b[0m\n\u001b[1;32m--> 277\u001b[1;33m             \u001b[1;32mfor\u001b[0m \u001b[0mm\u001b[0m \u001b[1;32min\u001b[0m \u001b[0mmList\u001b[0m\u001b[1;33m:\u001b[0m\u001b[1;33m\u001b[0m\u001b[1;33m\u001b[0m\u001b[0m\n\u001b[0m\u001b[0;32m    278\u001b[0m                 \u001b[1;32mfor\u001b[0m \u001b[0mmp\u001b[0m \u001b[1;32min\u001b[0m \u001b[0mmList\u001b[0m\u001b[1;33m:\u001b[0m\u001b[1;33m\u001b[0m\u001b[1;33m\u001b[0m\u001b[0m\n\u001b[0;32m    279\u001b[0m                     \u001b[1;32mfor\u001b[0m \u001b[0mL\u001b[0m \u001b[1;32min\u001b[0m \u001b[0mnp\u001b[0m\u001b[1;33m.\u001b[0m\u001b[0marange\u001b[0m\u001b[1;33m(\u001b[0m\u001b[0mnp\u001b[0m\u001b[1;33m.\u001b[0m\u001b[0mabs\u001b[0m\u001b[1;33m(\u001b[0m\u001b[0ml\u001b[0m\u001b[1;33m-\u001b[0m\u001b[0mlp\u001b[0m\u001b[1;33m)\u001b[0m\u001b[1;33m,\u001b[0m \u001b[0ml\u001b[0m\u001b[1;33m+\u001b[0m\u001b[0mlp\u001b[0m\u001b[1;33m+\u001b[0m\u001b[1;36m1\u001b[0m\u001b[1;33m)\u001b[0m\u001b[1;33m:\u001b[0m\u001b[1;33m\u001b[0m\u001b[1;33m\u001b[0m\u001b[0m\n",
      "\u001b[1;31mTypeError\u001b[0m: 'int' object is not iterable"
     ]
    }
   ],
   "source": [
    "# Test sub-functions...\n",
    "BLMtable = ep.geomFunc.w3jTable(QNs = QNlist, nonzeroFlag = True, form = 'xdaLM', dlist = ['l', 'lp', 'L', 'm', 'mp', 'M'])\n",
    "\n",
    "# try:\n",
    "#     mPhase = np.power(-1, np.abs(BLMtable.m))\n",
    "#     degen = (2*BLMtable.l+1)*(2*BLMtable.lp+1)*((2*BLMtable.L+1))/(4*np.pi)\n",
    "\n",
    "#     # 3j product term\n",
    "# #     BLMtable *= mPhase*np.sqrt(degen)*BLMtable.sel(m=0,mp=0,M=0)\n",
    "#     BLMtable = mPhase.unstack()*np.sqrt(degen.unstack())*BLMtable.unstack() * BLMtable.unstack().sel(m=0,mp=0,M=0)\n",
    "\n",
    "# except KeyError:\n",
    "#     mPhase = np.power(-1, np.abs(BLMtable.m))\n",
    "#     degen = (2*BLMtable.l+1)*(2*BLMtable.lp+1)*((2*BLMtable.L+1))/(4*np.pi)\n",
    "    \n",
    "#     thrj0 = ep.geomFunc.w3jTable(QNs = genllpMatE(matE, mFlag = False), nonzeroFlag = True, form = 'xdaLM', dlist = ['l', 'lp', 'L', 'm', 'mp', 'M'])\n",
    "#     BLMtable = mPhase*np.sqrt(degen)*BLMtable*thrj0.drop('mSet').squeeze()\n",
    "\n",
    "mPhase = np.power(-1, np.abs(BLMtable.m))\n",
    "degen = (2*BLMtable.l+1)*(2*BLMtable.lp+1)*((2*BLMtable.L+1))/(4*np.pi)\n",
    "\n",
    "# thrj0 = ep.geomFunc.w3jTable(QNs = genllpMatE(matE, mFlag = False), nonzeroFlag = True, form = 'xdaLM', dlist = ['l', 'lp', 'L', 'm', 'mp', 'M'])\n",
    "QNsM0 = ep.geomFunc.genllpMatE(matE, mFlag = False)\n",
    "thrj0 = ep.geomFunc.w3jTable(QNs = QNsM0, nonzeroFlag = True, form = 'xdaLM', dlist = ['l', 'lp', 'L', 'm', 'mp', 'M'])\n",
    "BLMtable = mPhase*np.sqrt(degen)*BLMtable*thrj0.drop('mSet').squeeze()"
   ]
  },
  {
   "cell_type": "code",
   "execution_count": null,
   "metadata": {},
   "outputs": [],
   "source": [
    "# *** Blm term with specified QNs\n",
    "BLMtable = geomCalc.betaTerm(QNs = QNlist, form = 'xdaLM')\n",
    "\n",
    "# Apply additional phase convention\n",
    "BLMtableResort = BLMtable.copy().unstack()\n",
    "Mphase = True\n",
    "mphase = True\n",
    "\n",
    "if Mphase:\n",
    "    BLMtableResort['M'] *= -1\n",
    "    BLMtableResort *= np.power(-1, np.abs(BLMtableResort.M))  # Associated phase term\n",
    "    \n",
    "if mphase:\n",
    "    BLMtableResort['m'] *= -1\n",
    "    BLMtableResort *= np.power(-1, np.abs(BLMtableResort.m))  # Associated phase term"
   ]
  },
  {
   "cell_type": "code",
   "execution_count": null,
   "metadata": {},
   "outputs": [],
   "source": [
    "thres = 1e-4\n",
    "plotDimsRed = ['l', 'm', 'lp', 'mp']\n",
    "xDim = {'LM':['L','M']}\n",
    "daPlot, daPlotpd, legendList, gFig = ep.lmPlot(BLMtableResort, plotDims=plotDimsRed, xDim=xDim, pType = 'r', thres = thres)\n",
    "daPlot, daPlotpd, legendList, gFig = ep.lmPlot(BLMtableResort.where(np.abs(BLMtableResort)>thres).dropna('L',how='all'), plotDims=plotDimsRed, xDim=xDim, pType = 'r', thres = thres)\n",
    "daPlot, daPlotpd, legendList, gFig = ep.lmPlot(ep.util.matEleSelector(BLMtableResort, thres = thres, dims=['L','M']), plotDims=plotDimsRed, xDim=xDim, pType = 'r', thres = thres)\n",
    "# These are basically all equivalent, since lmPlot calls matEleSelector."
   ]
  },
  {
   "cell_type": "code",
   "execution_count": null,
   "metadata": {},
   "outputs": [],
   "source": [
    "# With multiplication by matE...\n",
    "# BLMprod = matEmult * BLMtable.unstack()\n",
    "BLMprod = matEmult * BLMtableResort  # Unstacked case with phase correction\n",
    "\n",
    "# plotDimsRed = ['l', 'm', 'lp', 'mp']\n",
    "xDim = {'LM':['L','M']}\n",
    "daPlot, daPlotpd, legendList, gFig = ep.lmPlot(BLMprod, xDim=xDim, pType = 'a')"
   ]
  },
  {
   "cell_type": "code",
   "execution_count": null,
   "metadata": {},
   "outputs": [],
   "source": [
    "# daPlotpd[daPlotpd.abs() >= 0.01].dropna(how='all', axis=1)\n",
    "daPlotpd.dropna(how='all', axis=1)"
   ]
  },
  {
   "cell_type": "code",
   "execution_count": null,
   "metadata": {},
   "outputs": [],
   "source": [
    "# Check complex values...\n",
    "xDim = {'LM':['L','M']}\n",
    "BLMprodpd, _ = ep.util.multiDimXrToPD(BLMprod, colDims=xDim, thres = 1e-2)\n",
    "BLMprodpd"
   ]
  },
  {
   "cell_type": "code",
   "execution_count": null,
   "metadata": {},
   "outputs": [],
   "source": [
    "# Check complex values with summation\n",
    "xDim = {'LM':['L','M']}\n",
    "sumDims = ['l','lp','m','mp', 'Cont', 'Targ', 'Total']\n",
    "BLMprodpd, _ = ep.util.multiDimXrToPD(BLMprod.sum(sumDims), colDims=xDim, thres = 1e-2)\n",
    "BLMprodpd"
   ]
  },
  {
   "cell_type": "markdown",
   "metadata": {},
   "source": [
    "### Polarisation terms"
   ]
  },
  {
   "cell_type": "code",
   "execution_count": null,
   "metadata": {},
   "outputs": [],
   "source": [
    "# *** EPR\n",
    "EPRX = geomCalc.EPR(form = 'xarray', p = p).sel({'R-p':0})  # Set for R-p = 0 for p=0 case (redundant coord) - need to fix in e-field mult term!\n",
    "# EPRXresort = EPRX.unstack().squeeze().drop('l').drop('lp')  # This removes photon (l,lp) dims fully. Note that squeeze() drops all singleton dims to labels here, might be an issue later...!\n",
    "# EPRXresort = EPRX.unstack().drop('l').drop('lp')  # This removes photon (l,lp) dims fully, but keeps (p,R) as singleton dims.\n",
    "EPRXresort = EPRX.unstack().squeeze(['l','lp']).drop(['l','lp'])  # Safe squeeze & drop of selected singleton dims only.\n",
    "\n",
    "Rphase = True\n",
    "if Rphase:\n",
    "    EPRXresort['R'] *= -1\n",
    "\n",
    "# *** Lambda term\n",
    "lambdaTerm, lambdaTable, lambdaD, QNs = geomCalc.MFproj(form = 'xarray', phaseConvention='E')\n",
    "# lambdaTermResort = lambdaTerm.squeeze().drop('l').drop('lp')   # This removes photon (l,lp) singleton dims fully.\n",
    "lambdaTermResort = lambdaTerm.squeeze(['l','lp']).drop(['l','lp'])  # Safe squeeze & drop of selected singleton dims only."
   ]
  },
  {
   "cell_type": "code",
   "execution_count": null,
   "metadata": {},
   "outputs": [],
   "source": [
    "polProd = EPRXresort * lambdaTermResort\n",
    "\n",
    "# Plot all QNs vs. Euler angles (by label)\n",
    "plotDimsRed = ['l', 'lp', 'P', 'mu', 'mup', 'R', 'Rp']\n",
    "xDim = 'Labels'\n",
    "# daPlot, daPlotpd, legendList, gFig = ep.lmPlot(polProd, plotDims=plotDimsRed, xDim=xDim, pType = 'a')   # Plot abs values\n",
    "daPlot, daPlotpd, legendList, gFig = ep.lmPlot(polProd, xDim=xDim, pType = 'a')   # Plot abs values"
   ]
  },
  {
   "cell_type": "code",
   "execution_count": null,
   "metadata": {},
   "outputs": [],
   "source": [
    "# Check complex values\n",
    "xDim = 'Labels'\n",
    "# plotDimsRed = ['l', 'lp', 'P', 'mu', 'mup', 'R', 'Rp']\n",
    "plotDimsRed = ['P', 'mu', 'mup', 'R', 'Rp']\n",
    "# polProd = polProd.drop('Euler').swap_dims({'Euler':'Labels'})\n",
    "# polProd = polProd.swap_dims({'Euler':'Labels'})  # Without drop - this will keep Euler as non-dimensional label\n",
    "polProdpd, _ = ep.util.multiDimXrToPD(polProd, colDims=xDim, rowDims=plotDimsRed, thres = 1e-2)\n",
    "polProdpd"
   ]
  },
  {
   "cell_type": "code",
   "execution_count": null,
   "metadata": {},
   "outputs": [],
   "source": [
    "# Check complex values, R=0 case\n",
    "xDim = 'Labels'\n",
    "plotDimsRed = ['l', 'lp', 'P', 'mu', 'mup', 'R', 'Rp']\n",
    "polProdpd, polProdRestack = ep.util.multiDimXrToPD(polProd.sel({'R':0}), colDims=xDim, rowDims=plotDimsRed, thres = 1e-2)\n",
    "polProdpd"
   ]
  },
  {
   "cell_type": "markdown",
   "metadata": {},
   "source": [
    "### Test full multiplication..."
   ]
  },
  {
   "cell_type": "code",
   "execution_count": null,
   "metadata": {},
   "outputs": [],
   "source": [
    "# Test big mult...\n",
    "mTerm = polProd.sel({'R':0,'Labels':'z'}) * BLMprod.sum(['Total'])    # BLMprod.sum(['Cont', 'Targ', 'Total'])  \n",
    "# Multiplication works OK, and is fast... but might be an ugly result... INDEED - result large and slow to manipulate, lots of dims and NaNs. Better to sub-select terms first!\n",
    "\n",
    "# No subselection, mTerm.size = 6804000\n",
    "# For polProd.sel({'R':0}), mTerm.size = 1360800\n",
    "# For polProd.sel({'R':0,'Labels':'z'}), mTerm.size = 453600\n",
    "# Adding also BLMprod.sum(['Total']), mTerm.size = 226800\n",
    "# Adding also BLMprod.sum(['Cont', 'Targ', 'Total']), mTerm.size = 113400  So, for sym specific calcs, may be better to do split-apply type methods\n",
    "\n",
    "mupPhase = True\n",
    "# Set additional phase term, (-1)^(mup-p)\n",
    "if mupPhase:\n",
    "    mupPhaseTerm = np.power(-1, np.abs(mTerm.mup - mTerm.p))\n",
    "    mTerm = mTerm * mupPhaseTerm\n",
    "    \n",
    "mTerm.attrs['file'] = 'MulTest'  # Temporarily adding this, not sure why this is an issue here however (not an issue for other cases...)"
   ]
  },
  {
   "cell_type": "code",
   "execution_count": null,
   "metadata": {},
   "outputs": [],
   "source": [
    "# sumDims = ['l', 'lp', 'P', 'mu', 'mup', 'Rp', 'm', 'mp']  # Define dims to sum over\n",
    "sumDims = ['P', 'mu', 'mup', 'Rp', ]  # Define dims to sum over\n",
    "# selDims = {'p':0, 'R':0, 'R-p':0}  # Use selDims to select pol state\n",
    "# selDims = {'R':0}  # Use selDims to select pol state\n",
    "# plotDimsRed = ['L','M']\n",
    "plotDimsRed = ['l', 'lp', 'm', 'mp']\n",
    "# xDim = 'Labels'\n",
    "xDim = {'LM':['L','M']}\n",
    "\n",
    "# Getting dataType issue here, although was fixed????\n",
    "mTerm.attrs['dataType'] = '(No dataType)'\n",
    "\n",
    "daPlot, daPlotpd, legendList, gFig = ep.lmPlot(mTerm, plotDims=plotDimsRed, xDim=xDim, sumDims=sumDims, pType = 'a')   # Plot abs values"
   ]
  },
  {
   "cell_type": "code",
   "execution_count": null,
   "metadata": {},
   "outputs": [],
   "source": [
    "# Replicate plotting code for complex-valued tabulation only... Need to sum & threshold first, since this is not done in the same way in multiDimXrToPD()\n",
    "thres = 1e-2\n",
    "mTermSum = mTerm.sum(sumDims).squeeze()\n",
    "mTermSumThres = matEleSelector(mTermSum.stack(xDim), thres=thres, dims = xDim)\n",
    "daPlotpd2, _ = ep.util.multiDimXrToPD(mTermSumThres, colDims=xDim, rowDims=plotDimsRed, thres = thres)\n",
    "daPlotpd2"
   ]
  },
  {
   "cell_type": "code",
   "execution_count": null,
   "metadata": {},
   "outputs": [],
   "source": [
    "thres = 1e-2\n",
    "sumDims = ['P', 'mu', 'mup', 'Rp', 'l','lp','m','mp']  # Define dims to sum over\n",
    "mTermSum = mTerm.sum(sumDims).squeeze()\n",
    "mTermSumThres = matEleSelector(mTermSum.stack(xDim), thres=thres, dims = xDim)\n",
    "daPlotpd2, _ = ep.util.multiDimXrToPD(mTermSumThres, colDims=xDim, rowDims=plotDimsRed, thres = thres)\n",
    "daPlotpd2/daPlotpd2[0][0][1]"
   ]
  },
  {
   "cell_type": "code",
   "execution_count": null,
   "metadata": {},
   "outputs": [],
   "source": [
    "thres = 1e-2\n",
    "sumDims = ['P', 'mu', 'mup', 'Rp', 'l','lp','m','mp','Cont']  # Define dims to sum over\n",
    "mTermSum = mTerm.sum(sumDims).squeeze()\n",
    "mTermSumThres = matEleSelector(mTermSum.stack(xDim), thres=thres, dims = xDim)\n",
    "daPlotpd2, _ = ep.util.multiDimXrToPD(mTermSumThres, colDims='M', thres = thres)\n",
    "daPlotpd2/daPlotpd2[0][0].values\n",
    "# mTermSumThres.unstack()"
   ]
  },
  {
   "cell_type": "code",
   "execution_count": null,
   "metadata": {},
   "outputs": [],
   "source": [
    "# Check complex values with summation - this seems to hang???  Not sure why, since lmPlot() code doesn't.\n",
    "# mTerm.size = 6804000 might be the issue!  Sometimes this is very slow (many seconds, even minutes) to return. Weird - seems intermittent.  Same for .dims method.\n",
    "# Add sum & select in first!\n",
    "\n",
    "xDim = {'LM':['L','M']}\n",
    "sumDims = ['l','lp','m','mp', 'Cont', 'Targ', 'Total']\n",
    "selDims = {'R':0}  # Use selDims to select pol state\n",
    "\n",
    "thres = 1e-2\n",
    "# mTerm = matEleSelector(mTerm, thres=thres, inds = selDims, dims = xDim)   # ...........hangs"
   ]
  },
  {
   "cell_type": "code",
   "execution_count": null,
   "metadata": {},
   "outputs": [],
   "source": [
    "mTermSum = mTerm.sum(sumDims).squeeze()    # Fast...... but then get hang at mTermSum.size!  Intermittent issue? Does Xarray hand off to BG process here?\n",
    "# mTermSum.size  # Eventually returned 47250\n",
    "# daPlot.attrs = data.attrs  # Reset attribs\n",
    "\n",
    "mTermSum = mTermSum.drop('Euler').swap_dims({'Euler':'Labels'})  # Also ...........slow............"
   ]
  },
  {
   "cell_type": "code",
   "execution_count": null,
   "metadata": {},
   "outputs": [],
   "source": [
    "mTermpd, mTermRestack = ep.multiDimXrToPD(mTermSum, colDims=xDim, thres = thres)\n",
    "mTermpd"
   ]
  },
  {
   "cell_type": "code",
   "execution_count": null,
   "metadata": {},
   "outputs": [],
   "source": [
    "# Check complex values\n",
    "xDim = 'Labels'\n",
    "plotDimsRed = ['l', 'lp', 'P', 'mu', 'mup', 'R', 'Rp']\n",
    "polProdpd, _ = ep.multiDimXrToPD(polProd.drop('Euler').swap_dims({'Euler':'Labels'}), colDims=xDim, rowDims=plotDimsRed, thres = 1e-2)\n",
    "polProdpd"
   ]
  },
  {
   "cell_type": "markdown",
   "metadata": {},
   "source": [
    "## Xarray Tensor products...\n",
    "\n",
    "Might be a cleaner way to do some of the numerics... but may (accidentally) loose some X-terms?"
   ]
  },
  {
   "cell_type": "code",
   "execution_count": null,
   "metadata": {},
   "outputs": [],
   "source": [
    "# Demo http://xarray.pydata.org/en/stable/generated/xarray.DataArray.dot.html#xarray.DataArray.dot\n",
    "\n",
    "da_vals = np.arange(6 * 5 * 4).reshape((6, 5, 4))\n",
    "da = xr.DataArray(da_vals, dims=['x', 'y', 'z'])\n",
    "dm_vals = np.arange(4)\n",
    "dm = xr.DataArray(dm_vals, dims=['z'])"
   ]
  },
  {
   "cell_type": "code",
   "execution_count": null,
   "metadata": {},
   "outputs": [],
   "source": [
    "dot_result = da.dot(dm) # Dot product over z"
   ]
  },
  {
   "cell_type": "code",
   "execution_count": null,
   "metadata": {},
   "outputs": [],
   "source": [
    "# Test with matE...\n",
    "matEUS = matE.copy().unstack()\n",
    "\n",
    "matEdot = matEUS.dot(matEUS.conj(), dims = ['lp','mp'])"
   ]
  },
  {
   "cell_type": "code",
   "execution_count": null,
   "metadata": {},
   "outputs": [],
   "source": [
    "daPlot, daPlotpd, legendList, gFig = ep.lmPlot(matEmult.sum(['lp','mp']), xDim = {'LM':['l','m']}, pType = 'r')\n",
    "daPlot2, daPlotpd2, legendList, gFig = ep.lmPlot(matEdot, xDim = {'LM':['l','m']}, pType = 'r')"
   ]
  },
  {
   "cell_type": "markdown",
   "metadata": {},
   "source": [
    "## Functionalise..."
   ]
  },
  {
   "cell_type": "code",
   "execution_count": null,
   "metadata": {},
   "outputs": [],
   "source": [
    "def mfblmXprod(matEin, QNs = None, EPRX = None, p=[0], lambdaTerm = None, BLMtable = None, \n",
    "               thres = 1e-2, thresDims = 'Eke', \n",
    "               selDims = {'it':1, 'Type':'L'}, sumDims = ['mu', 'mup', 'l','lp','m','mp'], sumDimsPol = ['P','R','Rp','p'], symSum = True,\n",
    "               SFflag = True):\n",
    "    \n",
    "    # Fudge - set this for now to enforce additonal unstack and phase corrections later.\n",
    "    BLMtableResort = None\n",
    "    \n",
    "    # Threshold and selection\n",
    "    # Make explicit copy of data to avoid any overwrite issues\n",
    "    matE = matEin.copy()\n",
    "    matE.attrs = matEin.attrs  # May not be necessary with updated Xarray versions\n",
    "\n",
    "    # Use SF (scale factor)\n",
    "    # Write to data.values to make sure attribs are maintained. (Not the case for da = da*da.SF)\n",
    "    if SFflag:\n",
    "        matE.values = matE * matE.SF\n",
    "        \n",
    "    if symSum:\n",
    "        matE = matE.sum('Sym')  # Sum over ['Cont','Targ','Total'] stacked dims.\n",
    "        \n",
    "    matEthres = ep.util.matEleSelector(matE, thres = thres, inds = selDims, dims = thresDims)\n",
    "    \n",
    "    # Set terms if not passed to function\n",
    "    if QNs is None:\n",
    "        QNs = genllpMatE(matEthres)\n",
    "    \n",
    "    #*** Polarization terms\n",
    "    if EPRX is None:\n",
    "        # *** EPR\n",
    "#         EPRX = geomCalc.EPR(form = 'xarray', p = p).sel({'R-p':0})  # Set for R-p = 0 for p=0 case (redundant coord) - need to fix in e-field mult term!\n",
    "        # EPRXresort = EPRX.unstack().squeeze().drop('l').drop('lp')  # This removes photon (l,lp) dims fully. Be careful with squeeze() - sends singleton dims to non-dimensional labels.\n",
    "#         EPRXresort = EPRX.unstack().drop('l').drop('lp')  # This removes photon (l,lp) dims fully, but keeps (p,R) as singleton dims.\n",
    "#         EPRXresort = EPRX.unstack().squeeze(['l','lp']).drop(['l','lp'])  # Safe squeeze & drop of selected singleton dims only.\n",
    "    \n",
    "#         EPRX = geomCalc.EPR(form = 'xarray', p = p).unstack().sum(['p','R-p'])  # Set for general sum over (p,R-p) terms - STILL need to fix in e-field mult term!\n",
    "#         EPRX = geomCalc.EPR(form = 'xarray', p = p).unstack().sum('R-p')  # Set for general sum over (p,R-p) terms - STILL need to fix in e-field mult term!\n",
    "        EPRX = geomCalc.EPR(form = 'xarray', p = p).unstack().sel({'R-p':0}).drop('R-p')\n",
    "        EPRXresort = EPRX.squeeze(['l','lp']).drop(['l','lp'])  # Safe squeeze & drop of selected singleton dims only.\n",
    "\n",
    "        Rphase = True\n",
    "        if Rphase:\n",
    "            EPRXresort['R'] *= -1\n",
    "            \n",
    "    if lambdaTerm is None:\n",
    "        # *** Lambda term\n",
    "        lambdaTerm, lambdaTable, lambdaD, _ = geomCalc.MFproj(form = 'xarray', phaseConvention='E')\n",
    "#         lambdaTermResort = lambdaTerm.squeeze().drop('l').drop('lp')   # This removes photon (l,lp) dims fully.\n",
    "        lambdaTermResort = lambdaTerm.squeeze(['l','lp']).drop(['l','lp'])  # Safe squeeze & drop of selected singleton dims only.\n",
    "    \n",
    "    # *** Blm term with specified QNs\n",
    "    if BLMtable is None:\n",
    "        BLMmPhase = False\n",
    "        QNsBLMtable = QNs.copy()\n",
    "        if BLMmPhase:\n",
    "            QNsBLMtable[:,3] *= -1\n",
    "            QNsBLMtable[:,5] *= -1\n",
    "        \n",
    "        BLMtable = geomCalc.betaTerm(QNs = QNsBLMtable, form = 'xdaLM')\n",
    "        \n",
    "#         if BLMmPhase:\n",
    "#             BLMtable['m'] *= -1\n",
    "     \n",
    "    if BLMtableResort is None:\n",
    "        # Apply additional phase convention\n",
    "        BLMtableResort = BLMtable.copy().unstack()\n",
    "        Mphase = True\n",
    "        mphase = False\n",
    "\n",
    "#         if BLMmPhase:\n",
    "#             BLMtableResort['m'] *= -1  # Sign flip to undo m > -m setting in betaTerm calc.\n",
    "#             BLMtableResort['M'] *= -1  # Sign flip to undo m > -m setting in betaTerm calc.\n",
    "        \n",
    "        if Mphase:\n",
    "            BLMtableResort['M'] *= -1\n",
    "            BLMtableResort *= np.power(-1, np.abs(BLMtableResort.M))  # Associated phase term\n",
    "\n",
    "        if mphase:\n",
    "            BLMtableResort['m'] *= -1\n",
    "            BLMtableResort *= np.power(-1, np.abs(BLMtableResort.m))  # Associated phase term\n",
    "            \n",
    "        \n",
    "            \n",
    "    #*** Thresholding & dim dropping...\n",
    "    # To minimize ND size\n",
    "    # Q: can use matEleSelector here, but might be an issue with large arrays due to copying.\n",
    "    # Using xr.where() directly should prevent array copy.\n",
    "    \n",
    "    matEmax = matEthres.max()  # Set as a scale factor for later\n",
    "    thresScaled = matEmax * thres\n",
    "    \n",
    "    BLMtableResort = ep.util.matEleSelector(BLMtableResort, thres=thresScaled)  # Reduce size before big multiplication\n",
    "    \n",
    "    \n",
    "    #*** Products\n",
    "    # Matrix element pair-wise multiplication by (l,m,mu) dims\n",
    "    matEconj = matEthres.copy().conj()\n",
    "    matEconj = matEconj.unstack().rename({'l':'lp','m':'mp','mu':'mup'})\n",
    "    matEmult = matEconj * matEthres.unstack()\n",
    "    matEmult.attrs['dataType'] = 'multTest'\n",
    "        \n",
    "    # Threshold product and drop dims.\n",
    "    matEmult = ep.util.matEleSelector(matEmult, thres = thres, dims = thresDims)\n",
    "    \n",
    "    # Product terms with similar dims\n",
    "    BLMprod = matEmult * BLMtableResort  # Unstacked case with phase correction\n",
    "    # polProd = (EPRXresort * lambdaTermResort).sum(sumDimsPol)  # Sum polarization terms here to keep total dims minimal in product. Here dims = (mu,mup,Euler/Labels)\n",
    "    polProd = (EPRXresort * lambdaTermResort)  # Without polarization terms sum to allow for mupPhase below (reqs. p)\n",
    "    \n",
    "    mupPhase = True \n",
    "    # Set additional phase term, (-1)^(mup-p)  **** THIS MIGHT BE SPURIOUS FOR GENERAL EPR TENSOR CASE??? Not sure... but definitely won't work if p summed over above!\n",
    "    if mupPhase:\n",
    "        mupPhaseTerm = np.power(-1, np.abs(polProd.mup - polProd.p))\n",
    "#         mupPhaseTerm = np.power(-1, np.abs(mTerm.mup - mTerm.p))\n",
    "#         mupPhaseTerm = np.power(-1, np.abs(mTerm.mup))   # TESTING ONLY, with p already summed over... WITHOUT THIS PU cont (N2 test case) becomes -ve!\n",
    "        polProd *= mupPhaseTerm\n",
    "    \n",
    "    polProd = polProd.sum(sumDimsPol)\n",
    "    \n",
    "    \n",
    "    # Test big mult...\n",
    "#     mTerm = polProd.sel({'R':0,'Labels':'z'}) * BLMprod.sum(['Total'])    # With selection of z geom.  # BLMprod.sum(['Cont', 'Targ', 'Total'])  \n",
    "#     mTerm = polProd.sel({'R':0}) * BLMprod.sum(['Total'])    # BLMprod.sum(['Cont', 'Targ', 'Total'])  \n",
    "    mTerm = polProd * BLMprod\n",
    "    # Multiplication works OK, and is fast... but might be an ugly result... INDEED - result large and slow to manipulate, lots of dims and NaNs. Better to sub-select terms first!\n",
    "\n",
    "    # No subselection, mTerm.size = 6804000\n",
    "    # For polProd.sel({'R':0}), mTerm.size = 1360800\n",
    "    # For polProd.sel({'R':0,'Labels':'z'}), mTerm.size = 453600\n",
    "    # Adding also BLMprod.sum(['Total']), mTerm.size = 226800\n",
    "    # Adding also BLMprod.sum(['Cont', 'Targ', 'Total']), mTerm.size = 113400  So, for sym specific calcs, may be better to do split-apply type methods\n",
    "\n",
    "#     mupPhase = True \n",
    "#     # Set additional phase term, (-1)^(mup-p)  **** THIS MIGHT BE SPURIOUS FOR GENERAL EPR TENSOR CASE??? Not sure... but definitely won't work if p summed over above!\n",
    "#     if mupPhase:\n",
    "# #         mupPhaseTerm = np.power(-1, np.abs(mTerm.mup - mTerm.p))\n",
    "#         mupPhaseTerm = np.power(-1, np.abs(mTerm.mup))   # TESTING ONLY, with p already summed over... WITHOUT THIS PU cont (N2 test case) becomes -ve!\n",
    "#         mTerm = mTerm * mupPhaseTerm\n",
    "\n",
    "    mTerm.attrs['file'] = 'MulTest'  # Temporarily adding this, not sure why this is an issue here however (not an issue for other cases...)\n",
    "    \n",
    "    \n",
    "    # Sum and threshold\n",
    "#     sumDims = ['P', 'mu', 'mup', 'Rp', ]  # Define dims to sum over\n",
    "    xDim = {'LM':['L','M']}\n",
    "    mTermSum = mTerm.sum(sumDims).squeeze()\n",
    "    mTermSumThres = matEleSelector(mTermSum.stack(xDim), thres=thres, dims = thresDims)\n",
    "#     mTermSumThres = mTermSum\n",
    "    \n",
    "    # Normalise\n",
    "    # TODO: Set XS as per old mfpad()\n",
    "#     BLMXout['XS'] = (('Eke','Euler'), BLMXout[0].data)  # Set XS = B00\n",
    "#     BLMXout = BLMXout/BLMXout.XS  # Normalise\n",
    "    mTermSumThres['XS'] = mTermSumThres.sel({'L':0,'M':0}).drop('LM').copy()  # This basically works, and keeps all non-summed dims. Make sure to .copy(), otherwise it's just a pointer.\n",
    "    mTermSumThres /=  mTermSumThres['XS']    # mTermSumThres.sel({'L':0,'M':0}).drop('LM')\n",
    "    mTermSumThres.attrs['dataType'] = 'multTest'\n",
    "    \n",
    "    return mTermSumThres, mTermSum, mTerm\n",
    "    "
   ]
  },
  {
   "cell_type": "code",
   "execution_count": null,
   "metadata": {},
   "outputs": [],
   "source": [
    "# Test fn\n",
    "mTermST, mTermS, mTermTest = mfblmXprod(matE, QNs = None, selDims = None, thresDims= None)"
   ]
  },
  {
   "cell_type": "code",
   "execution_count": null,
   "metadata": {},
   "outputs": [],
   "source": [
    "# Full results (before summation)\n",
    "plotDimsRed = ['l', 'lp', 'm', 'mp']\n",
    "# xDim = 'Labels'\n",
    "xDim = {'LM':['L','M']}\n",
    "daPlot, daPlotpd, legendList, gFig = ep.lmPlot(mTermTest, plotDims=None, xDim=xDim, sumDims=None, pType = 'a')   # Plot abs values"
   ]
  },
  {
   "cell_type": "code",
   "execution_count": null,
   "metadata": {},
   "outputs": [],
   "source": [
    "# Table is too big, not very useful!\n",
    "mTermTestpd, _ = ep.util.multiDimXrToPD(mTermTest, colDims=xDim, thres = 1e-2, dropna=True)\n",
    "mTermTestpd # .dropna(how='all', axis=0)"
   ]
  },
  {
   "cell_type": "code",
   "execution_count": null,
   "metadata": {},
   "outputs": [],
   "source": [
    "# Check summed terms, OK - NOTE this needs stack() first\n",
    "mTermpd, mTermRestack = ep.util.multiDimXrToPD(mTermS.stack(xDim), colDims=xDim, thres = 1e-2)\n",
    "mTermpd"
   ]
  },
  {
   "cell_type": "markdown",
   "metadata": {},
   "source": [
    "### TEST VS. E and/or pol geom... NOTEBOOK VERSION\n",
    "Looks good.\n",
    "\n",
    "- mTermST, mTermS, mTermTest = mfblmXprod(dataSet[0], QNs = None, thres = 1e-2, selDims = {'it':1, 'Type':'L'}, thresDims= None)\n",
    "~12s\n",
    "\n",
    "- mTermST, mTermS, mTermTest = mfblmXprod(dataSet[0], QNs = None, thres = 1e-4, selDims = {'it':1, 'Type':'L'}, thresDims= None)\n",
    "~24s\n",
    "\n",
    "Note high RAM useage, ~5-8Gb in latter case.  Might be nicer (and faster?) to group by (Eke, pol) and parallelize?"
   ]
  },
  {
   "cell_type": "code",
   "execution_count": null,
   "metadata": {},
   "outputs": [],
   "source": [
    "import time\n",
    "\n",
    "symSum = True\n",
    "\n",
    "start = time.time()\n",
    "mTermST, mTermS, mTermTest = mfblmXprod(dataSet[0], QNs = None, thres = 1e-2, selDims = {'it':1, 'Type':'L'}, thresDims= None, symSum=symSum)\n",
    "end = time.time()\n",
    "print('Elapsed time = {0} seconds, for {1} energy points.'.format((end-start), mTermST.Eke.size))"
   ]
  },
  {
   "cell_type": "code",
   "execution_count": null,
   "metadata": {},
   "outputs": [],
   "source": [
    "# Full results (before summation)\n",
    "# plotDimsRed = ['l', 'lp', 'm', 'mp']\n",
    "# xDim = 'Labels'\n",
    "xDim = {'LM':['L','M']}\n",
    "# daPlot, daPlotpd, legendList, gFig = ep.lmPlot(mTermST, plotDims=['Cont','L','M'], xDim='Eke', sumDims=None, pType = 'a')   # Plot abs values\n",
    "daPlot, daPlotpd, legendList, gFig = ep.lmPlot(mTermST, xDim='Eke', sumDims=None, pType = 'a', thres = 0.01)   # BUG - this isn't working in this case???  Fails during pd conversion. NOW FIXED - set() and list() type issue!"
   ]
  },
  {
   "cell_type": "code",
   "execution_count": null,
   "metadata": {},
   "outputs": [],
   "source": [
    "# Full results (before summation)\n",
    "plotDimsRed = ['Labels','Cont','L','M']\n",
    "# xDim = 'Labels'\n",
    "xDim = {'LM':['L','M']}\n",
    "daPlot, daPlotpd, legendList, gFig = ep.lmPlot(mTermST, plotDims=plotDimsRed, xDim='Eke', sumDims=None, pType = 'r')   # Plot abs values"
   ]
  },
  {
   "cell_type": "code",
   "execution_count": null,
   "metadata": {},
   "outputs": [],
   "source": [
    "# mTermST.XS.sum(['Cont', 'Total']).real.squeeze().plot.line(x='Eke', col='Labels');\n",
    "if symSum:\n",
    "    mTermST.XS.real.squeeze().plot.line(x='Eke', col='Labels');\n",
    "    mTermST.XS.pipe(np.abs).squeeze().plot.line(x='Eke', col='Labels');\n",
    "    \n",
    "else:\n",
    "    mTermST.stack({'Sym':['Cont','Total']}).XS.real.squeeze().plot.line(x='Eke', col='Labels');\n",
    "    mTermST.XS.sum(['Cont', 'Total']).pipe(np.abs).squeeze().plot.line(x='Eke', col='Labels');\n"
   ]
  },
  {
   "cell_type": "code",
   "execution_count": null,
   "metadata": {},
   "outputs": [],
   "source": [
    "if symSum:\n",
    "    ep.util.matEleSelector(mTermST, thres = 0.1, dims='Eke').real.squeeze().plot.line(x='Eke', col='Labels');\n",
    "else:\n",
    "    ep.util.matEleSelector(mTermST.sum(['Cont', 'Total']), thres = 0.1, dims='Eke').real.squeeze().plot.line(x='Eke', col='Labels');"
   ]
  },
  {
   "cell_type": "code",
   "execution_count": null,
   "metadata": {},
   "outputs": [],
   "source": [
    "# Full results (before summation)\n",
    "plotDimsRed = ['Labels', 'L','M']\n",
    "# xDim = 'Labels'\n",
    "xDim = {'LM':['L','M']}\n",
    "daPlot, daPlotpd, legendList, gFig = ep.lmPlot(mTermST, plotDims=plotDimsRed, xDim='Eke', sumDims=None, pType = 'a')   # Plot abs values"
   ]
  },
  {
   "cell_type": "code",
   "execution_count": null,
   "metadata": {},
   "outputs": [],
   "source": [
    "# Full results with Cont summation\n",
    "plotDimsRed = ['Labels','L','M']\n",
    "# xDim = 'Labels'\n",
    "xDim = {'LM':['L','M']}\n",
    "daPlot, daPlotpd, legendList, gFig = ep.lmPlot(mTermST, plotDims=plotDimsRed, xDim='Eke', sumDims='Cont', pType = 'a')   # Plot abs values"
   ]
  },
  {
   "cell_type": "code",
   "execution_count": null,
   "metadata": {},
   "outputs": [],
   "source": [
    "mTermpd, mTermRestack = ep.util.multiDimXrToPD(mTermST, colDims='Eke', thres = None)\n",
    "mTermpd.fillna(0)"
   ]
  },
  {
   "cell_type": "markdown",
   "metadata": {},
   "source": [
    "### TEST VS. E and/or pol geom... PACKAGE VERSION\n",
    "\n",
    "24/03/20 - package version now includes setPhaseConventions() for easier testing."
   ]
  },
  {
   "cell_type": "code",
   "execution_count": null,
   "metadata": {},
   "outputs": [],
   "source": [
    "# Reload if necessary - WORKS in SPYDER, but not in Jupyter Lab?\n",
    "# from importlib import reload # Python 3.4+ only.\n",
    "# # import epsproc.util as epUtil\n",
    "\n",
    "# # epUtil = reload(epUtil)\n",
    "# ep = reload(ep)"
   ]
  },
  {
   "cell_type": "markdown",
   "metadata": {},
   "source": [
    "### Setup"
   ]
  },
  {
   "cell_type": "code",
   "execution_count": null,
   "metadata": {},
   "outputs": [],
   "source": [
    "# Imports\n",
    "import numpy as np\n",
    "import pandas as pd\n",
    "import xarray as xr\n",
    "from functools import lru_cache  # For function result caching\n",
    "\n",
    "# Special functions\n",
    "# from scipy.special import sph_harm\n",
    "import spherical_functions as sf\n",
    "import quaternion\n",
    "\n",
    "# Performance & benchmarking libraries\n",
    "# from joblib import Memory\n",
    "# import xyzpy as xyz\n",
    "import numba as nb\n",
    "\n",
    "# Timings with ttictoc\n",
    "# https://github.com/hector-sab/ttictoc\n",
    "# from ttictoc import TicToc\n",
    "\n",
    "# Package fns.\n",
    "# For module testing, include path to module here\n",
    "import sys\n",
    "import os\n",
    "modPath = r'D:\\code\\github\\ePSproc'  # Win test machine\n",
    "# modPath = r'/home/femtolab/github/ePSproc/'  # Linux test machine\n",
    "sys.path.append(modPath)\n",
    "import epsproc as ep\n",
    "# TODO: tidy this up!\n",
    "from epsproc.util import matEleSelector\n",
    "from epsproc.geomFunc import geomCalc"
   ]
  },
  {
   "cell_type": "code",
   "execution_count": null,
   "metadata": {},
   "outputs": [],
   "source": [
    "# Load data from modPath\\data\n",
    "dataPath = os.path.join(modPath, 'data', 'photoionization')\n",
    "dataFile = os.path.join(dataPath, 'n2_3sg_0.1-50.1eV_A2.inp.out')  # Set for sample N2 data for testing\n",
    "\n",
    "# Scan data file\n",
    "# dataSet = ep.readMatEle(fileIn = dataFile)\n",
    "# dataXS = ep.readMatEle(fileIn = dataFile, recordType = 'CrossSection')  # XS info currently not set in NO2 sample file.\n",
    "dataSet = ep.readMatEle(fileBase = dataPath)\n",
    "dataXS = ep.readMatEle(fileBase = dataPath, recordType = 'CrossSection')  # XS info currently not set in NO2 sample file."
   ]
  },
  {
   "cell_type": "markdown",
   "metadata": {},
   "source": [
    "### Test phase conventions (or use geomFunc.setPhaseConventions)"
   ]
  },
  {
   "cell_type": "code",
   "execution_count": null,
   "metadata": {},
   "outputs": [],
   "source": [
    "def setPhaseConventions(phaseConvention = 'S', typeList = False):\n",
    "    \"\"\"\n",
    "    Set phase convention/choices for geometric functions.\n",
    "\n",
    "    20/03/20 - first attempt. Aim to centralise all phase choices here to keep things clean and easy to debug/change.\n",
    "\n",
    "    Set as dictionary for each term, to be appended to results Xarray.\n",
    "\n",
    "\n",
    "    Parameters\n",
    "    ----------\n",
    "\n",
    "    phaseConvention : optional, str, default = 'S'\n",
    "        Set phase conventions:\n",
    "        - 'S' : Standard derivation.\n",
    "        - 'R' : Reduced form geometric tensor derivation.\n",
    "        - 'E' : ePolyScat, may have additional changes in numerics, e.g. conjugate Wigner D.\n",
    "\n",
    "    typeList : optional, bool, default = False\n",
    "        If true, return list of supported options instead of list of phase choices.\n",
    "\n",
    "    \"\"\"\n",
    "\n",
    "    # Return just typeList if option set - this also defines master list.\n",
    "    if typeList:\n",
    "        # Supported types\n",
    "        typeList = ['S', 'R', 'E']\n",
    "        return typeList\n",
    "\n",
    "\n",
    "    # Set master dict to hold choices.\n",
    "    phaseCons = {'phaseConvention':phaseConvention}\n",
    "\n",
    "    #**** For generating QNs with genllpMatE()\n",
    "    # Set here to avoid issues with dropped/missing terms later!\n",
    "    # Some conventions will be tied to other choices below.\n",
    "    genMatEcons = {}\n",
    "    if phaseConvention == 'S':\n",
    "        genMatEcons['negm'] = False     # Set -m, corresponding to M = -m + mp, otherwise M = -(m+mp)\n",
    "        genMatEcons['negM'] = False     # Set -M\n",
    "\n",
    "    elif phaseConvention == 'R':\n",
    "        genMatEcons['negm'] = False     # Set -m, corresponding to M = -m + mp, otherwise M = -(m+mp)\n",
    "        genMatEcons['negM'] = False     # Set -M\n",
    "\n",
    "    elif phaseConvention == 'E':\n",
    "        genMatEcons['negm'] = False     # Set -m, corresponding to M = -m + mp, otherwise M = -(m+mp)\n",
    "        genMatEcons['negM'] = False     # Set -M\n",
    "\n",
    "    phaseCons['genMatEcons'] = genMatEcons\n",
    "    \n",
    "    #*** For EPR tensor\n",
    "    EPRcons = {}\n",
    "    if phaseConvention == 'S':\n",
    "        EPRcons['Rphase'] = True        # Apply (-1)^R phase?\n",
    "        EPRcons['negR'] = True          # Use -R or +R in 3j?\n",
    "        EPRcons['negRlabel'] = False    # Use -R or +R in QN labels? (Will affect Xarray-based calculations.)\n",
    "        EPRcons['negRcoordSwap'] = False    # Swap -R and +R in QN coords? (Will affect Xarray-based calculations.)\n",
    "\n",
    "    elif phaseConvention == 'R':\n",
    "        EPRcons['Rphase'] = True       # Apply (-1)^R phase?\n",
    "        EPRcons['negR'] = True          # Use -R or +R in 3j?\n",
    "        EPRcons['negRlabel'] = False    # Use -R or +R in QN labels? (Will affect Xarray-based calculations.)\n",
    "        EPRcons['negRcoordSwap'] = False    # Swap -R and +R in QN coords? (Will affect Xarray-based calculations.)\n",
    "\n",
    "    elif phaseConvention == 'E':\n",
    "        EPRcons['Rphase'] = True        # Apply (-1)^R phase?\n",
    "        EPRcons['negR'] = True          # Use -R or +R in 3j?\n",
    "        EPRcons['negRlabel'] = False    # Use -R or +R in QN labels? (Will affect Xarray-based calculations.)\n",
    "        EPRcons['negRcoordSwap'] = False    # Swap -R and +R in QN coords? (Will affect Xarray-based calculations.)\n",
    "\n",
    "    phaseCons['EPR'] = EPRcons\n",
    "\n",
    "    #*** For Lambda term (as set by MFproj())\n",
    "    lambdaCons = {}\n",
    "    if phaseConvention == 'S':\n",
    "        lambdaCons['negMup'] = True     # Use -mup term in 3j?\n",
    "        lambdaCons['phaseNegR'] = True  # Set for (-Rp, -R) phase convention (in Wigner D term)?\n",
    "        lambdaCons['conjFlag'] = False  # Set for conjuate Wigner D?\n",
    "        lambdaCons['RpPhase'] = True    # Apply (-1)^Rp phase term?\n",
    "\n",
    "    elif phaseConvention == 'R':\n",
    "        lambdaCons['negMup'] = True     # Use -mup term in 3j?\n",
    "        lambdaCons['phaseNegR'] = True  # Set for (-Rp, -R) phase convention (in Wigner D term)?\n",
    "        lambdaCons['conjFlag'] = False  # Set for conjuate Wigner D?\n",
    "        lambdaCons['RpPhase'] = True    # Apply (-1)^Rp phase term?\n",
    "\n",
    "    elif phaseConvention == 'E':\n",
    "        lambdaCons['negMup'] = True     # Use -mup term in 3j?\n",
    "        lambdaCons['phaseNegR'] = True  # Set for (-Rp, -R) phase convention (in Wigner D term)?\n",
    "        lambdaCons['conjFlag'] = True  # Set for conjuate Wigner D?\n",
    "        lambdaCons['RpPhase'] = True    # Apply (-1)^Rp phase term?\n",
    "\n",
    "    phaseCons['lambdaCons'] = lambdaCons\n",
    "\n",
    "\n",
    "    #*** For Beta term (as set by betaTerm())\n",
    "    betaCons = {}\n",
    "    if phaseConvention == 'S':\n",
    "        betaCons['negM'] = False       # Use -M term in 3j?\n",
    "        betaCons['mPhase'] = True     # Apply (-1)^m phase term?\n",
    "\n",
    "    elif phaseConvention == 'R':\n",
    "        betaCons['negM'] = False       # Use -M term in 3j?\n",
    "        betaCons['mPhase'] = True     # Apply (-1)^m phase term?\n",
    "\n",
    "    elif phaseConvention == 'E':\n",
    "        betaCons['negM'] = genMatEcons['negm']       # Use -M term in 3j?\n",
    "        betaCons['mPhase'] = True     # Apply (-1)^m phase term?\n",
    "\n",
    "    phaseCons['betaCons'] = betaCons\n",
    "\n",
    "\n",
    "    #*** For MFPAD product case, as calculated in mfblmXprod()\n",
    "    mfblmCons = {}\n",
    "    if phaseConvention == 'S':\n",
    "        mfblmCons['negRcoordSwap'] = True       # Swap -R and +R in EPR Xarray coords?\n",
    "\n",
    "        mfblmCons['negMcoordSwap'] = True       # Swap +/-M coords.\n",
    "        mfblmCons['Mphase'] = True              # Apply (-1)^M phase term.\n",
    "\n",
    "        mfblmCons['negmCoordSwap'] = True       # Swap +/-m coords.\n",
    "        mfblmCons['mPhase'] = True              # Apply (-1)^m phase term.\n",
    "\n",
    "        mfblmCons['mupPhase'] = True            # Apply (-1)^(mup - p) phase term.\n",
    "\n",
    "        mfblmCons['BLMmPhase'] = False          # TESTING ONLY - switch signs (m, M) terms before 3j calcs.\n",
    "\n",
    "    if phaseConvention == 'R':\n",
    "        mfblmCons['negRcoordSwap'] = True       # Swap -R and +R in EPR Xarray coords?\n",
    "\n",
    "        mfblmCons['negMcoordSwap'] = False       # Swap +/-M coords.\n",
    "        mfblmCons['Mphase'] = False              # Apply (-1)^M phase term.\n",
    "\n",
    "        mfblmCons['negmCoordSwap'] = True       # Swap +/-m coords.\n",
    "        mfblmCons['mPhase'] = True              # Apply (-1)^m phase term.\n",
    "\n",
    "        mfblmCons['mupPhase'] = True            # Apply (-1)^(mup - p) phase term.\n",
    "\n",
    "        mfblmCons['BLMmPhase'] = False          # TESTING ONLY - switch signs (m, M) terms before 3j calcs.\n",
    "\n",
    "    if phaseConvention == 'E':\n",
    "        mfblmCons['negRcoordSwap'] = True       # Swap -R and +R in EPR Xarray coords?\n",
    "\n",
    "        mfblmCons['negMcoordSwap'] = False       # Swap +/-M coords.\n",
    "        mfblmCons['Mphase'] = betaCons['negM']              # Apply (-1)^M phase term.\n",
    "\n",
    "        mfblmCons['negmCoordSwap'] = False       # Swap +/-m coords.\n",
    "        mfblmCons['mPhase'] = False              # Apply (-1)^m phase term.\n",
    "\n",
    "        mfblmCons['mupPhase'] = True            # Apply (-1)^(mup - p) phase term. REQUIRED for physical results! (Get -ve XS otherwise)\n",
    "\n",
    "        mfblmCons['BLMmPhase'] = False          # TESTING ONLY - switch signs (m, M) terms before 3j calcs.\n",
    "\n",
    "    phaseCons['mfblmCons'] = mfblmCons\n",
    "\n",
    "    return phaseCons"
   ]
  },
  {
   "cell_type": "markdown",
   "metadata": {},
   "source": [
    "### GeomFunc calculation"
   ]
  },
  {
   "cell_type": "code",
   "execution_count": null,
   "metadata": {},
   "outputs": [],
   "source": [
    "import time\n",
    "\n",
    "symSum = True\n",
    "thres = 1e-2\n",
    "SFflag = False\n",
    "selDims = {'it':1, 'Type':'L'} # , 'Total':'SU'}\n",
    "\n",
    "start = time.time()\n",
    "# mTermST, mTermS, mTermTest = ep.geomFunc.mfblmXprod(dataSet[0], QNs = None, thres = thres, selDims = selDims, thresDims= None, symSum=symSum, SFflag = True, phaseConvention='E')\n",
    "\n",
    "phaseCons = setPhaseConventions('E')  # Local test version.\n",
    "# phaseCons = ep.geomFunc.setPhaseConventions('E')  # Pkg version.\n",
    "\n",
    "RX = ep.setPolGeoms()  # .swap_dims({'Euler':'Labels'}).sel({'Labels':'z'})  # Preset pol geom\n",
    "mTermST, mTermS, mTermTest = ep.geomFunc.mfblmXprod(dataSet[0], QNs = None, RX = RX, thres = thres, selDims = selDims, thresDims= None, symSum=symSum, SFflag = SFflag, phaseConvention=phaseCons)\n",
    "\n",
    "end = time.time()\n",
    "print('Elapsed time = {0} seconds, for {1} energy points.'.format((end-start), mTermST.Eke.size))"
   ]
  },
  {
   "cell_type": "code",
   "execution_count": null,
   "metadata": {},
   "outputs": [],
   "source": [
    "# Full results (before summation)\n",
    "# plotDimsRed = ['l', 'lp', 'm', 'mp']\n",
    "# xDim = 'Labels'\n",
    "xDim = {'LM':['L','M']}\n",
    "# daPlot, daPlotpd, legendList, gFig = ep.lmPlot(mTermST, plotDims=['Cont','L','M'], xDim='Eke', sumDims=None, pType = 'a')   # Plot abs values\n",
    "daPlot, daPlotpd, legendList, gFig = ep.lmPlot(mTermST, xDim='Eke', sumDims=None, pType = 'a', thres = 0.01)   # BUG - this isn't working in this case???  Fails during pd conversion. NOW FIXED - set() and list() type issue!"
   ]
  },
  {
   "cell_type": "code",
   "execution_count": null,
   "metadata": {},
   "outputs": [],
   "source": [
    "# Full results (before summation)\n",
    "plotDimsRed = ['Labels','Cont','L','M']\n",
    "# xDim = 'Labels'\n",
    "xDim = {'LM':['L','M']}\n",
    "daPlot, daPlotpd, legendList, gFig = ep.lmPlot(mTermS, plotDims=plotDimsRed, xDim='Eke', sumDims=None, pType = 'r')   # Plot abs values"
   ]
  },
  {
   "cell_type": "code",
   "execution_count": null,
   "metadata": {},
   "outputs": [],
   "source": [
    "# mTermST.XS.sum(['Cont', 'Total']).real.squeeze().plot.line(x='Eke', col='Labels');\n",
    "if symSum:\n",
    "    if mTermST.Labels.size == 1:\n",
    "        mTermST.XS.real.squeeze().plot.line(x='Eke');\n",
    "        mTermST.XS.pipe(np.abs).squeeze().plot.line(x='Eke');\n",
    "    else:\n",
    "        mTermST.XS.real.squeeze().plot.line(x='Eke', col='Labels');\n",
    "        mTermST.XS.pipe(np.abs).squeeze().plot.line(x='Eke', col='Labels');\n",
    "    \n",
    "else:\n",
    "    mTermST.stack({'Sym':['Cont','Total']}).XS.real.squeeze().plot.line(x='Eke', col='Labels');\n",
    "    mTermST.XS.sum(['Cont', 'Total']).pipe(np.abs).squeeze().plot.line(x='Eke', col='Labels');\n"
   ]
  },
  {
   "cell_type": "code",
   "execution_count": null,
   "metadata": {},
   "outputs": [],
   "source": [
    "if symSum:\n",
    "    if mTermST.Labels.size == 1:\n",
    "        ep.util.matEleSelector(mTermST, thres = 0.1, dims='Eke').real.squeeze().plot.line(x='Eke');\n",
    "    else:\n",
    "        ep.util.matEleSelector(mTermST, thres = 0.1, dims='Eke').real.squeeze().plot.line(x='Eke', col='Labels');\n",
    "else:\n",
    "    ep.util.matEleSelector(mTermST.sum(['Cont', 'Total']), thres = 0.1, dims='Eke').real.squeeze().plot.line(x='Eke', col='Labels');"
   ]
  },
  {
   "cell_type": "code",
   "execution_count": null,
   "metadata": {},
   "outputs": [],
   "source": [
    "# Full results (before summation)\n",
    "plotDimsRed = ['Labels', 'L','M']\n",
    "# xDim = 'Labels'\n",
    "xDim = {'LM':['L','M']}\n",
    "daPlot, daPlotpd, legendList, gFig = ep.lmPlot(mTermS, plotDims=plotDimsRed, xDim='Eke', sumDims=None, pType = 'a')   # Plot abs values"
   ]
  },
  {
   "cell_type": "code",
   "execution_count": null,
   "metadata": {},
   "outputs": [],
   "source": [
    "# Full results with Cont summation\n",
    "plotDimsRed = ['Labels','L','M']\n",
    "# xDim = 'Labels'\n",
    "xDim = {'LM':['L','M']}\n",
    "daPlot, daPlotpd, legendList, gFig = ep.lmPlot(mTermST, plotDims=plotDimsRed, xDim='Eke', sumDims='Cont', pType = 'a')   # Plot abs values"
   ]
  },
  {
   "cell_type": "code",
   "execution_count": null,
   "metadata": {},
   "outputs": [],
   "source": [
    "mTermpd, mTermRestack = ep.util.multiDimXrToPD(mTermST, colDims='Eke', thres = None)\n",
    "mTermpd.fillna(0)"
   ]
  },
  {
   "cell_type": "markdown",
   "metadata": {},
   "source": [
    "## Test vs. existing calcs"
   ]
  },
  {
   "cell_type": "code",
   "execution_count": null,
   "metadata": {},
   "outputs": [],
   "source": [
    "import time\n",
    "daIn = dataSet[0].copy()\n",
    "\n",
    "# BLMXeN2 = ep.mfblm(daIn[:, 1:4], selDims = {'Type':'L'}, thres = 1e-4)       # Subselected on Eke\n",
    "# start = time.time()\n",
    "# BLMXeN2 = ep.mfblm(daIn, selDims = {'Type':'L'}, thres = 1e-2, verbose = False)   # Run for all Eke\n",
    "# end = time.time()\n",
    "# print('Elapsed time = {0} seconds, for {1} energy points.'.format((end-start), BLMXeN2.Eke.size))\n",
    "\n",
    "# Set standard pol geoms (== (z,x,y) as used above)\n",
    "eAngs = ep.setPolGeoms()\n",
    "\n",
    "# Calculate for each pol geom\n",
    "start = time.time()\n",
    "BLM = ep.mfblmEuler(dataSet[0], selDims=selDims, eAngs = eAngs, thres = thres, SFflag = True, verbose = 0)  # Run for all Eke.  Note this fails if selDims = None, to fix!\n",
    "end = time.time()\n",
    "print('Elapsed time = {0} seconds, for {1} energy points.'.format((end-start), BLM.Eke.size))"
   ]
  },
  {
   "cell_type": "code",
   "execution_count": null,
   "metadata": {},
   "outputs": [],
   "source": [
    "BLMXeN2.where(np.abs(BLMXeN2)>thres, drop=True).sel({'Eke':0.1})"
   ]
  },
  {
   "cell_type": "code",
   "execution_count": null,
   "metadata": {},
   "outputs": [],
   "source": [
    "daPlot, daPlotpd, legendList, gFig = ep.lmPlot(BLMXeN2.swap_dims({'Euler':'Labels'}), SFflag = False, eulerGroup = True)"
   ]
  },
  {
   "cell_type": "code",
   "execution_count": null,
   "metadata": {},
   "outputs": [],
   "source": [
    "daPlotpd2/daPlotpd2[0][0][1]  # Normalised BLMs match for SU case... but PU hasn't gone to zero - missing/incorrect phase term somewhere...?  Will be in mu or m.\n",
    "                            # With (-1)^m phase included get B00=Nan for PU case, but not for B2,+/-2... but maybe this is OK?\n",
    "    \n",
    "# TO DO\n",
    "# (-1)^m *IS* in BLM\n",
    "# CHECK: BLMtable = geomCalc.betaTerm(QNs = QNlist, form = 'xdaLM')\n",
    "\n",
    "# Vs. terms in MFBLMCalcLoop()\n",
    "# gammaLM = Wigner3jCached(l1, l2, L, 0, 0, 0) * Wigner3jCached(l1, l2, L, -m1, m2, -M)\n",
    "# phase = (-1)**M *(-1)**m1 * (-1)**(mu2-p)\n",
    "# degen = np.sqrt(((2*l1+1)*(2*l2+1)*(2*L+1))/(4*np.pi))\n",
    "\n",
    "# Should pinpoint any accidental phase switches"
   ]
  },
  {
   "cell_type": "code",
   "execution_count": null,
   "metadata": {},
   "outputs": [],
   "source": [
    "# Check symmetries...\n",
    "BLMXeN2SU = ep.mfblm(daIn, selDims = {'Type':'L', 'Cont':'SU'}, thres = 1e-2, verbose = False)   # Run for all Eke\n",
    "BLMXeN2PU = ep.mfblm(daIn, selDims = {'Type':'L', 'Cont':'PU'}, thres = 1e-2, verbose = False)   # Run for all Eke"
   ]
  },
  {
   "cell_type": "code",
   "execution_count": null,
   "metadata": {},
   "outputs": [],
   "source": [
    "BLMXeN2SU.where(np.abs(BLMXeN2SU)>thres, drop=True).sel({'Eke':0.1})"
   ]
  },
  {
   "cell_type": "code",
   "execution_count": null,
   "metadata": {},
   "outputs": [],
   "source": [
    "# BLMXeN2PU.where(np.abs(BLMXeN2PU)>thres, drop=True).sel({'Eke':0.1})\n",
    "BLMXeN2PU.sel({'Eke':0.1})"
   ]
  },
  {
   "cell_type": "markdown",
   "metadata": {},
   "source": [
    "### Test vs. NO2 case"
   ]
  },
  {
   "cell_type": "code",
   "execution_count": null,
   "metadata": {},
   "outputs": [],
   "source": [
    "import time\n",
    "\n",
    "start = time.time()\n",
    "mTermST, mTermS, mTermTest = mfblmXprod(dataSet[1], QNs = None, thres = 1e-4, selDims = {'it':1, 'Type':'L'}, thresDims= None, symSum=False)\n",
    "end = time.time()\n",
    "print('Elapsed time = {0} seconds, for {1} energy points.'.format((end-start), mTermST.Eke.size))"
   ]
  },
  {
   "cell_type": "code",
   "execution_count": null,
   "metadata": {},
   "outputs": [],
   "source": [
    "# Full results (before summation)\n",
    "# plotDimsRed = ['l', 'lp', 'm', 'mp']\n",
    "# xDim = 'Labels'\n",
    "xDim = {'LM':['L','M']}\n",
    "# daPlot, daPlotpd, legendList, gFig = ep.lmPlot(mTermST, plotDims=['Cont','L','M'], xDim='Eke', sumDims=None, pType = 'a')   # Plot abs values\n",
    "daPlot, daPlotpd, legendList, gFig = ep.lmPlot(mTermST, xDim='Eke', sumDims=None, pType = 'a', thres = 0.01)   # BUG - this isn't working in this case???  Fails during pd conversion. NOW FIXED - set() and list() type issue!"
   ]
  },
  {
   "cell_type": "code",
   "execution_count": null,
   "metadata": {},
   "outputs": [],
   "source": [
    "# Full results (before summation)\n",
    "plotDimsRed = ['Labels','Cont','L','M']\n",
    "# xDim = 'Labels'\n",
    "xDim = {'LM':['L','M']}\n",
    "daPlot, daPlotpd, legendList, gFig = ep.lmPlot(mTermST, plotDims=plotDimsRed, xDim='Eke', sumDims=None, pType = 'r')   # Plot abs values"
   ]
  },
  {
   "cell_type": "code",
   "execution_count": null,
   "metadata": {},
   "outputs": [],
   "source": [
    "# mTermST.XS.sum(['Cont', 'Total']).real.squeeze().plot.line(x='Eke', col='Labels');\n",
    "mTermST.stack({'Sym':['Cont','Total']}).XS.real.squeeze().plot.line(x='Eke', col='Labels');\n",
    "mTermST.XS.sum(['Cont', 'Total']).pipe(np.abs).squeeze().plot.line(x='Eke', col='Labels');\n"
   ]
  },
  {
   "cell_type": "code",
   "execution_count": null,
   "metadata": {},
   "outputs": [],
   "source": [
    "ep.util.matEleSelector(mTermST.sum(['Cont', 'Total']), thres = 0.1, dims='Eke').real.squeeze().plot.line(x='Eke', col='Labels');"
   ]
  },
  {
   "cell_type": "code",
   "execution_count": null,
   "metadata": {},
   "outputs": [],
   "source": []
  }
 ],
 "metadata": {
  "kernelspec": {
   "display_name": "Python 3",
   "language": "python",
   "name": "python3"
  },
  "language_info": {
   "codemirror_mode": {
    "name": "ipython",
    "version": 3
   },
   "file_extension": ".py",
   "mimetype": "text/x-python",
   "name": "python",
   "nbconvert_exporter": "python",
   "pygments_lexer": "ipython3",
   "version": "3.7.3"
  }
 },
 "nbformat": 4,
 "nbformat_minor": 4
}
