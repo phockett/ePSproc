{
 "cells": [
  {
   "cell_type": "markdown",
   "metadata": {},
   "source": [
    "# Molecule and electronic structure info method dev.\n",
    "29/04/20\n",
    "\n",
    "Aims\n",
    "- Improve current utility functions (jobSummary, jobInfo, molInfo).\n",
    "- Make use of cclib for more molecular structure info.\n",
    "- Orbitals etc...?\n",
    "\n",
    "For early dev work see (Bemo):\n",
    "- http://localhost:8890/lab/tree/cclib_basic_tests_040420.ipynb\n",
    "- http://localhost:8890/lab/tree/XeF2_props_oc-avo-cclib_070420.ipynb"
   ]
  },
  {
   "cell_type": "markdown",
   "metadata": {},
   "source": [
    "## Current status"
   ]
  },
  {
   "cell_type": "code",
   "execution_count": 1,
   "metadata": {},
   "outputs": [
    {
     "name": "stdout",
     "output_type": "stream",
     "text": [
      "bemo\n",
      "# conda environments:\n",
      "#\n",
      "base                     /home/femtolab/anaconda3\n",
      "chem                     /home/femtolab/anaconda3/envs/chem\n",
      "chem3.5                  /home/femtolab/anaconda3/envs/chem3.5\n",
      "dbtest                   /home/femtolab/anaconda3/envs/dbtest\n",
      "epsdev                *  /home/femtolab/anaconda3/envs/epsdev\n",
      "epsdev-150320            /home/femtolab/anaconda3/envs/epsdev-150320\n",
      "espressoDB               /home/femtolab/anaconda3/envs/espressoDB\n",
      "fibre-sim                /home/femtolab/anaconda3/envs/fibre-sim\n",
      "remote                   /home/femtolab/anaconda3/envs/remote\n",
      "slides                   /home/femtolab/anaconda3/envs/slides\n",
      "webDev                   /home/femtolab/anaconda3/envs/webDev\n",
      "\n"
     ]
    }
   ],
   "source": [
    "!hostname\n",
    "!conda env list"
   ]
  },
  {
   "cell_type": "code",
   "execution_count": 2,
   "metadata": {},
   "outputs": [
    {
     "name": "stdout",
     "output_type": "stream",
     "text": [
      "* plotly not found, plotly plots not available. \n",
      "* pyevtk not found, VTK export not available. \n"
     ]
    }
   ],
   "source": [
    "import sys\n",
    "import os\n",
    "import numpy as np\n",
    "\n",
    "# For module testing, include path to module here\n",
    "modPath = r'/home/femtolab/github/ePSproc'\n",
    "sys.path.append(modPath)\n",
    "import epsproc as ep\n",
    "# import epsproc as ep"
   ]
  },
  {
   "cell_type": "code",
   "execution_count": 3,
   "metadata": {},
   "outputs": [
    {
     "name": "stdout",
     "output_type": "stream",
     "text": [
      "*** Job info from file header.\n",
      "\n",
      " NO2 input file for ePolyScat\n",
      " Ionization of orbital 10 (A2)\n",
      " For comparison with tutorial calculations\n",
      " Using (modified) version of RLL's sample job, with added DumpIdy commands.  Should allow for like-for-like comparison with my calcs. from \"no2_MolPro_RLL_ePS.inp\"\n",
      "\n",
      "*** Found orbitals\n",
      "1   1 Ene =     -20.6836 Spin =Alpha Occup =   2.000000\n",
      "2   2 Ene =     -20.6835 Spin =Alpha Occup =   2.000000\n",
      "3   3 Ene =     -15.8756 Spin =Alpha Occup =   2.000000\n",
      "4   4 Ene =      -1.6596 Spin =Alpha Occup =   2.000000\n",
      "5   5 Ene =      -1.4794 Spin =Alpha Occup =   2.000000\n",
      "6   6 Ene =      -0.9198 Spin =Alpha Occup =   2.000000\n",
      "7   7 Ene =      -0.7787 Spin =Alpha Occup =   2.000000\n",
      "8   8 Ene =      -0.7778 Spin =Alpha Occup =   2.000000\n",
      "9   9 Ene =      -0.7587 Spin =Alpha Occup =   2.000000\n",
      "10  10 Ene =      -0.5509 Spin =Alpha Occup =   2.000000\n",
      "11  11 Ene =      -0.5284 Spin =Alpha Occup =   2.000000\n",
      "12  12 Ene =      -0.5079 Spin =Alpha Occup =   1.000000\n",
      "\n",
      "*** Found atoms\n",
      "Z =  7 ZS =  7 r =   0.0000000000   0.0000000000  -0.3256373649\n",
      "Z =  8 ZS =  8 r =   0.0000000000   1.0989812449   0.1425398727\n",
      "Z =  8 ZS =  8 r =   0.0000000000  -1.0989812449   0.1425398727\n"
     ]
    }
   ],
   "source": [
    "# Load data from modPath\\data\n",
    "dataFile = os.path.join(modPath, 'data/photoionization/no2_demo_ePS.out')\n",
    "\n",
    "jobInfo = ep.headerFileParse(dataFile)\n",
    "molInfo = ep.molInfoParse(dataFile)"
   ]
  },
  {
   "cell_type": "code",
   "execution_count": 4,
   "metadata": {},
   "outputs": [
    {
     "name": "stdout",
     "output_type": "stream",
     "text": [
      "\n",
      "*** Job summary data\n",
      " NO2 input file for ePolyScat\n",
      " Ionization of orbital 10 (A2)\n",
      " For comparison with tutorial calculations\n",
      " Using (modified) version of RLL's sample job, with added DumpIdy commands.  Should allow for like-for-like comparison with my calcs. from \"no2_MolPro_RLL_ePS.inp\"\n",
      "\n",
      "Electronic structure input: '/media/hockettp/StoreM/ePolyScat_stuff/no2/electronic_structure/no2_RLL.molden'\n",
      "Initial state occ:\t\t [2 2 2 2 2 2 2 2 2 2 2 1]\n",
      "Final state occ:\t\t [2 2 2 2 2 2 2 2 2 2 1 1]\n",
      "IPot (input vertical IP, eV):\t\t 13.592\n",
      "\n",
      "*** Additional orbital info (SymProd)\n",
      "Ionizing orb:\t\t\t [0 0 0 0 0 0 0 0 0 0 1 0]\n",
      "Ionizing orb sym:\t\t ['A2']\n",
      "Orb energy (eV):\t\t [-14.37849637]\n",
      "Orb energy (H):\t\t\t [-0.5284]\n",
      "Orb energy (cm^-1):\t\t [-115970.39521897]\n",
      "Threshold wavelength (nm):\t 86.22890334312088\n",
      "\n",
      "*** Warning: some orbital convergences outside single-center expansion convergence tolerance (0.01):\n",
      "[[1.         0.97834773]\n",
      " [2.         0.97879664]]\n",
      "\n",
      "*** Molecular structure\n",
      "\n"
     ]
    },
    {
     "data": {
      "image/png": "[encoded data removed]",
      "text/plain": [
       "<Figure size 432x288 with 1 Axes>"
      ]
     },
     "metadata": {
      "needs_background": "light"
     },
     "output_type": "display_data"
    }
   ],
   "source": [
    "ep.util.jobSummary(jobInfo, molInfo);"
   ]
  },
  {
   "cell_type": "code",
   "execution_count": 5,
   "metadata": {},
   "outputs": [
    {
     "data": {
      "text/plain": [
       "{'comments': ['# NO2 input file for ePolyScat',\n",
       "  '# Ionization of orbital 10 (A2)',\n",
       "  '# For comparison with tutorial calculations',\n",
       "  '# Using (modified) version of RLL\\'s sample job, with added DumpIdy commands.  Should allow for like-for-like comparison with my calcs. from \"no2_MolPro_RLL_ePS.inp\"',\n",
       "  '# Note that original version runs as a shell script, here just taken the ePS part for speed, but should consider full scripting as a better & more versatile option!',\n",
       "  '# 10/08/15',\n",
       "  '#',\n",
       "  '# IP=13.592',\n",
       "  '# Energy=0.81',\n",
       "  '#',\n",
       "  '# date',\n",
       "  '#',\n",
       "  '# maindir=~/Projects/NO2MFPAD/Sample',\n",
       "  '# maindir=/media/hockettp/StoreM/ePolyScat_stuff/no2',\n",
       "  '# mkdir /idy',\n",
       "  '#',\n",
       "  '# ~/Applications/ePolyScat.E3/bin/ePolyScat <<eoi',\n",
       "  '#',\n",
       "  '# IPot     # IPot, ionization potential, Koopmans',\n",
       "  '#',\n",
       "  \"# Convert '/.molden' 'molden2006'\",\n",
       "  '#',\n",
       "  '# Write out matrix elements',\n",
       "  '# OrientCro run',\n",
       "  '#',\n",
       "  '# eoi',\n",
       "  '#',\n",
       "  '#',\n",
       "  '# ~/Applications/ePolyScat.E3/bin/BendOrient.exe <<eoi',\n",
       "  \"# '/Orient.dat' '/OrientBend.dat'\",\n",
       "  '#   2   # Bend Case - 2 for non-linear molecule',\n",
       "  '#   1   # Print Flag',\n",
       "  '#   90.0 120. # Bend Angle alpha, beta',\n",
       "  '# eoi',\n",
       "  '# ~/Applications/ePolyScat.E3/bin/CnvMatLab.exe  <<eoi',\n",
       "  '# 1   # Length only',\n",
       "  '# 0   # Swap orientations',\n",
       "  '#   # Energy to use',\n",
       "  \"#  '/OrientBend.dat'   # input unit\",\n",
       "  '#  181  # NThe, number of thetas',\n",
       "  \"# 'NO2 Angles 90. 120. Energy  3a2  '\",\n",
       "  \"#  2  'x' 90.0 0.0  'z' 0.0 0.0\",\n",
       "  '# M # Polarization of light: L=left R=right M=Linear',\n",
       "  '# eoi',\n",
       "  '#',\n",
       "  '# mv ML0.81.dat /MLWithAve0.81.dat',\n",
       "  '# mv ML0.81FLN.dat /MLWithAve0.81FLN.dat',\n",
       "  '#',\n",
       "  '# ~/Applications/ePolyScat.E3/bin/BendOrientNa.exe <<eoi',\n",
       "  \"# '/Orient.dat' '/OrientBendNa.dat'\",\n",
       "  '#    1   # Print Flag',\n",
       "  '#    0. 0. 0.  # Bend Angle alpha, beta, gamma',\n",
       "  '# eoi',\n",
       "  '#',\n",
       "  '# ~/Applications/ePolyScat.E3/bin/CnvMatLabNa.exe  <<eoi',\n",
       "  '#  1   # Length only',\n",
       "  '#   # Energy to use',\n",
       "  \"#  '/OrientBendNa.dat'   # input unit\",\n",
       "  \"# 'NO2 Angles 0. 0. 0. Energy  3a2  '\",\n",
       "  \"#  3  'x' 90.0 0.0  'y' 90.0 90.0 'z' 0.0 0.0\",\n",
       "  '# M # Polarization of light: L=left R=right M=Linear',\n",
       "  '# eoi',\n",
       "  '# mv ML0.81ML.dat /MLNoAve0.81.dat',\n",
       "  '# jobinfo',\n",
       "  '#',\n",
       "  '#',\n",
       "  '# cd /media/hockettp/StoreM/ePolyTEMP',\n",
       "  '#',\n",
       "  '# rm -r',\n",
       "  '#',\n",
       "  '# date',\n",
       "  '# exit'],\n",
       " 'ePolyScat': ['ePolyScat Version E3'],\n",
       " '----------------------------------------------------------------------': ['----------------------------------------------------------------------'],\n",
       " 'Authors:': ['Authors: R. R. Lucchese, N. Sanna, A. P. P. Natalense, and F. A. Gianturco'],\n",
       " 'https://epolyscat.droppages.com': ['https://epolyscat.droppages.com'],\n",
       " 'Please': ['Please cite the following two papers when reporting results obtained with  this program'],\n",
       " 'F.': ['F. A. Gianturco, R. R. Lucchese, and N. Sanna, J. Chem. Phys. 100, 6464 (1994).'],\n",
       " 'A.': ['A. P. P. Natalense and R. R. Lucchese, J. Chem. Phys. 111, 5344 (1999).'],\n",
       " 'Starting': ['Starting at 2015-08-10  14:17:39.414 (GMT -0400)'],\n",
       " 'Using': ['Using     5 processors'],\n",
       " '+': ['+ Start of Input Records'],\n",
       " 'LMax': '30',\n",
       " 'LMaxA': '12',\n",
       " 'EMax': '50.',\n",
       " 'IPot': '13.592',\n",
       " 'FegeEng': '13.592',\n",
       " 'OrbOccInit': array([2, 2, 2, 2, 2, 2, 2, 2, 2, 2, 2, 1]),\n",
       " '2': ['2 2 2 2 2 2 2 2 2 2 1 1'],\n",
       " 'OrbOcc': array([2, 2, 2, 2, 2, 2, 2, 2, 2, 2, 1, 1]),\n",
       " 'SpinDeg': '2',\n",
       " 'TargSym': \"'A2'\",\n",
       " 'TargSpinDeg': '3',\n",
       " 'InitSym': \"'A1'\",\n",
       " 'InitSpinDeg': '2',\n",
       " 'ScatEng': '0.81',\n",
       " 'VCorr': \"'PZ'\",\n",
       " 'Convert': [\"Convert '/media/hockettp/StoreM/ePolyScat_stuff/no2/electronic_structure/no2_RLL.molden' 'molden2006'\"],\n",
       " 'GetBlms': ['GetBlms'],\n",
       " 'ExpOrb': ['ExpOrb'],\n",
       " 'ScatSym': \"'B2'\",\n",
       " 'ScatContSym': \"'B1'\",\n",
       " 'FileName': [\"FileName 'OrientGeom' '/media/hockettp/StoreM/ePolyScat_stuff/no2/OrientGeom.dat' 'REWIND'\"],\n",
       " 'GenFormPhIon': ['GenFormPhIon'],\n",
       " 'DipoleOp': ['DipoleOp'],\n",
       " 'GetPot': ['GetPot'],\n",
       " 'PhIon': ['PhIon'],\n",
       " 'GetCro': [\"GetCro '/media/hockettp/StoreM/ePolyScat_stuff/no2/no2_SA1CA2.idy' '/media/hockettp/StoreM/ePolyScat_stuff/no2/no2_SB1CB2.idy' '/media/hockettp/StoreM/ePolyScat_stuff/no2/no2_SB2CB1.idy'\"],\n",
       " 'DumpIdy': [\"DumpIdy '/media/hockettp/StoreM/ePolyScat_stuff/no2/no2_SB2CB1.idy' 0.81\"],\n",
       " 'OrientCro': [\"OrientCro 0.81 '/media/hockettp/StoreM/ePolyScat_stuff/no2/no2_SA1CA2.idy' '/media/hockettp/StoreM/ePolyScat_stuff/no2/no2_SB1CB2.idy' '/media/hockettp/StoreM/ePolyScat_stuff/no2/no2_SB2CB1.idy'\"]}"
      ]
     },
     "execution_count": 5,
     "metadata": {},
     "output_type": "execute_result"
    }
   ],
   "source": [
    "# Full info in dicts\n",
    "jobInfo"
   ]
  },
  {
   "cell_type": "code",
   "execution_count": 6,
   "metadata": {},
   "outputs": [
    {
     "data": {
      "text/plain": [
       "{'atomList': ['Z =  7 ZS =  7 r =   0.0000000000   0.0000000000  -0.3256373649',\n",
       "  'Z =  8 ZS =  8 r =   0.0000000000   1.0989812449   0.1425398727',\n",
       "  'Z =  8 ZS =  8 r =   0.0000000000  -1.0989812449   0.1425398727'],\n",
       " 'atomTable': <xarray.DataArray (atom: 3, props: 5)>\n",
       " array([[ 7.        ,  7.        ,  0.        ,  0.        , -0.32563736],\n",
       "        [ 8.        ,  8.        ,  0.        ,  1.09898124,  0.14253987],\n",
       "        [ 8.        ,  8.        ,  0.        , -1.09898124,  0.14253987]])\n",
       " Coordinates:\n",
       "   * atom     (atom) int64 1 2 3\n",
       "   * props    (props) <U2 'Z' 'Zs' 'x' 'y' 'z',\n",
       " 'orbList': array([[ 1,  4,  1,  1,  1],\n",
       "        [ 2,  1,  1,  2,  1],\n",
       "        [ 3,  1,  1,  3,  1],\n",
       "        [ 4,  1,  1,  4,  1],\n",
       "        [ 5,  4,  1,  5,  1],\n",
       "        [ 6,  1,  1,  6,  1],\n",
       "        [ 7,  4,  1,  7,  1],\n",
       "        [ 8,  1,  1,  8,  1],\n",
       "        [ 9,  3,  1,  9,  1],\n",
       "        [10,  4,  1, 10,  1],\n",
       "        [11,  2,  1, 11,  1],\n",
       "        [12,  1,  1, 12,  1]]),\n",
       " 'orbTable': <xarray.DataArray (orb: 12, props: 9)>\n",
       " array([[ 1.00000000e+00, -2.06836000e+01,  2.00000000e+00,\n",
       "         -5.62829424e+02,  4.00000000e+00,  1.00000000e+00,\n",
       "          1.00000000e+00,  1.00000000e+00,  9.78347730e-01],\n",
       "        [ 2.00000000e+00, -2.06835000e+01,  2.00000000e+00,\n",
       "         -5.62826703e+02,  1.00000000e+00,  1.00000000e+00,\n",
       "          2.00000000e+00,  1.00000000e+00,  9.78796640e-01],\n",
       "        [ 3.00000000e+00, -1.58756000e+01,  2.00000000e+00,\n",
       "         -4.31997080e+02,  1.00000000e+00,  1.00000000e+00,\n",
       "          3.00000000e+00,  1.00000000e+00,  9.99950380e-01],\n",
       "        [ 4.00000000e+00, -1.65960000e+00,  2.00000000e+00,\n",
       "         -4.51600162e+01,  1.00000000e+00,  1.00000000e+00,\n",
       "          4.00000000e+00,  1.00000000e+00,  9.99339580e-01],\n",
       "        [ 5.00000000e+00, -1.47940000e+00,  2.00000000e+00,\n",
       "         -4.02565245e+01,  4.00000000e+00,  1.00000000e+00,\n",
       "          5.00000000e+00,  1.00000000e+00,  9.98950890e-01],\n",
       "        [ 6.00000000e+00, -9.19800000e-01,  2.00000000e+00,\n",
       "         -2.50290329e+01,  1.00000000e+00,  1.00000000e+00,\n",
       "          6.00000000e+00,  1.00000000e+00,  9.99423900e-01],\n",
       "        [ 7.00000000e+00, -7.78700000e-01,  2.00000000e+00,\n",
       "         -2.11895063e+01,  4.00000000e+00,  1.00000000e+00,\n",
       "          7.00000000e+00,  1.00000000e+00,  9.99751150e-01],\n",
       "        [ 8.00000000e+00, -7.77800000e-01,  2.00000000e+00,\n",
       "         -2.11650160e+01,  1.00000000e+00,  1.00000000e+00,\n",
       "          8.00000000e+00,  1.00000000e+00,  9.99967270e-01],\n",
       "        [ 9.00000000e+00, -7.58700000e-01,  2.00000000e+00,\n",
       "         -2.06452786e+01,  3.00000000e+00,  1.00000000e+00,\n",
       "          9.00000000e+00,  1.00000000e+00,  9.99978830e-01],\n",
       "        [ 1.00000000e+01, -5.50900000e-01,  2.00000000e+00,\n",
       "         -1.49907526e+01,  4.00000000e+00,  1.00000000e+00,\n",
       "          1.00000000e+01,  1.00000000e+00,  9.99961180e-01],\n",
       "        [ 1.10000000e+01, -5.28400000e-01,  2.00000000e+00,\n",
       "         -1.43784964e+01,  2.00000000e+00,  1.00000000e+00,\n",
       "          1.10000000e+01,  1.00000000e+00,  9.99958550e-01],\n",
       "        [ 1.20000000e+01, -5.07900000e-01,  1.00000000e+00,\n",
       "         -1.38206630e+01,  1.00000000e+00,  1.00000000e+00,\n",
       "          1.20000000e+01,  1.00000000e+00,  9.99955120e-01]])\n",
       " Coordinates:\n",
       "   * orb      (orb) int64 1 2 3 4 5 6 7 8 9 10 11 12\n",
       "   * props    (props) <U8 'N' 'EH' 'Occ' 'E' ... 'OrbGrp' 'GrpDegen' 'NormInt'\n",
       "     Sym      (orb) <U2 'B2' 'A1' 'A1' 'A1' 'B2' ... 'A1' 'B1' 'B2' 'A2' 'A1'\n",
       "     E        (orb) float64 -562.8 -562.8 -432.0 -45.16 ... -14.99 -14.38 -13.82\n",
       "     OrbGrp   (orb) int64 1 2 3 4 5 6 7 8 9 10 11 12}"
      ]
     },
     "execution_count": 6,
     "metadata": {},
     "output_type": "execute_result"
    }
   ],
   "source": [
    "molInfo"
   ]
  },
  {
   "cell_type": "markdown",
   "metadata": {},
   "source": [
    "## Testing..."
   ]
  },
  {
   "cell_type": "markdown",
   "metadata": {},
   "source": [
    "### File methods from jobInfo"
   ]
  },
  {
   "cell_type": "code",
   "execution_count": 7,
   "metadata": {},
   "outputs": [],
   "source": [
    "from pathlib import Path"
   ]
  },
  {
   "cell_type": "code",
   "execution_count": 17,
   "metadata": {},
   "outputs": [
    {
     "name": "stdout",
     "output_type": "stream",
     "text": [
      "/media/hockettp/StoreM/ePolyScat_stuff/no2/electronic_structure/no2_RLL.molden\n"
     ]
    }
   ],
   "source": [
    "print(jobInfo['Convert'][0].split()[1].strip(\"'\"))"
   ]
  },
  {
   "cell_type": "code",
   "execution_count": 18,
   "metadata": {},
   "outputs": [],
   "source": [
    "testPath = Path(jobInfo['Convert'][0].split()[1].strip(\"'\"))"
   ]
  },
  {
   "cell_type": "code",
   "execution_count": 19,
   "metadata": {},
   "outputs": [
    {
     "data": {
      "text/plain": [
       "PosixPath('/media/hockettp/StoreM/ePolyScat_stuff/no2/electronic_structure')"
      ]
     },
     "execution_count": 19,
     "metadata": {},
     "output_type": "execute_result"
    }
   ],
   "source": [
    "testPath.parent"
   ]
  },
  {
   "cell_type": "code",
   "execution_count": 21,
   "metadata": {},
   "outputs": [
    {
     "data": {
      "text/plain": [
       "'no2_RLL.molden'"
      ]
     },
     "execution_count": 21,
     "metadata": {},
     "output_type": "execute_result"
    }
   ],
   "source": [
    "testPath.name"
   ]
  },
  {
   "cell_type": "code",
   "execution_count": 23,
   "metadata": {},
   "outputs": [
    {
     "data": {
      "text/plain": [
       "False"
      ]
     },
     "execution_count": 23,
     "metadata": {},
     "output_type": "execute_result"
    }
   ],
   "source": [
    "testPath.is_file()"
   ]
  },
  {
   "cell_type": "code",
   "execution_count": 26,
   "metadata": {},
   "outputs": [
    {
     "data": {
      "text/plain": [
       "PosixPath('/home/no2_RLL.molden')"
      ]
     },
     "execution_count": 26,
     "metadata": {},
     "output_type": "execute_result"
    }
   ],
   "source": [
    "Path('/home', testPath.name)"
   ]
  },
  {
   "cell_type": "code",
   "execution_count": null,
   "metadata": {},
   "outputs": [],
   "source": []
  }
 ],
 "metadata": {
  "kernelspec": {
   "display_name": "Python 3",
   "language": "python",
   "name": "python3"
  },
  "language_info": {
   "codemirror_mode": {
    "name": "ipython",
    "version": 3
   },
   "file_extension": ".py",
   "mimetype": "text/x-python",
   "name": "python",
   "nbconvert_exporter": "python",
   "pygments_lexer": "ipython3",
   "version": "3.7.6"
  }
 },
 "nbformat": 4,
 "nbformat_minor": 4
}
