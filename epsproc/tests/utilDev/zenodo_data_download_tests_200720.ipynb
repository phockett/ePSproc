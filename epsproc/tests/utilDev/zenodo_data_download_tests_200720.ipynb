{
 "cells": [
  {
   "cell_type": "markdown",
   "metadata": {},
   "source": [
    "# Zenodo data downloads\n",
    "20/07/20\n",
    "\n",
    "Quick tests for data IO with Zenodo.\n",
    "\n",
    "(See also [epsman](https://github.com/phockett/epsman) for Zenodo API stuff (in development) for [packaging & uploading to Zenodo + ePSdata](https://phockett.github.io/ePSdata/index.html).)\n",
    "\n",
    "Options:\n",
    "\n",
    "* Basic `requests.get()` with [Zenodo API](https://developers.zenodo.org/#representation22) should be fine.\n",
    "* Python wrappers, e.g. [zenodo_get](https://gitlab.com/dvolgyes/zenodo_get/-/blob/master/zenodo_get/__main__.py)\n",
    "\n",
    "Testing with record: http://dx.doi.org/10.5281/zenodo.3629721"
   ]
  },
  {
   "cell_type": "markdown",
   "metadata": {},
   "source": [
    "## Basic requests usage from URL"
   ]
  },
  {
   "cell_type": "code",
   "execution_count": 29,
   "metadata": {},
   "outputs": [],
   "source": [
    "import requests\n",
    "\n",
    "# From doi\n",
    "urlDOI = 'http://dx.doi.org/10.5281/zenodo.3629721'\n",
    "\n",
    "r = requests.get(urlDOI)\n"
   ]
  },
  {
   "cell_type": "code",
   "execution_count": 30,
   "metadata": {},
   "outputs": [
    {
     "data": {
      "text/plain": [
       "True"
      ]
     },
     "execution_count": 30,
     "metadata": {},
     "output_type": "execute_result"
    }
   ],
   "source": [
    "r.ok"
   ]
  },
  {
   "cell_type": "code",
   "execution_count": 31,
   "metadata": {},
   "outputs": [
    {
     "data": {
      "text/plain": [
       "['__attrs__',\n",
       " '__bool__',\n",
       " '__class__',\n",
       " '__delattr__',\n",
       " '__dict__',\n",
       " '__dir__',\n",
       " '__doc__',\n",
       " '__enter__',\n",
       " '__eq__',\n",
       " '__exit__',\n",
       " '__format__',\n",
       " '__ge__',\n",
       " '__getattribute__',\n",
       " '__getstate__',\n",
       " '__gt__',\n",
       " '__hash__',\n",
       " '__init__',\n",
       " '__init_subclass__',\n",
       " '__iter__',\n",
       " '__le__',\n",
       " '__lt__',\n",
       " '__module__',\n",
       " '__ne__',\n",
       " '__new__',\n",
       " '__nonzero__',\n",
       " '__reduce__',\n",
       " '__reduce_ex__',\n",
       " '__repr__',\n",
       " '__setattr__',\n",
       " '__setstate__',\n",
       " '__sizeof__',\n",
       " '__str__',\n",
       " '__subclasshook__',\n",
       " '__weakref__',\n",
       " '_content',\n",
       " '_content_consumed',\n",
       " '_next',\n",
       " 'apparent_encoding',\n",
       " 'close',\n",
       " 'connection',\n",
       " 'content',\n",
       " 'cookies',\n",
       " 'elapsed',\n",
       " 'encoding',\n",
       " 'headers',\n",
       " 'history',\n",
       " 'is_permanent_redirect',\n",
       " 'is_redirect',\n",
       " 'iter_content',\n",
       " 'iter_lines',\n",
       " 'json',\n",
       " 'links',\n",
       " 'next',\n",
       " 'ok',\n",
       " 'raise_for_status',\n",
       " 'raw',\n",
       " 'reason',\n",
       " 'request',\n",
       " 'status_code',\n",
       " 'text',\n",
       " 'url']"
      ]
     },
     "execution_count": 31,
     "metadata": {},
     "output_type": "execute_result"
    }
   ],
   "source": [
    "dir(r)"
   ]
  },
  {
   "cell_type": "code",
   "execution_count": 32,
   "metadata": {},
   "outputs": [
    {
     "name": "stdout",
     "output_type": "stream",
     "text": [
      "\n",
      "<!DOCTYPE html>\n",
      "<html lang=\"en\" dir=\"ltr\">\n",
      "  <head>\n",
      "\n",
      "<meta charset=\"utf-8\">\n",
      "<meta http-equiv=\"X-UA-Compatible\" content=\"IE=edge\">\n",
      "<meta name=\"viewport\" content=\"width=device-width, initial-scale=1\">\n",
      "    <meta name=\"google-site-verification\" content=\"5fPGCLllnWrvFxH9QWI0l1TadV7byeEvfPcyK2VkS_s\"/>\n",
      "    <meta name=\"google-site-verification\" content=\"Rp5zp04IKW-s1IbpTOGB7Z6XY60oloZD5C3kTM-AiY4\"/>\n",
      "\n",
      "<meta name=\"norton-safeweb-site-verification\" content=\"umenay8zh4kswbi568zqp19bqb-jvngusibub1ygib0x3jne9rig0fnmtofm8abb7lkzgltqp5yhm68s5qz4iqqkm39xl2o-p5foixd-1xfq4yig07ugcd1sp5kmyvpe\" />\n",
      "    <title>ePSproc: DABCO, HOMO ionization (orb 31, A1P), 1 - 50eV | Zenodo</title>\n",
      "    <link rel=\"shortcut icon\" href=\"/static/favicon.ico\"/>\n",
      "    <link rel=\"apple-touch-icon-precomposed\" sizes=\"144x144\" href=\"/static/apple-touch-icon-144-precomposed.png\"/>\n",
      "    <link rel=\"apple-touch-icon-precomposed\" sizes=\"114x114\" href=\"/static/apple-touch-icon-114-precomposed.png\"/>\n",
      "    <link rel=\"apple-touch-icon-precomposed\" sizes=\"72x72\" href=\"/static/apple-touch-icon-72-precomposed.png\"/>\n",
      "    <link rel=\"apple-touch-icon-precomposed\" sizes=\"57x57\" href=\"/static/apple-touch-icon-57-precomposed.png\"/>\n",
      "<link href=\"https://fonts.googleapis.com/css?family=Roboto:300,400,500,700,100,italic\" rel=\"stylesheet\">\n",
      "<link href=\"/static/gen/zenodo.3867f39d.css\" rel=\"stylesheet\">\n",
      "<!-- HTML5 shim and Respond.js for IE8 support of HTML5 elements and media queries -->\n",
      "<!--[if lt IE 9]>\n",
      "  <script src=\"https://oss.maxcdn.com/html5shiv/3.7.2/html5shiv.min.js\"></script>\n",
      "  <script src=\"https://oss.maxcdn.com/respond/1.4.2/respond.min.js\"></script>\n",
      "<![endif]-->\n",
      "  \n",
      "    <meta name=\"description\" content=\"DABCO, HOMO ionization (orb 31, A1P), 1 - 50eV - photoionization calculations with ePolyScat (ePS) + ePSproc.*Web version*: https://phockett.github.io/ePSdata/DABCO/DABCO_1-50.0eV_orb31_A1P.htmlFor more details of the calculations, see readme.txt, or: About ePSdataAbout ePSprocAbout ePS\" />\n",
      "    <meta name=\"citation_title\" content=\"ePSproc: DABCO, HOMO ionization (orb 31, A1P), 1 - 50eV\" />\n",
      "    <meta name=\"citation_author\" content=\"Hockett, Paul\" />\n",
      "    <meta name=\"citation_publication_date\" content=\"2020/01/28\" />\n",
      "    <meta name=\"citation_doi\" content=\"10.5281/zenodo.3629721\" />\n",
      "    <meta name=\"citation_keywords\" content=\"Data\" />\n",
      "    <meta name=\"citation_keywords\" content=\"Photoionization\" />\n",
      "    <meta name=\"citation_keywords\" content=\"Scattering calculation\" />\n",
      "    <meta name=\"citation_abstract_html_url\" content=\"https://zenodo.org/record/3629721\" />\n",
      "    <meta property=\"og:title\" content=\"ePSproc: DABCO, HOMO ionization (orb 31, A1P), 1 - 50eV\" />\n",
      "    <meta property=\"og:description\" content=\"DABCO, HOMO ionization (orb 31, A1P), 1 - 50eV - photoionization calculations with ePolyScat (ePS) + ePSproc.*Web version*: https://phockett.github.io/ePSdata/DABCO/DABCO_1-50.0eV_orb31_A1P.htmlFor more details of the calculations, see readme.txt, or: About ePSdataAbout ePSprocAbout ePS\" />\n",
      "    <meta property=\"og:url\" content=\"https://zenodo.org/record/3629721\" />\n",
      "    <meta property=\"og:site_name\" content=\"Zenodo\" />\n",
      "    <meta name=\"twitter:card\" content=\"summary\" />\n",
      "    <meta name=\"twitter:site\" content=\"@zenodo_org\" />\n",
      "    <meta name=\"twitter:title\" content=\"ePSproc: DABCO, HOMO ionization (orb 31, A1P), 1 - 50eV\" />\n",
      "    <meta name=\"twitter:description\" content=\"DABCO, HOMO ionization (orb 31, A1P), 1 - 50eV - photoionization calculations with ePolyScat (ePS) + ePSproc.*Web version*: https://phockett.github.io/ePSdata/DABCO/DABCO_1-50.0eV_orb31_A1P.htmlFor more details of the calculations, see readme.txt, or: About ePSdataAbout ePSprocAbout ePS\" />\n",
      "    <link rel=\"canonical\" href=\"https://zenodo.org/record/3629721\">\n",
      "    <link rel=\"alternate\" type=\"text/plain\" href=\"https://zenodo.org/record/3629721/files/readme.txt\">\n",
      "    <link rel=\"alternate\" type=\"application/octet-stream\" href=\"https://zenodo.org/record/3629721/files/DABCO_1-50.0eV_orb31_A1P.ipynb\">\n",
      "    <link rel=\"alternate\" type=\"application/octet-stream\" href=\"https://zenodo.org/record/3629721/files/DABCO_1-50.0eV_orb31_A1P.md\">\n",
      "    <link rel=\"alternate\" type=\"application/json\" href=\"https://zenodo.org/record/3629721/files/DABCO_1-50.0eV_orb31_A1P.json\">\n",
      "    <link rel=\"alternate\" type=\"application/zip\" href=\"https://zenodo.org/record/3629721/files/DABCO_1-50.0eV_orb31_A1P.zip\">\n",
      "  </head>\n",
      "  <body ng-csp  itemscope itemtype=\"http://schema.org/WebPage\" data-spy=\"scroll\" data-target=\".scrollspy-target\">\n",
      "    <!--[if lt IE 8]>\n",
      "      <p class=\"browserupgrade\">You are using an <strong>outdated</strong> browser. Please <a href=\"http://browsehappy.com/\">upgrade your browser</a> to improve your experience.</p>\n",
      "    <![endif]-->\n",
      "\n",
      "<header>\n",
      "  <nav class=\"navbar navbar-default navbar-static-top\">\n",
      "    <div class=\"container\">\n",
      "      <div class=\"navbar-header\">\n",
      "        <button type=\"button\" class=\"navbar-toggle collapsed\" data-toggle=\"collapse\" data-target=\"#navbar\" aria-expanded=\"false\" aria-controls=\"navbar\">\n",
      "          <span class=\"sr-only\">Toggle navigation</span>\n",
      "          <span class=\"icon-bar\"></span>\n",
      "          <span class=\"icon-bar\"></span>\n",
      "          <span class=\"icon-bar\"></span>\n",
      "        </button>\n",
      "          <a href=\"/\"><img class=\"navbar-brand\" src=\"/static/img/zenodo.svg\" alt=\"Zenodo\" /></a>\n",
      "      </div>\n",
      "      <div id=\"navbar\" class=\"navbar-collapse collapse\">\n",
      "<form class=\"navbar-form navbar-left navbar-search\" action=\"/search\" role=\"search\">\n",
      "  <div class=\"form-group\">\n",
      "    <div class=\"input-group\">\n",
      "      <input type=\"text\" class=\"form-control search\" name=\"q\" placeholder=\"Search\">\n",
      "      <div class=\"input-group-btn\">\n",
      "        <button type=\"submit\" class=\"btn btn-default\"><i class=\"fa fa-search\"></i></button>\n",
      "      </div>\n",
      "    </div>\n",
      "  </div>\n",
      "</form>\n",
      "        <ul class=\"nav navbar-nav\">\n",
      "            <li><a href=\"/deposit\">Upload</a></li>\n",
      "            <li><a href=\"/communities/\">Communities</a></li>\n",
      "        </ul>\n",
      "<form class=\"navbar-form navbar-right\">\n",
      "  <a href=\"/login/?next=%2Frecord%2F3629721\" class=\"btn btn-default\"><i class=\"fa fa-sign-in\"></i> Log in</a>\n",
      "  <a href=\"/signup/\" type=\"submit\" class=\"btn btn-default btn-warning\"><i class=\"fa fa-edit\"></i> Sign up</a>\n",
      "</form>\n",
      "      </div>\n",
      "    </div>\n",
      "  </nav>\n",
      "\n",
      "\n",
      "</header>\n",
      "<div class=\"container record-detail\">\n",
      "  <div class=\"row\">\n",
      "    <div class=\"col-sm-8 col-md-8 col-left\">\n",
      "      <p>\n",
      "        <time datetime=\"January 28, 2020\" data-toggle=\"tooltip\" title=\"Publication date\">January 28, 2020</time>\n",
      "        <span class=\"pull-right\">\n",
      "          \n",
      "<span class=\"label label-default\">Dataset</span>\n",
      "          \n",
      "<span class=\"label label-success\">\n",
      "Open Access\n",
      "</span>\n",
      "        </span>\n",
      "      </p>\n",
      "      <h1>ePSproc: DABCO, HOMO ionization (orb 31, A1P), 1 - 50eV</h1>\n",
      "      <p>\n",
      "<a href=\"https://orcid.org/0000-0001-9561-8433\"><img class=\"inline-orcid\" src=\"/static/img/orcid.png\" /></a>\n",
      "<span class=\"text-muted\" data-toggle=\"tooltip\" title=\"National Research Council of Canada\">Hockett, Paul</span></p>\n",
      "      <p>DABCO, HOMO ionization (orb 31, A1P), 1 - 50eV - photoionization calculations with ePolyScat (ePS) + ePSproc.<br><br>*Web version*: <a href=\"https://phockett.github.io/ePSdata/DABCO/DABCO_1-50.0eV_orb31_A1P.html\">https://phockett.github.io/ePSdata/DABCO/DABCO_1-50.0eV_orb31_A1P.html</a><br><br>For more details of the calculations, see readme.txt, or: <ul><li><a href=\"https://phockett.github.io/ePSdata/about.html\">About ePSdata</a></li><li><a href=\"http://epsproc.readthedocs.io/en/latest/about.html\">About ePSproc</a></li><li><a href=\"http://www.chem.tamu.edu/rgroup/lucchese/ePolyScat.E3.manual/manual.html\">About ePS</a></li></ul></p>\n",
      "\n",
      "\n",
      "  <div class=\"panel panel-default\" id=\"preview\">\n",
      "    <div class=\"panel-heading\">\n",
      "      <a class=\"panel-toggle\" data-toggle=\"collapse\" href=\"#collapseOne\">\n",
      "        Preview\n",
      "        <span class=\"pull-right show-on-collapsed\"><i class=\"fa fa-chevron-right\"></i></span>\n",
      "        <span class=\"pull-right hide-on-collapsed\"><i class=\"fa fa-chevron-down\"></i></span>\n",
      "      </a>\n",
      "    </div>\n",
      "    <div id=\"collapseOne\" class=\"collapse in\">\n",
      "  <iframe\n",
      "   class=\"preview-iframe\"\n",
      "   id=\"preview-iframe\"\n",
      "   width=\"100%\"\n",
      "   height=\"400\"\n",
      "   src=\"/record/3629721/preview/DABCO_1-50.0eV_orb31_A1P.json\"></iframe>\n",
      "    </div>\n",
      "  </div><div class=\"panel panel-default files-box\" id=\"files\">\n",
      "  <div class=\"panel-heading\">\n",
      "    <a class=\"panel-toggle\" data-toggle=\"collapse\" href=\"#collapseTwo\">\n",
      "      Files\n",
      "      <span class=\"pull-right show-on-collapsed\"><i class=\"fa fa-chevron-right\"></i></span>\n",
      "      <span class=\"pull-right hide-on-collapsed\"><i class=\"fa fa-chevron-down\"></i></span>\n",
      "    </a>\n",
      "    <small class=\"text-muted\"> (1.5 MB)</small>\n",
      "  </div>\n",
      "  <div class=\"collapse in\" id=\"collapseTwo\">\n",
      "  <table class=\"table table-striped\" >\n",
      "    <thead>\n",
      "      <tr class=\"\">\n",
      "        <th>Name</th>\n",
      "        <th>Size</th>\n",
      "      </tr>\n",
      "    </thead>\n",
      "    <tbody>\n",
      "      <tr>\n",
      "        <td>\n",
      "          <a class=\"filename\" href=\"/record/3629721/files/DABCO_1-50.0eV_orb31_A1P.ipynb?download=1\">DABCO_1-50.0eV_orb31_A1P.ipynb</a>\n",
      "          <br/><small class=\"text-muted nowrap\">md5:9b5dfcd5ffd6b07c2dd7d71012182ba0 <i class=\"fa fa-question-circle text-muted\" data-toggle=\"tooltip\" tooltip data-placement=\"top\" title=\"This is the file fingerprint (MD5 checksum), which can be used to verify the file integrity.\"></i></small>\n",
      "        </td>\n",
      "        <td class=\"nowrap\">1.1 MB</td>\n",
      "        <td class=\"nowrap\"><span class=\"pull-right\"><a class=\"btn btn-xs btn-default\" href=\"/record/3629721/files/DABCO_1-50.0eV_orb31_A1P.ipynb?download=1\"><i class=\"fa fa-download\"></i> Download</a></span></td>\n",
      "      </tr>\n",
      "      <tr>\n",
      "        <td>\n",
      "          <a class=\"filename\" href=\"/record/3629721/files/DABCO_1-50.0eV_orb31_A1P.json?download=1\">DABCO_1-50.0eV_orb31_A1P.json</a>\n",
      "          <br/><small class=\"text-muted nowrap\">md5:5191faff45e02f332d9de6be9bfb1505 <i class=\"fa fa-question-circle text-muted\" data-toggle=\"tooltip\" tooltip data-placement=\"top\" title=\"This is the file fingerprint (MD5 checksum), which can be used to verify the file integrity.\"></i></small>\n",
      "        </td>\n",
      "        <td class=\"nowrap\">6.5 kB</td>\n",
      "        <td class=\"nowrap\"><span class=\"pull-right\"><button class=\"btn preview-link btn-xs btn-default\" data-filename=\"DABCO_1-50.0eV_orb31_A1P.json\"><i class=\"fa fa-eye\"></i> Preview</button> <a class=\"btn btn-xs btn-default\" href=\"/record/3629721/files/DABCO_1-50.0eV_orb31_A1P.json?download=1\"><i class=\"fa fa-download\"></i> Download</a></span></td>\n",
      "      </tr>\n",
      "      <tr>\n",
      "        <td>\n",
      "          <a class=\"filename\" href=\"/record/3629721/files/DABCO_1-50.0eV_orb31_A1P.md?download=1\">DABCO_1-50.0eV_orb31_A1P.md</a>\n",
      "          <br/><small class=\"text-muted nowrap\">md5:0fd73647dc2d4d89acc08343376ca9a3 <i class=\"fa fa-question-circle text-muted\" data-toggle=\"tooltip\" tooltip data-placement=\"top\" title=\"This is the file fingerprint (MD5 checksum), which can be used to verify the file integrity.\"></i></small>\n",
      "        </td>\n",
      "        <td class=\"nowrap\">2.1 kB</td>\n",
      "        <td class=\"nowrap\"><span class=\"pull-right\"><button class=\"btn preview-link btn-xs btn-default\" data-filename=\"DABCO_1-50.0eV_orb31_A1P.md\"><i class=\"fa fa-eye\"></i> Preview</button> <a class=\"btn btn-xs btn-default\" href=\"/record/3629721/files/DABCO_1-50.0eV_orb31_A1P.md?download=1\"><i class=\"fa fa-download\"></i> Download</a></span></td>\n",
      "      </tr>\n",
      "      <tr>\n",
      "        <td>\n",
      "          <a class=\"filename\" href=\"/record/3629721/files/DABCO_1-50.0eV_orb31_A1P.zip?download=1\">DABCO_1-50.0eV_orb31_A1P.zip</a>\n",
      "          <br/><small class=\"text-muted nowrap\">md5:e317b0ca404a0548b6068d5fc8cf33ad <i class=\"fa fa-question-circle text-muted\" data-toggle=\"tooltip\" tooltip data-placement=\"top\" title=\"This is the file fingerprint (MD5 checksum), which can be used to verify the file integrity.\"></i></small>\n",
      "        </td>\n",
      "        <td class=\"nowrap\">368.9 kB</td>\n",
      "        <td class=\"nowrap\"><span class=\"pull-right\"><button class=\"btn preview-link btn-xs btn-default\" data-filename=\"DABCO_1-50.0eV_orb31_A1P.zip\"><i class=\"fa fa-eye\"></i> Preview</button> <a class=\"btn btn-xs btn-default\" href=\"/record/3629721/files/DABCO_1-50.0eV_orb31_A1P.zip?download=1\"><i class=\"fa fa-download\"></i> Download</a></span></td>\n",
      "      </tr>\n",
      "      <tr>\n",
      "        <td>\n",
      "          <a class=\"filename\" href=\"/record/3629721/files/readme.txt?download=1\">readme.txt</a>\n",
      "          <br/><small class=\"text-muted nowrap\">md5:81344c7b1e377411b267941ff04dadf7 <i class=\"fa fa-question-circle text-muted\" data-toggle=\"tooltip\" tooltip data-placement=\"top\" title=\"This is the file fingerprint (MD5 checksum), which can be used to verify the file integrity.\"></i></small>\n",
      "        </td>\n",
      "        <td class=\"nowrap\">863 Bytes</td>\n",
      "        <td class=\"nowrap\"><span class=\"pull-right\"><a class=\"btn btn-xs btn-default\" href=\"/record/3629721/files/readme.txt?download=1\"><i class=\"fa fa-download\"></i> Download</a></span></td>\n",
      "      </tr></tbody>\n",
      "    </table>\n",
      "  </div>\n",
      "</div>\n",
      "\n",
      "\n",
      "\n",
      "\n",
      "\n",
      "\n",
      "<div id=\"citations\">\n",
      "  <invenio-search\n",
      "   disable-url-handler=\"true\"\n",
      "   search-endpoint=\"https://zenodo-broker.web.cern.ch/api/relationships\"\n",
      "   search-extra-params='{\"group_by\": \"version\", \"id\": \"10.5281/zenodo.3629720\", \"page\": 1, \"size\": 10}'\n",
      "   search-hidden-params='{\"relation\": \"isCitedBy\", \"scheme\": \"doi\"}'\n",
      "   search-headers='{\"Accept\": \"application/json\"}' >\n",
      "    <div class=\"panel panel-default\" id=\"citation\">\n",
      "      <div class=\"panel-heading\">\n",
      "        <!-- Beta ribbon -->\n",
      "        <div class=\"row\" style=\"margin-bottom: -15px;\">\n",
      "          <div class=\"col-sm-1\">\n",
      "            <div class=\"ribbon-wrapper-green\">\n",
      "              <a href=\"https://help.zenodo.org/#citations\" target=\"_blank\" rel=\"noopener noreferrer\">\n",
      "                <div class=\"corner-ribbon top-left ribbon-green\">Beta</div>\n",
      "              </a>\n",
      "            </div>\n",
      "          </div>\n",
      "          <div class=\"col-sm-11\" style=\"margin-top: 5px;\">\n",
      "            <a class=\"panel-toggle\" data-toggle=\"collapse\" href=\"#collapseCitations\" style=\"margin-left:-25px;\">\n",
      "              Citations\n",
      "            </a>\n",
      "            <a href=\"https://help.zenodo.org/#citations\" target=\"_blank\" rel=\"noopener noreferrer\">\n",
      "              <i class=\"fa fa-question-circle\"></i>\n",
      "            </a>\n",
      "            <small class=\"text-muted\">\n",
      "              <invenio-search-count template=\"/static/templates/citations/count.html\">\n",
      "              </invenio-search-count>\n",
      "            </small>\n",
      "            <a class=\"panel-toggle\" data-toggle=\"collapse\" href=\"#collapseCitations\" style=\"margin-left:-25px;\">\n",
      "              <span class=\"pull-right show-on-collapsed\"><i class=\"fa fa-chevron-right\"></i></span>\n",
      "              <span class=\"pull-right hide-on-collapsed\"><i class=\"fa fa-chevron-down\"></i></span>\n",
      "            </a>\n",
      "          </div>\n",
      "        </div>\n",
      "\n",
      "        <!-- Without beta ribbon -->\n",
      "        <!--<a class=\"panel-toggle\" data-toggle=\"collapse\" href=\"#collapseCitations\">-->\n",
      "          <!--Citations-->\n",
      "          <!--<small class=\"text-muted\">-->\n",
      "            <!--<invenio-search-count-->\n",
      "            <!--template=\"/static/templates/citations/count.html\">-->\n",
      "            <!--</invenio-search-count>-->\n",
      "          <!--</small>-->\n",
      "          <!--<span class=\"pull-right show-on-collapsed\"><i class=\"fa fa-chevron-right\"></i></span>-->\n",
      "          <!--<span class=\"pull-right hide-on-collapsed\"><i class=\"fa fa-chevron-down\"></i></span>-->\n",
      "        <!--</a>-->\n",
      "\n",
      "      </div>\n",
      "      <div id=\"collapseCitations\" class=\"collapse in\">\n",
      "        <div class=\"search-page\">\n",
      "          <div class=\"container-fluid facets\">\n",
      "            <div class=\"row\">\n",
      "              <div class=\"col-sm-9\">\n",
      "                <invenio-search-facets\n",
      "                   ng-init=\"vm.record_id='10.5281/zenodo.3629721'; vm.version_id='10.5281/zenodo.3629720'\"\n",
      "                   template=\"/static/templates/citations/facets.html\">\n",
      "                </invenio-search-facets>\n",
      "              </div>\n",
      "              <div class=\"col-sm-3\">\n",
      "                <invenio-search-bar\n",
      "                  template=\"/static/templates/invenio_search_ui/searchbar.html\"\n",
      "                  placeholder=\"Search\">\n",
      "                </invenio-search-bar>\n",
      "              </div>\n",
      "            </div>\n",
      "          </div>\n",
      "          <div class=\"container-fluid\">\n",
      "          <invenio-search-error\n",
      "            template=\"/static/templates/zenodo_search_ui/error.html\"\n",
      "            message=\"Error\">\n",
      "          </invenio-search-error>\n",
      "          </div>\n",
      "          <invenio-search-results\n",
      "           template=\"/static/templates/citations/results.html\">\n",
      "          </invenio-search-results>\n",
      "          <div class=\"row\">\n",
      "            <div class=\"col-md-2 col-sm-12\">\n",
      "            </div>\n",
      "            <div class=\"col-md-7 col-sm-12 text-center\">\n",
      "              <invenio-search-pagination\n",
      "                template=\"/static/templates/citations/pagination.html\">\n",
      "              </invenio-search-pagination>\n",
      "            </div>\n",
      "            <div class=\"col-md-3 col-sm-12\" style=\"padding-top: 5px;\">\n",
      "              <invenio-search-select-box\n",
      "                 sort-key=\"size\"\n",
      "                 available-options='{\n",
      "                  \"options\": [\n",
      "                     {\n",
      "                       \"title\": \"10\",\n",
      "                       \"value\": \"10\"\n",
      "                     },\n",
      "                     {\n",
      "                       \"title\": \"20\",\n",
      "                       \"value\": \"20\"\n",
      "                     },\n",
      "                     {\n",
      "                       \"title\": \"50\",\n",
      "                       \"value\": \"50\"\n",
      "                     }\n",
      "                  ]}'\n",
      "                 template=\"/static/templates/citations/selectbox.html\">\n",
      "                </invenio-search-select-box>\n",
      "            </div>\n",
      "          </div>\n",
      "      </div>\n",
      "    </div>\n",
      "    </div>\n",
      "  </invenio-search>\n",
      "</div>\n",
      "\n",
      "    </div>\n",
      "    <div class=\"col-sm-4 col-md-4 col-right\">\n",
      "\n",
      "\n",
      "      \n",
      "      <div class=\"well\"><!-- Stats -->\n",
      "<div class=\"row stats-box\">\n",
      "  <div id=\"accordion\">\n",
      "    <!-- Banner --><div class=\"row\">\n",
      "      <div class=\"col-sm-6\">\n",
      "        <span class=\"stats-data\">3</span>\n",
      "      </div>\n",
      "      <div class=\"col-sm-6\">\n",
      "        <span class=\"stats-data\">10</span>\n",
      "      </div>\n",
      "    </div>\n",
      "    <div class=\"row\">\n",
      "      <div class=\"col-sm-6\">\n",
      "        <i class=\"fa fa-eye \" data-toggle=\"tooltip\" tooltip data-placement=\"top\" title=\"Total views.\" data-original-title=\"Total views.\"></i> views\n",
      "      </div>\n",
      "      <div class=\"col-sm-6\">\n",
      "        <i class=\"fa fa-download \" data-toggle=\"tooltip\" tooltip data-placement=\"top\" title=\"Total downloads.\" data-original-title=\"Total downloads.\"></i> downloads\n",
      "      </div>\n",
      "    </div>\n",
      "\n",
      "    <!-- Collapsed details -->\n",
      "    <div id=\"toggle-stats\" class=\"row\">\n",
      "      <div class=\"col-sm-12\">\n",
      "        <a style=\"cursor: pointer;\" class=\"panel-toggle\" data-toggle=\"collapse\" data-target=\"#collapse-stats\" aria-expanded=\"true\" aria-controls=\"collapse-stats\">\n",
      "          See more details...\n",
      "        </a>\n",
      "      </div>\n",
      "    </div>\n",
      "    <div id=\"collapse-stats\" class=\"collapse\" aria-labelledby=\"toggle-stats\" data-parent=\"#accordion\">\n",
      "      <table class=\"table stats-table\">\n",
      "        <!-- Skip table header if no versions --><tr>\n",
      "          <th></th>\n",
      "          <th>All versions</th>\n",
      "          <th>This version</th>\n",
      "        </tr><tr>\n",
      "          <td>Views <i class=\"fa fa-question-circle text-muted\" data-toggle=\"tooltip\" tooltip data-placement=\"top\" title=\"Total views.\" data-original-title=\"Total views.\"></i></td><td>3</td><td>3</td>\n",
      "        </tr>\n",
      "        <tr>\n",
      "          <td>Downloads <i class=\"fa fa-question-circle text-muted\" data-toggle=\"tooltip\" tooltip data-placement=\"top\" title=\"Total downloads.\" data-original-title=\"Total downloads.\"></i></td><td>10</td><td>10</td>\n",
      "        </tr>\n",
      "        <tr>\n",
      "          <td>Data volume <i class=\"fa fa-question-circle text-muted\" data-toggle=\"tooltip\" tooltip data-placement=\"top\" title=\"Total download volume.\" data-original-title=\"Total download volume.\"></i></td><td>3.0 MB</td><td>3.0 MB</td>\n",
      "        </tr>\n",
      "        <tr>\n",
      "          <td>Unique views <i class=\"fa fa-question-circle text-muted\" data-toggle=\"tooltip\" tooltip data-placement=\"top\" title=\"Views in one hour user-sessions are counted only once.\" data-original-title=\"Views in one hour user-sessions are counted only once.\"></i></td><td>3</td><td>3</td>\n",
      "        </tr>\n",
      "        <tr>\n",
      "          <td>Unique downloads <i class=\"fa fa-question-circle text-muted\" data-toggle=\"tooltip\" tooltip data-placement=\"top\" title=\"Downloads in one hour user-sessions are counted only once.\" data-original-title=\"Downloads in one hour user-sessions are counted only once.\"></i></td><td>2</td><td>2</td>\n",
      "        </tr>\n",
      "      </table>\n",
      "      <div class=\"row\">\n",
      "        <a href=\"https://help.zenodo.org/#statistics\">More info on how stats are collected.</a>\n",
      "      </div>\n",
      "    </div>\n",
      "  </div>\n",
      "</div>\n",
      "      </div>\n",
      "<div class=\"well metadata\">\n",
      "  \n",
      "    <small class=\"text-muted\">Indexed in</small>\n",
      "    <a href=\"https://explore.openaire.eu/search/dataset?datasetId=r37b0ad08687::294b4dbc56393ce7e2656bfa81b207fa\">\n",
      "      <img src=\"/static/img/openaire-horizontal-old.png\" class=\"img-thumbnail\" width=\"100%\" />\n",
      "    </a>\n",
      "</div>\n",
      "      <div class=\"well metadata\"><dl>\n",
      "    <dt>Publication date:</dt>\n",
      "    <dd>January 28, 2020</dd>\n",
      "    <dt>DOI:</dt>\n",
      "    <dd>\n",
      "      <span class=\"get-badge\" data-toggle=\"`tooltip\" data-placement=\"bottom\"\n",
      "            title=\"Get the DOI badge!\">\n",
      "        <img data-toggle=\"modal\" data-target=\"[data-modal='10.5281/zenodo.3629721']\"\n",
      "              src=\"/badge/DOI/10.5281/zenodo.3629721.svg\" alt=\"10.5281/zenodo.3629721\">\n",
      "        </img>\n",
      "      </span>\n",
      "      <div class=\"modal fade badge-modal\" data-modal=\"10.5281/zenodo.3629721\">\n",
      "        <div class=\"modal-dialog\">\n",
      "          <div class=\"modal-content\">\n",
      "            <div class=\"modal-body\">\n",
      "              <h4>Zenodo DOI Badge</h4>\n",
      "              <h4>\n",
      "                  <small>DOI</small>\n",
      "              </h4>\n",
      "              <h4>\n",
      "                  <pre>10.5281/zenodo.3629721</pre>\n",
      "              </h4>\n",
      "              \n",
      "              \n",
      "    <h4>\n",
      "        <small>Markdown</small>\n",
      "    </h4>\n",
      "    <h4>\n",
      "        <pre>[![DOI](https://zenodo.org/badge/DOI/10.5281/zenodo.3629721.svg)](https://doi.org/10.5281/zenodo.3629721)</pre>\n",
      "    </h4>\n",
      "    <h4>\n",
      "        <small>reStructedText</small>\n",
      "    </h4>\n",
      "    <h4>\n",
      "        <pre>.. image:: https://zenodo.org/badge/DOI/10.5281/zenodo.3629721.svg\n",
      "   :target: https://doi.org/10.5281/zenodo.3629721</pre>\n",
      "    </h4>\n",
      "    <h4>\n",
      "        <small>HTML</small>\n",
      "    </h4>\n",
      "    <h4>\n",
      "      <pre>&lt;a href=\"https://doi.org/10.5281/zenodo.3629721\"&gt;&lt;img src=\"https://zenodo.org/badge/DOI/10.5281/zenodo.3629721.svg\" alt=\"DOI\"&gt;&lt;/a&gt;</pre>\n",
      "    </h4>\n",
      "\n",
      "    <h4>\n",
      "        <small>Image URL</small>\n",
      "    </h4>\n",
      "    <h4>\n",
      "      <pre>https://zenodo.org/badge/DOI/10.5281/zenodo.3629721.svg</pre>\n",
      "    </h4>\n",
      "\n",
      "    <h4>\n",
      "        <small>Target URL</small>\n",
      "    </h4>\n",
      "    <h4>\n",
      "      <pre>https://doi.org/10.5281/zenodo.3629721</pre>\n",
      "    </h4>\n",
      "            </div>\n",
      "          </div>\n",
      "        </div>\n",
      "      </div>\n",
      "    </dd>\n",
      "    <dt>Keyword(s):</dt>\n",
      "    <dd>\n",
      "      \n",
      "      <a class=\"label-link\" href=\"/search?q=keywords%3A%22Data%22\">\n",
      "        <span class=\"label label-default\">Data</span>\n",
      "      </a>\n",
      "      \n",
      "      <a class=\"label-link\" href=\"/search?q=keywords%3A%22Photoionization%22\">\n",
      "        <span class=\"label label-default\">Photoionization</span>\n",
      "      </a>\n",
      "      \n",
      "      <a class=\"label-link\" href=\"/search?q=keywords%3A%22Scattering+calculation%22\">\n",
      "        <span class=\"label label-default\">Scattering calculation</span>\n",
      "      </a>\n",
      "    </dd>\n",
      "\n",
      "  \n",
      "    <dt>License (for files):</dt>\n",
      "    <dd><a rel=\"license\" href=\"https://creativecommons.org/licenses/by/4.0/legalcode\"><i class=\"fa fa-external-link\"></i> Creative Commons Attribution 4.0 International</a></dd>\n",
      "  </dl>\n",
      "      </div>\n",
      "  <div class=\"well metadata\">\n",
      "    <h4>Versions</h4>\n",
      "    <table class=\"table\">\n",
      "      <tr class=\"info\">\n",
      "        <td>\n",
      "          <a href=\"/record/3629721\">Version 1 </a>\n",
      "          <small class=\"text-muted\">10.5281/zenodo.3629721</small>\n",
      "        </td>\n",
      "        <td align=\"right\"><small class=\"text-muted\">Jan 28, 2020</small></td>\n",
      "      </tr>\n",
      "    </table>\n",
      "    <small>\n",
      "      <strong>Cite all versions?</strong> You can cite all versions by using the DOI <a href=\"https://doi.org/10.5281/zenodo.3629720\">10.5281/zenodo.3629720</a>. This DOI represents all versions, and will always resolve to the latest one. <a href=\"http://help.zenodo.org/#versioning\">Read more</a>.\n",
      "    </small>\n",
      "  </div>\n",
      "      <div class=\"well\"><h4>Share</h4>\n",
      "  <!-- AddThis Button BEGIN -->\n",
      "  <div class=\"addthis_toolbox addthis_default_style addthis_32x32_style\" addthis:url=\"https://doi.org/10.5281/zenodo.3629721\">\n",
      "  <a class=\"addthis_button_mendeley\"></a>\n",
      "  <a class=\"addthis_button_citeulike\"></a>\n",
      "  <a class=\"addthis_button_twitter\"></a>\n",
      "  <a class=\"addthis_button_preferred_1\"></a>\n",
      "  <a class=\"addthis_button_preferred_2\"></a>\n",
      "  <a class=\"addthis_button_compact\"></a>\n",
      "  </div>\n",
      "  <!-- AddThis Button END -->\n",
      "  <h4>Cite as</h4>\n",
      "  <div id='invenio-csl'>\n",
      "    \n",
      "    <invenio-csl\n",
      "        ng-init=\"vm.citationResult = 'Hockett, Paul. (2020). ePSproc: DABCO, HOMO ionization (orb 31, A1P), 1 - 50eV [Data set]. Zenodo. http://doi.org/10.5281/zenodo.3629721'\"\n",
      "    >\n",
      "      <invenio-csl-citeproc\n",
      "       endpoint=\"/api/records/3629721\"\n",
      "       template=\"/static/templates/invenio_csl/citeproc.html\"></invenio-csl-citeproc>\n",
      "      <invenio-csl-error\n",
      "       template=\"/static/node_modules/invenio-csl-js/dist/templates/error.html\"></invenio-csl-error>\n",
      "      <invenio-csl-loading\n",
      "       template=\"/static/node_modules/invenio-csl-js/dist/templates/loading.html\"></invenio-csl-loading>\n",
      "      <invenio-csl-typeahead\n",
      "       lazy=\"true\"\n",
      "       placeholder=\"Start typing a citation style...\"\n",
      "       remote=\"/api/csl/styles\"\n",
      "       template=\"/static/node_modules/invenio-csl-js/dist/templates/typeahead.html\"\n",
      "       item-template=\"/static/templates/invenio_csl/item.html\">\n",
      "      </invenio-csl-typeahead>\n",
      "    </invenio-csl>\n",
      "  </div>\n",
      "      </div>\n",
      "      <div class=\"well\"><h4>Export</h4>\n",
      "<ul class=\"list-inline\">\n",
      "  <li><a href=\"/record/3629721/export/hx\">BibTeX</a></li>\n",
      "  <li><a href=\"/record/3629721/export/csl\">CSL</a></li>\n",
      "  <li><a href=\"/record/3629721/export/dcite4\">DataCite</a></li>\n",
      "  <li><a href=\"/record/3629721/export/xd\">Dublin Core</a></li>\n",
      "  <li><a href=\"/record/3629721/export/dcat\">DCAT</a></li>\n",
      "  <li><a href=\"/record/3629721/export/json\">JSON</a></li>\n",
      "  <li><a href=\"/record/3629721/export/schemaorg_jsonld\">JSON-LD</a></li>\n",
      "  <li><a href=\"/record/3629721/export/geojson\">GeoJSON</a></li>\n",
      "  <li><a href=\"/record/3629721/export/xm\">MARCXML</a></li>\n",
      "  <li><a href=\"https://www.mendeley.com/import/?url=https://zenodo.org/record/3629721\"><i class=\"fa fa-external-link\"></i> Mendeley</a></li>\n",
      "</ul>\n",
      "      </div>\n",
      "    </div>\n",
      "  </div>\n",
      "</div>\n",
      "<footer class=\"footer\">\n",
      "  <div class=\"menu-wrapper\">\n",
      "    <div class=\"container\">\n",
      "      <div class=\"row footer-menu\">\n",
      "        <div class=\"col-xs-12 col-md-8\">\n",
      "          <div class=\"row\">\n",
      "            <div class=\"col-xs-2 col-md-2\">\n",
      "              <h5>About</h5>\n",
      "              <ul class=\"list-unstyled\">\n",
      "                <li><a href=\"http://about.zenodo.org\">About</a></li>\n",
      "                <li><a href=\"http://about.zenodo.org/policies\">Policies</a></li>\n",
      "                <li><a href=\"http://about.zenodo.org/infrastructure\">Infrastructure</a></li>\n",
      "                <li><a href=\"http://about.zenodo.org/principles\">Principles</a></li>\n",
      "                <li><a href=\"http://about.zenodo.org/contact\">Contact</a></li>\n",
      "              </ul>\n",
      "            </div>\n",
      "            <div class=\"col-xs-2 col-md-2\">\n",
      "              <h5>Blog</h5>\n",
      "              <ul class=\"list-unstyled\">\n",
      "                <li><a href=\"http://blog.zenodo.org\">Blog</a></li>\n",
      "              </ul>\n",
      "            </div>\n",
      "            <div class=\"col-xs-2 col-md-2\">\n",
      "              <h5>Help</h5>\n",
      "              <ul class=\"list-unstyled\">\n",
      "                <li><a href=\"http://help.zenodo.org\">FAQ</a></li>\n",
      "                <li><a href=\"http://help.zenodo.org/features\">Features</a></li>\n",
      "              </ul>\n",
      "            </div>\n",
      "            <div class=\"col-xs-2 col-md-2\">\n",
      "              <h5>Developers</h5>\n",
      "              <ul class=\"list-unstyled\">\n",
      "              <li><a href=\"http://developers.zenodo.org\">REST API</a></li>\n",
      "              <li><a href=\"http://developers.zenodo.org#oai-pmh\">OAI-PMH</a></li>\n",
      "              </ul>\n",
      "            </div>\n",
      "            <div class=\"col-xs-2 col-md-2\">\n",
      "              <h5>Contribute</h5>\n",
      "              <ul class=\"list-unstyled\">\n",
      "                <li><a href=\"http://github.com/zenodo/zenodo\"><i class=\"fa fa-external-link\"></i> GitHub</a></li>\n",
      "                <li><a href=\"/donate\"><i class=\"fa fa-external-link\"></i> Donate</a></li>\n",
      "              </ul>\n",
      "            </div>\n",
      "          </div>\n",
      "        </div>\n",
      "        <div class=\"col-xs-12 col-md-4\">\n",
      "          <div class=\"pull-right-md text-center-sm text-center-xs\">\n",
      "            <h5>Funded by</h5>\n",
      "            <ul class=\"list-inline\">\n",
      "              <li><a href=\"http://home.cern\"><img src=\"/static/img/cern.png\" width=\"60\" height=\"60\" /></a></li>\n",
      "              <li><a href=\"http://www.openaire.eu\"><img src=\"/static/img/openaire.png\" width=\"80\" /></a></li>\n",
      "              <li><a href=\"https://ec.europa.eu/programmes/horizon2020/\"><img src=\"/static/img/eu.png\" width=\"88\" height=\"60\" /></a></li>\n",
      "            </ul>\n",
      "          </div>\n",
      "        </div>\n",
      "      </div>\n",
      "    </div>\n",
      "  </div>\n",
      "  <div class=\"container\">\n",
      "    <div class=\"row\">\n",
      "      <div class=\"col-xs-12 col-sm-6 col-sm-push-6\">\n",
      "        <div class=\"pull-right-sm text-center-xs\">\n",
      "          <ul class=\"list-inline\">\n",
      "            <li><a href=\"https://status.zenodo.org/\">Status</a></li>\n",
      "            <li><a href=\"http://about.zenodo.org/privacy-policy\">Privacy policy</a></li>\n",
      "            <li><a href=\"http://about.zenodo.org/terms\">Terms of Use</a></li>\n",
      "            <li><a href=\"/support\">Support</a></li>\n",
      "          </ul>\n",
      "        </div>\n",
      "      </div>\n",
      "      <div class=\"col-xs-12 col-sm-6 col-sm-pull-6 text-center-xs\">\n",
      "        <p>Powered by <a href=\"http://information-technology.web.cern.ch/about/computer-centre\">CERN Data Centre</a> &amp; <a href=\"http://inveniosoftware.org\">Invenio</a></p>\n",
      "      </div>\n",
      "    </div>\n",
      "  </div>\n",
      "</footer>\n",
      "\n",
      "  <script type='application/ld+json'>{\"@context\": \"https://schema.org/\", \"@id\": \"https://doi.org/10.5281/zenodo.3629721\", \"@type\": \"Dataset\", \"creator\": [{\"@id\": \"https://orcid.org/0000-0001-9561-8433\", \"@type\": \"Person\", \"affiliation\": \"National Research Council of Canada\", \"name\": \"Hockett, Paul\"}], \"datePublished\": \"2020-01-28\", \"description\": \"DABCO, HOMO ionization (orb 31, A1P), 1 - 50eV - photoionization calculations with ePolyScat (ePS) + ePSproc.\\u003cbr\\u003e\\u003cbr\\u003e*Web version*: \\u003ca href=\\\"https://phockett.github.io/ePSdata/DABCO/DABCO_1-50.0eV_orb31_A1P.html\\\"\\u003ehttps://phockett.github.io/ePSdata/DABCO/DABCO_1-50.0eV_orb31_A1P.html\\u003c/a\\u003e\\u003cbr\\u003e\\u003cbr\\u003eFor more details of the calculations, see readme.txt, or: \\u003cul\\u003e\\u003cli\\u003e\\u003ca href=\\\"https://phockett.github.io/ePSdata/about.html\\\"\\u003eAbout ePSdata\\u003c/a\\u003e\\u003c/li\\u003e\\u003cli\\u003e\\u003ca href=\\\"http://epsproc.readthedocs.io/en/latest/about.html\\\"\\u003eAbout ePSproc\\u003c/a\\u003e\\u003c/li\\u003e\\u003cli\\u003e\\u003ca href=\\\"http://www.chem.tamu.edu/rgroup/lucchese/ePolyScat.E3.manual/manual.html\\\"\\u003eAbout ePS\\u003c/a\\u003e\\u003c/li\\u003e\\u003c/ul\\u003e\", \"distribution\": [{\"@type\": \"DataDownload\", \"contentUrl\": \"https://zenodo.org/api/files/99f977ee-257f-462f-9335-04a9135eb11b/readme.txt\", \"encodingFormat\": \"txt\"}, {\"@type\": \"DataDownload\", \"contentUrl\": \"https://zenodo.org/api/files/99f977ee-257f-462f-9335-04a9135eb11b/DABCO_1-50.0eV_orb31_A1P.ipynb\", \"encodingFormat\": \"ipynb\"}, {\"@type\": \"DataDownload\", \"contentUrl\": \"https://zenodo.org/api/files/99f977ee-257f-462f-9335-04a9135eb11b/DABCO_1-50.0eV_orb31_A1P.md\", \"encodingFormat\": \"md\"}, {\"@type\": \"DataDownload\", \"contentUrl\": \"https://zenodo.org/api/files/99f977ee-257f-462f-9335-04a9135eb11b/DABCO_1-50.0eV_orb31_A1P.json\", \"encodingFormat\": \"json\"}, {\"@type\": \"DataDownload\", \"contentUrl\": \"https://zenodo.org/api/files/99f977ee-257f-462f-9335-04a9135eb11b/DABCO_1-50.0eV_orb31_A1P.zip\", \"encodingFormat\": \"zip\"}], \"identifier\": \"https://doi.org/10.5281/zenodo.3629721\", \"keywords\": [\"Data\", \"Photoionization\", \"Scattering calculation\"], \"license\": \"https://creativecommons.org/licenses/by/4.0/legalcode\", \"name\": \"ePSproc: DABCO, HOMO ionization (orb 31, A1P), 1 - 50eV\", \"url\": \"https://zenodo.org/record/3629721\"}</script>\n",
      "\n",
      "<script src=\"/static/gen/zenodo.60c4ee65.js\"></script>\n",
      "<script type=\"text/javascript\" src=\"//cdnjs.cloudflare.com/ajax/libs/mathjax/2.7.1/MathJax.js?config=TeX-AMS-MML_HTMLorMML\"></script>\n",
      "<script src=\"/static/gen/zenodo.search.ff7bb1ad.js\"></script>\n",
      "<script type=\"text/javascript\">var addthis_config = {\"data_track_addressbar\": true};</script>\n",
      "<script type=\"text/javascript\">\n",
      "  // Bootstrap the Invenio CSL Formatter and invenio-search-js\n",
      "  require([\n",
      "    \"jquery\",\n",
      "    'typeahead.js',\n",
      "    'bloodhound',\n",
      "    \"node_modules/angular/angular\",\n",
      "    \"node_modules/invenio-csl-js/dist/invenio-csl-js\",\n",
      "    \"node_modules/invenio-search-js/dist/invenio-search-js\",\n",
      "    \"js/zenodo/module\"\n",
      "    ], function(typeahead, Bloodhound) {\n",
      "      angular.element(document).ready(function() {\n",
      "\n",
      "        // FIXME: This is already defined in js/zenodo_deposit/filters.js.\n",
      "        // It should be moved to a common place...\n",
      "        angular.module('zenodo.filters').filter('limitToEllipsis', function () {\n",
      "          return function(text, n) {\n",
      "            return (text.length > n) ? text.substr(0, n-1) + '&hellip;' : text;\n",
      "          };\n",
      "        });\n",
      "\n",
      "        angular.bootstrap(document.getElementById(\"citations\"), [\n",
      "            'invenioSearch',\n",
      "            'zenodo.filters',\n",
      "            'mgcrea.ngStrap.tooltip',\n",
      "          ]\n",
      "        );\n",
      "\n",
      "        angular.bootstrap(document.getElementById(\"invenio-csl\"), [\n",
      "            'invenioCsl',\n",
      "          ]\n",
      "        );\n",
      "      });\n",
      "    }\n",
      "  );\n",
      "  require([\n",
      "    \"jquery\",\n",
      "    \"js/zenodo/functions\",\n",
      "    ], function($, recordCommunityCurate) {\n",
      "      $(function () {\n",
      "        $(\"#recordCommunityCuration .btn\").click(recordCommunityCurate);\n",
      "        $('.preview-link').on('click', function(event) {\n",
      "          $('#preview').show();\n",
      "          var filename = encodeURIComponent($(event.target).data('filename'));\n",
      "          $('#preview-iframe').attr(\"src\",\"/record/3629721/preview/\" + filename);\n",
      "        });\n",
      "      });\n",
      "    }\n",
      "  );\n",
      "  $(function () {\n",
      "    $('[data-toggle=\"tooltip\"]').tooltip();\n",
      "  });\n",
      "</script>\n",
      "<script type=\"text/javascript\" src=\"//s7.addthis.com/js/300/addthis_widget.js#pubid=ra-5137aff66ad9c2a1\"></script>\n",
      "<script type='text/javascript' src='https://d1bxh8uas1mnw7.cloudfront.net/assets/embed.js'></script>\n",
      "\n",
      "<script type=\"text/javascript\">\n",
      "var _paq = _paq || [];\n",
      "_paq.push([\"setDomains\", [\"*.zenodo.org\",\"*.zenodo.cern.ch\",\"*.zenodo.eu\",\"*.zenodo.net\"]]);\n",
      "_paq.push([\"trackPageView\"]);\n",
      "_paq.push([\"enableLinkTracking\"]);\n",
      "\n",
      "(function() {\n",
      "  var u=((\"https:\" == document.location.protocol) ? \"https\" : \"http\") + \"://piwik.web.cern.ch/\";\n",
      "  _paq.push([\"setTrackerUrl\", u+\"piwik.php\"]);\n",
      "  _paq.push([\"setSiteId\", \"57\"]);\n",
      "  var d=document, g=d.createElement(\"script\"), s=d.getElementsByTagName(\"script\")[0]; g.type=\"text/javascript\";\n",
      "  g.defer=true; g.async=true; g.src=u+\"piwik.js\"; s.parentNode.insertBefore(g,s);\n",
      "})();\n",
      "</script>\n",
      "  </body>\n",
      "</html>\n"
     ]
    }
   ],
   "source": [
    "# r.json() Throws an error, not sure why!\n",
    "\n",
    "# import json\n",
    "# json.loads(r.text)  # Ah, same error - seems to be formatting issue?  \n",
    "                    # JSONDecodeError: Expecting value: line 2 column 1 (char 1)\n",
    "    \n",
    "print(r.text)  # This is OK, just HTML for Zenodo record page."
   ]
  },
  {
   "cell_type": "code",
   "execution_count": 33,
   "metadata": {},
   "outputs": [
    {
     "data": {
      "text/plain": [
       "'\\n<!DOCTYPE html>\\n<html lang=\"en\" dir=\"ltr\">\\n  <head>\\n\\n<meta charset=\"utf-8\">\\n<meta http-equiv=\"X-UA-Compatible\" content=\"IE=edge\">\\n<meta name=\"viewport\" content=\"width=device-width, initial-scale=1\">\\n    <meta name=\"google-site-verification\" content=\"5fPGCLllnWrvFxH9QWI0l1TadV7byeEvfPcyK2VkS_s\"/>\\n    <meta name=\"google-site-verification\" content=\"Rp5zp04IKW-s1IbpTOGB7Z6XY60oloZD5C3kTM-AiY4\"/>\\n\\n<meta name=\"norton-safeweb-site-verification\" content=\"umenay8zh4kswbi568zqp19bqb-jvngusibub1ygib0x3jne9rig0fnmtofm8abb7lkzgltqp5yhm68s5qz4iqqkm39xl2o-p5foixd-1xfq4yig07ugcd1sp5kmyvpe\" />\\n    <title>ePSproc: DABCO, HOMO ionization (orb 31, A1P), 1 - 50eV | Zenodo</title>\\n    <link rel=\"shortcut icon\" href=\"/static/favicon.ico\"/>\\n    <link rel=\"apple-touch-icon-precomposed\" sizes=\"144x144\" href=\"/static/apple-touch-icon-144-precomposed.png\"/>\\n    <link rel=\"apple-touch-icon-precomposed\" sizes=\"114x114\" href=\"/static/apple-touch-icon-114-precomposed.png\"/>\\n    <link rel=\"apple-touch-icon-precomposed\" sizes=\"72x72\" href=\"/static/apple-touch-icon-72-precomposed.png\"/>\\n    <link rel=\"apple-touch-icon-precomposed\" sizes=\"57x57\" href=\"/static/apple-touch-icon-57-precomposed.png\"/>\\n<link href=\"https://fonts.googleapis.com/css?family=Roboto:300,400,500,700,100,italic\" rel=\"stylesheet\">\\n<link href=\"/static/gen/zenodo.3867f39d.css\" rel=\"stylesheet\">\\n<!-- HTML5 shim and Respond.js for IE8 support of HTML5 elements and media queries -->\\n<!--[if lt IE 9]>\\n  <script src=\"https://oss.maxcdn.com/html5shiv/3.7.2/html5shiv.min.js\"></script>\\n  <script src=\"https://oss.maxcdn.com/respond/1.4.2/respond.min.js\"></script>\\n<![endif]-->\\n  \\n    <meta name=\"description\" content=\"DABCO, HOMO ionization (orb 31, A1P), 1 - 50eV - photoionization calculations with ePolyScat (ePS) + ePSproc.*Web version*: https://phockett.github.io/ePSdata/DABCO/DABCO_1-50.0eV_orb31_A1P.htmlFor more details of the calculations, see readme.txt, or: About ePSdataAbout ePSprocAbout ePS\" />\\n    <meta name=\"citation_title\" content=\"ePSproc: DABCO, HOMO ionization (orb 31, A1P), 1 - 50eV\" />\\n    <meta name=\"citation_author\" content=\"Hockett, Paul\" />\\n    <meta name=\"citation_publication_date\" content=\"2020/01/28\" />\\n    <meta name=\"citation_doi\" content=\"10.5281/zenodo.3629721\" />\\n    <meta name=\"citation_keywords\" content=\"Data\" />\\n    <meta name=\"citation_keywords\" content=\"Photoionization\" />\\n    <meta name=\"citation_keywords\" content=\"Scattering calculation\" />\\n    <meta name=\"citation_abstract_html_url\" content=\"https://zenodo.org/record/3629721\" />\\n    <meta property=\"og:title\" content=\"ePSproc: DABCO, HOMO ionization (orb 31, A1P), 1 - 50eV\" />\\n    <meta property=\"og:description\" content=\"DABCO, HOMO ionization (orb 31, A1P), 1 - 50eV - photoionization calculations with ePolyScat (ePS) + ePSproc.*Web version*: https://phockett.github.io/ePSdata/DABCO/DABCO_1-50.0eV_orb31_A1P.htmlFor more details of the calculations, see readme.txt, or: About ePSdataAbout ePSprocAbout ePS\" />\\n    <meta property=\"og:url\" content=\"https://zenodo.org/record/3629721\" />\\n    <meta property=\"og:site_name\" content=\"Zenodo\" />\\n    <meta name=\"twitter:card\" content=\"summary\" />\\n    <meta name=\"twitter:site\" content=\"@zenodo_org\" />\\n    <meta name=\"twitter:title\" content=\"ePSproc: DABCO, HOMO ionization (orb 31, A1P), 1 - 50eV\" />\\n    <meta name=\"twitter:description\" content=\"DABCO, HOMO ionization (orb 31, A1P), 1 - 50eV - photoionization calculations with ePolyScat (ePS) + ePSproc.*Web version*: https://phockett.github.io/ePSdata/DABCO/DABCO_1-50.0eV_orb31_A1P.htmlFor more details of the calculations, see readme.txt, or: About ePSdataAbout ePSprocAbout ePS\" />\\n    <link rel=\"canonical\" href=\"https://zenodo.org/record/3629721\">\\n    <link rel=\"alternate\" type=\"text/plain\" href=\"https://zenodo.org/record/3629721/files/readme.txt\">\\n    <link rel=\"alternate\" type=\"application/octet-stream\" href=\"https://zenodo.org/record/3629721/files/DABCO_1-50.0eV_orb31_A1P.ipynb\">\\n    <link rel=\"alternate\" type=\"application/octet-stream\" href=\"https://zenodo.org/record/3629721/files/DABCO_1-50.0eV_orb31_A1P.md\">\\n    <link rel=\"alternate\" type=\"application/json\" href=\"https://zenodo.org/record/3629721/files/DABCO_1-50.0eV_orb31_A1P.json\">\\n    <link rel=\"alternate\" type=\"application/zip\" href=\"https://zenodo.org/record/3629721/files/DABCO_1-50.0eV_orb31_A1P.zip\">\\n  </head>\\n  <body ng-csp  itemscope itemtype=\"http://schema.org/WebPage\" data-spy=\"scroll\" data-target=\".scrollspy-target\">\\n    <!--[if lt IE 8]>\\n      <p class=\"browserupgrade\">You are using an <strong>outdated</strong> browser. Please <a href=\"http://browsehappy.com/\">upgrade your browser</a> to improve your experience.</p>\\n    <![endif]-->\\n\\n<header>\\n  <nav class=\"navbar navbar-default navbar-static-top\">\\n    <div class=\"container\">\\n      <div class=\"navbar-header\">\\n        <button type=\"button\" class=\"navbar-toggle collapsed\" data-toggle=\"collapse\" data-target=\"#navbar\" aria-expanded=\"false\" aria-controls=\"navbar\">\\n          <span class=\"sr-only\">Toggle navigation</span>\\n          <span class=\"icon-bar\"></span>\\n          <span class=\"icon-bar\"></span>\\n          <span class=\"icon-bar\"></span>\\n        </button>\\n          <a href=\"/\"><img class=\"navbar-brand\" src=\"/static/img/zenodo.svg\" alt=\"Zenodo\" /></a>\\n      </div>\\n      <div id=\"navbar\" class=\"navbar-collapse collapse\">\\n<form class=\"navbar-form navbar-left navbar-search\" action=\"/search\" role=\"search\">\\n  <div class=\"form-group\">\\n    <div class=\"input-group\">\\n      <input type=\"text\" class=\"form-control search\" name=\"q\" placeholder=\"Search\">\\n      <div class=\"input-group-btn\">\\n        <button type=\"submit\" class=\"btn btn-default\"><i class=\"fa fa-search\"></i></button>\\n      </div>\\n    </div>\\n  </div>\\n</form>\\n        <ul class=\"nav navbar-nav\">\\n            <li><a href=\"/deposit\">Upload</a></li>\\n            <li><a href=\"/communities/\">Communities</a></li>\\n        </ul>\\n<form class=\"navbar-form navbar-right\">\\n  <a href=\"/login/?next=%2Frecord%2F3629721\" class=\"btn btn-default\"><i class=\"fa fa-sign-in\"></i> Log in</a>\\n  <a href=\"/signup/\" type=\"submit\" class=\"btn btn-default btn-warning\"><i class=\"fa fa-edit\"></i> Sign up</a>\\n</form>\\n      </div>\\n    </div>\\n  </nav>\\n\\n\\n</header>\\n<div class=\"container record-detail\">\\n  <div class=\"row\">\\n    <div class=\"col-sm-8 col-md-8 col-left\">\\n      <p>\\n        <time datetime=\"January 28, 2020\" data-toggle=\"tooltip\" title=\"Publication date\">January 28, 2020</time>\\n        <span class=\"pull-right\">\\n          \\n<span class=\"label label-default\">Dataset</span>\\n          \\n<span class=\"label label-success\">\\nOpen Access\\n</span>\\n        </span>\\n      </p>\\n      <h1>ePSproc: DABCO, HOMO ionization (orb 31, A1P), 1 - 50eV</h1>\\n      <p>\\n<a href=\"https://orcid.org/0000-0001-9561-8433\"><img class=\"inline-orcid\" src=\"/static/img/orcid.png\" /></a>\\n<span class=\"text-muted\" data-toggle=\"tooltip\" title=\"National Research Council of Canada\">Hockett, Paul</span></p>\\n      <p>DABCO, HOMO ionization (orb 31, A1P), 1 - 50eV - photoionization calculations with ePolyScat (ePS) + ePSproc.<br><br>*Web version*: <a href=\"https://phockett.github.io/ePSdata/DABCO/DABCO_1-50.0eV_orb31_A1P.html\">https://phockett.github.io/ePSdata/DABCO/DABCO_1-50.0eV_orb31_A1P.html</a><br><br>For more details of the calculations, see readme.txt, or: <ul><li><a href=\"https://phockett.github.io/ePSdata/about.html\">About ePSdata</a></li><li><a href=\"http://epsproc.readthedocs.io/en/latest/about.html\">About ePSproc</a></li><li><a href=\"http://www.chem.tamu.edu/rgroup/lucchese/ePolyScat.E3.manual/manual.html\">About ePS</a></li></ul></p>\\n\\n\\n  <div class=\"panel panel-default\" id=\"preview\">\\n    <div class=\"panel-heading\">\\n      <a class=\"panel-toggle\" data-toggle=\"collapse\" href=\"#collapseOne\">\\n        Preview\\n        <span class=\"pull-right show-on-collapsed\"><i class=\"fa fa-chevron-right\"></i></span>\\n        <span class=\"pull-right hide-on-collapsed\"><i class=\"fa fa-chevron-down\"></i></span>\\n      </a>\\n    </div>\\n    <div id=\"collapseOne\" class=\"collapse in\">\\n  <iframe\\n   class=\"preview-iframe\"\\n   id=\"preview-iframe\"\\n   width=\"100%\"\\n   height=\"400\"\\n   src=\"/record/3629721/preview/DABCO_1-50.0eV_orb31_A1P.json\"></iframe>\\n    </div>\\n  </div><div class=\"panel panel-default files-box\" id=\"files\">\\n  <div class=\"panel-heading\">\\n    <a class=\"panel-toggle\" data-toggle=\"collapse\" href=\"#collapseTwo\">\\n      Files\\n      <span class=\"pull-right show-on-collapsed\"><i class=\"fa fa-chevron-right\"></i></span>\\n      <span class=\"pull-right hide-on-collapsed\"><i class=\"fa fa-chevron-down\"></i></span>\\n    </a>\\n    <small class=\"text-muted\"> (1.5 MB)</small>\\n  </div>\\n  <div class=\"collapse in\" id=\"collapseTwo\">\\n  <table class=\"table table-striped\" >\\n    <thead>\\n      <tr class=\"\">\\n        <th>Name</th>\\n        <th>Size</th>\\n      </tr>\\n    </thead>\\n    <tbody>\\n      <tr>\\n        <td>\\n          <a class=\"filename\" href=\"/record/3629721/files/DABCO_1-50.0eV_orb31_A1P.ipynb?download=1\">DABCO_1-50.0eV_orb31_A1P.ipynb</a>\\n          <br/><small class=\"text-muted nowrap\">md5:9b5dfcd5ffd6b07c2dd7d71012182ba0 <i class=\"fa fa-question-circle text-muted\" data-toggle=\"tooltip\" tooltip data-placement=\"top\" title=\"This is the file fingerprint (MD5 checksum), which can be used to verify the file integrity.\"></i></small>\\n        </td>\\n        <td class=\"nowrap\">1.1 MB</td>\\n        <td class=\"nowrap\"><span class=\"pull-right\"><a class=\"btn btn-xs btn-default\" href=\"/record/3629721/files/DABCO_1-50.0eV_orb31_A1P.ipynb?download=1\"><i class=\"fa fa-download\"></i> Download</a></span></td>\\n      </tr>\\n      <tr>\\n        <td>\\n          <a class=\"filename\" href=\"/record/3629721/files/DABCO_1-50.0eV_orb31_A1P.json?download=1\">DABCO_1-50.0eV_orb31_A1P.json</a>\\n          <br/><small class=\"text-muted nowrap\">md5:5191faff45e02f332d9de6be9bfb1505 <i class=\"fa fa-question-circle text-muted\" data-toggle=\"tooltip\" tooltip data-placement=\"top\" title=\"This is the file fingerprint (MD5 checksum), which can be used to verify the file integrity.\"></i></small>\\n        </td>\\n        <td class=\"nowrap\">6.5 kB</td>\\n        <td class=\"nowrap\"><span class=\"pull-right\"><button class=\"btn preview-link btn-xs btn-default\" data-filename=\"DABCO_1-50.0eV_orb31_A1P.json\"><i class=\"fa fa-eye\"></i> Preview</button> <a class=\"btn btn-xs btn-default\" href=\"/record/3629721/files/DABCO_1-50.0eV_orb31_A1P.json?download=1\"><i class=\"fa fa-download\"></i> Download</a></span></td>\\n      </tr>\\n      <tr>\\n        <td>\\n          <a class=\"filename\" href=\"/record/3629721/files/DABCO_1-50.0eV_orb31_A1P.md?download=1\">DABCO_1-50.0eV_orb31_A1P.md</a>\\n          <br/><small class=\"text-muted nowrap\">md5:0fd73647dc2d4d89acc08343376ca9a3 <i class=\"fa fa-question-circle text-muted\" data-toggle=\"tooltip\" tooltip data-placement=\"top\" title=\"This is the file fingerprint (MD5 checksum), which can be used to verify the file integrity.\"></i></small>\\n        </td>\\n        <td class=\"nowrap\">2.1 kB</td>\\n        <td class=\"nowrap\"><span class=\"pull-right\"><button class=\"btn preview-link btn-xs btn-default\" data-filename=\"DABCO_1-50.0eV_orb31_A1P.md\"><i class=\"fa fa-eye\"></i> Preview</button> <a class=\"btn btn-xs btn-default\" href=\"/record/3629721/files/DABCO_1-50.0eV_orb31_A1P.md?download=1\"><i class=\"fa fa-download\"></i> Download</a></span></td>\\n      </tr>\\n      <tr>\\n        <td>\\n          <a class=\"filename\" href=\"/record/3629721/files/DABCO_1-50.0eV_orb31_A1P.zip?download=1\">DABCO_1-50.0eV_orb31_A1P.zip</a>\\n          <br/><small class=\"text-muted nowrap\">md5:e317b0ca404a0548b6068d5fc8cf33ad <i class=\"fa fa-question-circle text-muted\" data-toggle=\"tooltip\" tooltip data-placement=\"top\" title=\"This is the file fingerprint (MD5 checksum), which can be used to verify the file integrity.\"></i></small>\\n        </td>\\n        <td class=\"nowrap\">368.9 kB</td>\\n        <td class=\"nowrap\"><span class=\"pull-right\"><button class=\"btn preview-link btn-xs btn-default\" data-filename=\"DABCO_1-50.0eV_orb31_A1P.zip\"><i class=\"fa fa-eye\"></i> Preview</button> <a class=\"btn btn-xs btn-default\" href=\"/record/3629721/files/DABCO_1-50.0eV_orb31_A1P.zip?download=1\"><i class=\"fa fa-download\"></i> Download</a></span></td>\\n      </tr>\\n      <tr>\\n        <td>\\n          <a class=\"filename\" href=\"/record/3629721/files/readme.txt?download=1\">readme.txt</a>\\n          <br/><small class=\"text-muted nowrap\">md5:81344c7b1e377411b267941ff04dadf7 <i class=\"fa fa-question-circle text-muted\" data-toggle=\"tooltip\" tooltip data-placement=\"top\" title=\"This is the file fingerprint (MD5 checksum), which can be used to verify the file integrity.\"></i></small>\\n        </td>\\n        <td class=\"nowrap\">863 Bytes</td>\\n        <td class=\"nowrap\"><span class=\"pull-right\"><a class=\"btn btn-xs btn-default\" href=\"/record/3629721/files/readme.txt?download=1\"><i class=\"fa fa-download\"></i> Download</a></span></td>\\n      </tr></tbody>\\n    </table>\\n  </div>\\n</div>\\n\\n\\n\\n\\n\\n\\n<div id=\"citations\">\\n  <invenio-search\\n   disable-url-handler=\"true\"\\n   search-endpoint=\"https://zenodo-broker.web.cern.ch/api/relationships\"\\n   search-extra-params=\\'{\"group_by\": \"version\", \"id\": \"10.5281/zenodo.3629720\", \"page\": 1, \"size\": 10}\\'\\n   search-hidden-params=\\'{\"relation\": \"isCitedBy\", \"scheme\": \"doi\"}\\'\\n   search-headers=\\'{\"Accept\": \"application/json\"}\\' >\\n    <div class=\"panel panel-default\" id=\"citation\">\\n      <div class=\"panel-heading\">\\n        <!-- Beta ribbon -->\\n        <div class=\"row\" style=\"margin-bottom: -15px;\">\\n          <div class=\"col-sm-1\">\\n            <div class=\"ribbon-wrapper-green\">\\n              <a href=\"https://help.zenodo.org/#citations\" target=\"_blank\" rel=\"noopener noreferrer\">\\n                <div class=\"corner-ribbon top-left ribbon-green\">Beta</div>\\n              </a>\\n            </div>\\n          </div>\\n          <div class=\"col-sm-11\" style=\"margin-top: 5px;\">\\n            <a class=\"panel-toggle\" data-toggle=\"collapse\" href=\"#collapseCitations\" style=\"margin-left:-25px;\">\\n              Citations\\n            </a>\\n            <a href=\"https://help.zenodo.org/#citations\" target=\"_blank\" rel=\"noopener noreferrer\">\\n              <i class=\"fa fa-question-circle\"></i>\\n            </a>\\n            <small class=\"text-muted\">\\n              <invenio-search-count template=\"/static/templates/citations/count.html\">\\n              </invenio-search-count>\\n            </small>\\n            <a class=\"panel-toggle\" data-toggle=\"collapse\" href=\"#collapseCitations\" style=\"margin-left:-25px;\">\\n              <span class=\"pull-right show-on-collapsed\"><i class=\"fa fa-chevron-right\"></i></span>\\n              <span class=\"pull-right hide-on-collapsed\"><i class=\"fa fa-chevron-down\"></i></span>\\n            </a>\\n          </div>\\n        </div>\\n\\n        <!-- Without beta ribbon -->\\n        <!--<a class=\"panel-toggle\" data-toggle=\"collapse\" href=\"#collapseCitations\">-->\\n          <!--Citations-->\\n          <!--<small class=\"text-muted\">-->\\n            <!--<invenio-search-count-->\\n            <!--template=\"/static/templates/citations/count.html\">-->\\n            <!--</invenio-search-count>-->\\n          <!--</small>-->\\n          <!--<span class=\"pull-right show-on-collapsed\"><i class=\"fa fa-chevron-right\"></i></span>-->\\n          <!--<span class=\"pull-right hide-on-collapsed\"><i class=\"fa fa-chevron-down\"></i></span>-->\\n        <!--</a>-->\\n\\n      </div>\\n      <div id=\"collapseCitations\" class=\"collapse in\">\\n        <div class=\"search-page\">\\n          <div class=\"container-fluid facets\">\\n            <div class=\"row\">\\n              <div class=\"col-sm-9\">\\n                <invenio-search-facets\\n                   ng-init=\"vm.record_id=\\'10.5281/zenodo.3629721\\'; vm.version_id=\\'10.5281/zenodo.3629720\\'\"\\n                   template=\"/static/templates/citations/facets.html\">\\n                </invenio-search-facets>\\n              </div>\\n              <div class=\"col-sm-3\">\\n                <invenio-search-bar\\n                  template=\"/static/templates/invenio_search_ui/searchbar.html\"\\n                  placeholder=\"Search\">\\n                </invenio-search-bar>\\n              </div>\\n            </div>\\n          </div>\\n          <div class=\"container-fluid\">\\n          <invenio-search-error\\n            template=\"/static/templates/zenodo_search_ui/error.html\"\\n            message=\"Error\">\\n          </invenio-search-error>\\n          </div>\\n          <invenio-search-results\\n           template=\"/static/templates/citations/results.html\">\\n          </invenio-search-results>\\n          <div class=\"row\">\\n            <div class=\"col-md-2 col-sm-12\">\\n            </div>\\n            <div class=\"col-md-7 col-sm-12 text-center\">\\n              <invenio-search-pagination\\n                template=\"/static/templates/citations/pagination.html\">\\n              </invenio-search-pagination>\\n            </div>\\n            <div class=\"col-md-3 col-sm-12\" style=\"padding-top: 5px;\">\\n              <invenio-search-select-box\\n                 sort-key=\"size\"\\n                 available-options=\\'{\\n                  \"options\": [\\n                     {\\n                       \"title\": \"10\",\\n                       \"value\": \"10\"\\n                     },\\n                     {\\n                       \"title\": \"20\",\\n                       \"value\": \"20\"\\n                     },\\n                     {\\n                       \"title\": \"50\",\\n                       \"value\": \"50\"\\n                     }\\n                  ]}\\'\\n                 template=\"/static/templates/citations/selectbox.html\">\\n                </invenio-search-select-box>\\n            </div>\\n          </div>\\n      </div>\\n    </div>\\n    </div>\\n  </invenio-search>\\n</div>\\n\\n    </div>\\n    <div class=\"col-sm-4 col-md-4 col-right\">\\n\\n\\n      \\n      <div class=\"well\"><!-- Stats -->\\n<div class=\"row stats-box\">\\n  <div id=\"accordion\">\\n    <!-- Banner --><div class=\"row\">\\n      <div class=\"col-sm-6\">\\n        <span class=\"stats-data\">3</span>\\n      </div>\\n      <div class=\"col-sm-6\">\\n        <span class=\"stats-data\">10</span>\\n      </div>\\n    </div>\\n    <div class=\"row\">\\n      <div class=\"col-sm-6\">\\n        <i class=\"fa fa-eye \" data-toggle=\"tooltip\" tooltip data-placement=\"top\" title=\"Total views.\" data-original-title=\"Total views.\"></i> views\\n      </div>\\n      <div class=\"col-sm-6\">\\n        <i class=\"fa fa-download \" data-toggle=\"tooltip\" tooltip data-placement=\"top\" title=\"Total downloads.\" data-original-title=\"Total downloads.\"></i> downloads\\n      </div>\\n    </div>\\n\\n    <!-- Collapsed details -->\\n    <div id=\"toggle-stats\" class=\"row\">\\n      <div class=\"col-sm-12\">\\n        <a style=\"cursor: pointer;\" class=\"panel-toggle\" data-toggle=\"collapse\" data-target=\"#collapse-stats\" aria-expanded=\"true\" aria-controls=\"collapse-stats\">\\n          See more details...\\n        </a>\\n      </div>\\n    </div>\\n    <div id=\"collapse-stats\" class=\"collapse\" aria-labelledby=\"toggle-stats\" data-parent=\"#accordion\">\\n      <table class=\"table stats-table\">\\n        <!-- Skip table header if no versions --><tr>\\n          <th></th>\\n          <th>All versions</th>\\n          <th>This version</th>\\n        </tr><tr>\\n          <td>Views <i class=\"fa fa-question-circle text-muted\" data-toggle=\"tooltip\" tooltip data-placement=\"top\" title=\"Total views.\" data-original-title=\"Total views.\"></i></td><td>3</td><td>3</td>\\n        </tr>\\n        <tr>\\n          <td>Downloads <i class=\"fa fa-question-circle text-muted\" data-toggle=\"tooltip\" tooltip data-placement=\"top\" title=\"Total downloads.\" data-original-title=\"Total downloads.\"></i></td><td>10</td><td>10</td>\\n        </tr>\\n        <tr>\\n          <td>Data volume <i class=\"fa fa-question-circle text-muted\" data-toggle=\"tooltip\" tooltip data-placement=\"top\" title=\"Total download volume.\" data-original-title=\"Total download volume.\"></i></td><td>3.0 MB</td><td>3.0 MB</td>\\n        </tr>\\n        <tr>\\n          <td>Unique views <i class=\"fa fa-question-circle text-muted\" data-toggle=\"tooltip\" tooltip data-placement=\"top\" title=\"Views in one hour user-sessions are counted only once.\" data-original-title=\"Views in one hour user-sessions are counted only once.\"></i></td><td>3</td><td>3</td>\\n        </tr>\\n        <tr>\\n          <td>Unique downloads <i class=\"fa fa-question-circle text-muted\" data-toggle=\"tooltip\" tooltip data-placement=\"top\" title=\"Downloads in one hour user-sessions are counted only once.\" data-original-title=\"Downloads in one hour user-sessions are counted only once.\"></i></td><td>2</td><td>2</td>\\n        </tr>\\n      </table>\\n      <div class=\"row\">\\n        <a href=\"https://help.zenodo.org/#statistics\">More info on how stats are collected.</a>\\n      </div>\\n    </div>\\n  </div>\\n</div>\\n      </div>\\n<div class=\"well metadata\">\\n  \\n    <small class=\"text-muted\">Indexed in</small>\\n    <a href=\"https://explore.openaire.eu/search/dataset?datasetId=r37b0ad08687::294b4dbc56393ce7e2656bfa81b207fa\">\\n      <img src=\"/static/img/openaire-horizontal-old.png\" class=\"img-thumbnail\" width=\"100%\" />\\n    </a>\\n</div>\\n      <div class=\"well metadata\"><dl>\\n    <dt>Publication date:</dt>\\n    <dd>January 28, 2020</dd>\\n    <dt>DOI:</dt>\\n    <dd>\\n      <span class=\"get-badge\" data-toggle=\"`tooltip\" data-placement=\"bottom\"\\n            title=\"Get the DOI badge!\">\\n        <img data-toggle=\"modal\" data-target=\"[data-modal=\\'10.5281/zenodo.3629721\\']\"\\n              src=\"/badge/DOI/10.5281/zenodo.3629721.svg\" alt=\"10.5281/zenodo.3629721\">\\n        </img>\\n      </span>\\n      <div class=\"modal fade badge-modal\" data-modal=\"10.5281/zenodo.3629721\">\\n        <div class=\"modal-dialog\">\\n          <div class=\"modal-content\">\\n            <div class=\"modal-body\">\\n              <h4>Zenodo DOI Badge</h4>\\n              <h4>\\n                  <small>DOI</small>\\n              </h4>\\n              <h4>\\n                  <pre>10.5281/zenodo.3629721</pre>\\n              </h4>\\n              \\n              \\n    <h4>\\n        <small>Markdown</small>\\n    </h4>\\n    <h4>\\n        <pre>[![DOI](https://zenodo.org/badge/DOI/10.5281/zenodo.3629721.svg)](https://doi.org/10.5281/zenodo.3629721)</pre>\\n    </h4>\\n    <h4>\\n        <small>reStructedText</small>\\n    </h4>\\n    <h4>\\n        <pre>.. image:: https://zenodo.org/badge/DOI/10.5281/zenodo.3629721.svg\\n   :target: https://doi.org/10.5281/zenodo.3629721</pre>\\n    </h4>\\n    <h4>\\n        <small>HTML</small>\\n    </h4>\\n    <h4>\\n      <pre>&lt;a href=\"https://doi.org/10.5281/zenodo.3629721\"&gt;&lt;img src=\"https://zenodo.org/badge/DOI/10.5281/zenodo.3629721.svg\" alt=\"DOI\"&gt;&lt;/a&gt;</pre>\\n    </h4>\\n\\n    <h4>\\n        <small>Image URL</small>\\n    </h4>\\n    <h4>\\n      <pre>https://zenodo.org/badge/DOI/10.5281/zenodo.3629721.svg</pre>\\n    </h4>\\n\\n    <h4>\\n        <small>Target URL</small>\\n    </h4>\\n    <h4>\\n      <pre>https://doi.org/10.5281/zenodo.3629721</pre>\\n    </h4>\\n            </div>\\n          </div>\\n        </div>\\n      </div>\\n    </dd>\\n    <dt>Keyword(s):</dt>\\n    <dd>\\n      \\n      <a class=\"label-link\" href=\"/search?q=keywords%3A%22Data%22\">\\n        <span class=\"label label-default\">Data</span>\\n      </a>\\n      \\n      <a class=\"label-link\" href=\"/search?q=keywords%3A%22Photoionization%22\">\\n        <span class=\"label label-default\">Photoionization</span>\\n      </a>\\n      \\n      <a class=\"label-link\" href=\"/search?q=keywords%3A%22Scattering+calculation%22\">\\n        <span class=\"label label-default\">Scattering calculation</span>\\n      </a>\\n    </dd>\\n\\n  \\n    <dt>License (for files):</dt>\\n    <dd><a rel=\"license\" href=\"https://creativecommons.org/licenses/by/4.0/legalcode\"><i class=\"fa fa-external-link\"></i> Creative Commons Attribution 4.0 International</a></dd>\\n  </dl>\\n      </div>\\n  <div class=\"well metadata\">\\n    <h4>Versions</h4>\\n    <table class=\"table\">\\n      <tr class=\"info\">\\n        <td>\\n          <a href=\"/record/3629721\">Version 1 </a>\\n          <small class=\"text-muted\">10.5281/zenodo.3629721</small>\\n        </td>\\n        <td align=\"right\"><small class=\"text-muted\">Jan 28, 2020</small></td>\\n      </tr>\\n    </table>\\n    <small>\\n      <strong>Cite all versions?</strong> You can cite all versions by using the DOI <a href=\"https://doi.org/10.5281/zenodo.3629720\">10.5281/zenodo.3629720</a>. This DOI represents all versions, and will always resolve to the latest one. <a href=\"http://help.zenodo.org/#versioning\">Read more</a>.\\n    </small>\\n  </div>\\n      <div class=\"well\"><h4>Share</h4>\\n  <!-- AddThis Button BEGIN -->\\n  <div class=\"addthis_toolbox addthis_default_style addthis_32x32_style\" addthis:url=\"https://doi.org/10.5281/zenodo.3629721\">\\n  <a class=\"addthis_button_mendeley\"></a>\\n  <a class=\"addthis_button_citeulike\"></a>\\n  <a class=\"addthis_button_twitter\"></a>\\n  <a class=\"addthis_button_preferred_1\"></a>\\n  <a class=\"addthis_button_preferred_2\"></a>\\n  <a class=\"addthis_button_compact\"></a>\\n  </div>\\n  <!-- AddThis Button END -->\\n  <h4>Cite as</h4>\\n  <div id=\\'invenio-csl\\'>\\n    \\n    <invenio-csl\\n        ng-init=\"vm.citationResult = \\'Hockett, Paul. (2020). ePSproc: DABCO, HOMO ionization (orb 31, A1P), 1 - 50eV [Data set]. Zenodo. http://doi.org/10.5281/zenodo.3629721\\'\"\\n    >\\n      <invenio-csl-citeproc\\n       endpoint=\"/api/records/3629721\"\\n       template=\"/static/templates/invenio_csl/citeproc.html\"></invenio-csl-citeproc>\\n      <invenio-csl-error\\n       template=\"/static/node_modules/invenio-csl-js/dist/templates/error.html\"></invenio-csl-error>\\n      <invenio-csl-loading\\n       template=\"/static/node_modules/invenio-csl-js/dist/templates/loading.html\"></invenio-csl-loading>\\n      <invenio-csl-typeahead\\n       lazy=\"true\"\\n       placeholder=\"Start typing a citation style...\"\\n       remote=\"/api/csl/styles\"\\n       template=\"/static/node_modules/invenio-csl-js/dist/templates/typeahead.html\"\\n       item-template=\"/static/templates/invenio_csl/item.html\">\\n      </invenio-csl-typeahead>\\n    </invenio-csl>\\n  </div>\\n      </div>\\n      <div class=\"well\"><h4>Export</h4>\\n<ul class=\"list-inline\">\\n  <li><a href=\"/record/3629721/export/hx\">BibTeX</a></li>\\n  <li><a href=\"/record/3629721/export/csl\">CSL</a></li>\\n  <li><a href=\"/record/3629721/export/dcite4\">DataCite</a></li>\\n  <li><a href=\"/record/3629721/export/xd\">Dublin Core</a></li>\\n  <li><a href=\"/record/3629721/export/dcat\">DCAT</a></li>\\n  <li><a href=\"/record/3629721/export/json\">JSON</a></li>\\n  <li><a href=\"/record/3629721/export/schemaorg_jsonld\">JSON-LD</a></li>\\n  <li><a href=\"/record/3629721/export/geojson\">GeoJSON</a></li>\\n  <li><a href=\"/record/3629721/export/xm\">MARCXML</a></li>\\n  <li><a href=\"https://www.mendeley.com/import/?url=https://zenodo.org/record/3629721\"><i class=\"fa fa-external-link\"></i> Mendeley</a></li>\\n</ul>\\n      </div>\\n    </div>\\n  </div>\\n</div>\\n<footer class=\"footer\">\\n  <div class=\"menu-wrapper\">\\n    <div class=\"container\">\\n      <div class=\"row footer-menu\">\\n        <div class=\"col-xs-12 col-md-8\">\\n          <div class=\"row\">\\n            <div class=\"col-xs-2 col-md-2\">\\n              <h5>About</h5>\\n              <ul class=\"list-unstyled\">\\n                <li><a href=\"http://about.zenodo.org\">About</a></li>\\n                <li><a href=\"http://about.zenodo.org/policies\">Policies</a></li>\\n                <li><a href=\"http://about.zenodo.org/infrastructure\">Infrastructure</a></li>\\n                <li><a href=\"http://about.zenodo.org/principles\">Principles</a></li>\\n                <li><a href=\"http://about.zenodo.org/contact\">Contact</a></li>\\n              </ul>\\n            </div>\\n            <div class=\"col-xs-2 col-md-2\">\\n              <h5>Blog</h5>\\n              <ul class=\"list-unstyled\">\\n                <li><a href=\"http://blog.zenodo.org\">Blog</a></li>\\n              </ul>\\n            </div>\\n            <div class=\"col-xs-2 col-md-2\">\\n              <h5>Help</h5>\\n              <ul class=\"list-unstyled\">\\n                <li><a href=\"http://help.zenodo.org\">FAQ</a></li>\\n                <li><a href=\"http://help.zenodo.org/features\">Features</a></li>\\n              </ul>\\n            </div>\\n            <div class=\"col-xs-2 col-md-2\">\\n              <h5>Developers</h5>\\n              <ul class=\"list-unstyled\">\\n              <li><a href=\"http://developers.zenodo.org\">REST API</a></li>\\n              <li><a href=\"http://developers.zenodo.org#oai-pmh\">OAI-PMH</a></li>\\n              </ul>\\n            </div>\\n            <div class=\"col-xs-2 col-md-2\">\\n              <h5>Contribute</h5>\\n              <ul class=\"list-unstyled\">\\n                <li><a href=\"http://github.com/zenodo/zenodo\"><i class=\"fa fa-external-link\"></i> GitHub</a></li>\\n                <li><a href=\"/donate\"><i class=\"fa fa-external-link\"></i> Donate</a></li>\\n              </ul>\\n            </div>\\n          </div>\\n        </div>\\n        <div class=\"col-xs-12 col-md-4\">\\n          <div class=\"pull-right-md text-center-sm text-center-xs\">\\n            <h5>Funded by</h5>\\n            <ul class=\"list-inline\">\\n              <li><a href=\"http://home.cern\"><img src=\"/static/img/cern.png\" width=\"60\" height=\"60\" /></a></li>\\n              <li><a href=\"http://www.openaire.eu\"><img src=\"/static/img/openaire.png\" width=\"80\" /></a></li>\\n              <li><a href=\"https://ec.europa.eu/programmes/horizon2020/\"><img src=\"/static/img/eu.png\" width=\"88\" height=\"60\" /></a></li>\\n            </ul>\\n          </div>\\n        </div>\\n      </div>\\n    </div>\\n  </div>\\n  <div class=\"container\">\\n    <div class=\"row\">\\n      <div class=\"col-xs-12 col-sm-6 col-sm-push-6\">\\n        <div class=\"pull-right-sm text-center-xs\">\\n          <ul class=\"list-inline\">\\n            <li><a href=\"https://status.zenodo.org/\">Status</a></li>\\n            <li><a href=\"http://about.zenodo.org/privacy-policy\">Privacy policy</a></li>\\n            <li><a href=\"http://about.zenodo.org/terms\">Terms of Use</a></li>\\n            <li><a href=\"/support\">Support</a></li>\\n          </ul>\\n        </div>\\n      </div>\\n      <div class=\"col-xs-12 col-sm-6 col-sm-pull-6 text-center-xs\">\\n        <p>Powered by <a href=\"http://information-technology.web.cern.ch/about/computer-centre\">CERN Data Centre</a> &amp; <a href=\"http://inveniosoftware.org\">Invenio</a></p>\\n      </div>\\n    </div>\\n  </div>\\n</footer>\\n\\n  <script type=\\'application/ld+json\\'>{\"@context\": \"https://schema.org/\", \"@id\": \"https://doi.org/10.5281/zenodo.3629721\", \"@type\": \"Dataset\", \"creator\": [{\"@id\": \"https://orcid.org/0000-0001-9561-8433\", \"@type\": \"Person\", \"affiliation\": \"National Research Council of Canada\", \"name\": \"Hockett, Paul\"}], \"datePublished\": \"2020-01-28\", \"description\": \"DABCO, HOMO ionization (orb 31, A1P), 1 - 50eV - photoionization calculations with ePolyScat (ePS) + ePSproc.\\\\u003cbr\\\\u003e\\\\u003cbr\\\\u003e*Web version*: \\\\u003ca href=\\\\\"https://phockett.github.io/ePSdata/DABCO/DABCO_1-50.0eV_orb31_A1P.html\\\\\"\\\\u003ehttps://phockett.github.io/ePSdata/DABCO/DABCO_1-50.0eV_orb31_A1P.html\\\\u003c/a\\\\u003e\\\\u003cbr\\\\u003e\\\\u003cbr\\\\u003eFor more details of the calculations, see readme.txt, or: \\\\u003cul\\\\u003e\\\\u003cli\\\\u003e\\\\u003ca href=\\\\\"https://phockett.github.io/ePSdata/about.html\\\\\"\\\\u003eAbout ePSdata\\\\u003c/a\\\\u003e\\\\u003c/li\\\\u003e\\\\u003cli\\\\u003e\\\\u003ca href=\\\\\"http://epsproc.readthedocs.io/en/latest/about.html\\\\\"\\\\u003eAbout ePSproc\\\\u003c/a\\\\u003e\\\\u003c/li\\\\u003e\\\\u003cli\\\\u003e\\\\u003ca href=\\\\\"http://www.chem.tamu.edu/rgroup/lucchese/ePolyScat.E3.manual/manual.html\\\\\"\\\\u003eAbout ePS\\\\u003c/a\\\\u003e\\\\u003c/li\\\\u003e\\\\u003c/ul\\\\u003e\", \"distribution\": [{\"@type\": \"DataDownload\", \"contentUrl\": \"https://zenodo.org/api/files/99f977ee-257f-462f-9335-04a9135eb11b/readme.txt\", \"encodingFormat\": \"txt\"}, {\"@type\": \"DataDownload\", \"contentUrl\": \"https://zenodo.org/api/files/99f977ee-257f-462f-9335-04a9135eb11b/DABCO_1-50.0eV_orb31_A1P.ipynb\", \"encodingFormat\": \"ipynb\"}, {\"@type\": \"DataDownload\", \"contentUrl\": \"https://zenodo.org/api/files/99f977ee-257f-462f-9335-04a9135eb11b/DABCO_1-50.0eV_orb31_A1P.md\", \"encodingFormat\": \"md\"}, {\"@type\": \"DataDownload\", \"contentUrl\": \"https://zenodo.org/api/files/99f977ee-257f-462f-9335-04a9135eb11b/DABCO_1-50.0eV_orb31_A1P.json\", \"encodingFormat\": \"json\"}, {\"@type\": \"DataDownload\", \"contentUrl\": \"https://zenodo.org/api/files/99f977ee-257f-462f-9335-04a9135eb11b/DABCO_1-50.0eV_orb31_A1P.zip\", \"encodingFormat\": \"zip\"}], \"identifier\": \"https://doi.org/10.5281/zenodo.3629721\", \"keywords\": [\"Data\", \"Photoionization\", \"Scattering calculation\"], \"license\": \"https://creativecommons.org/licenses/by/4.0/legalcode\", \"name\": \"ePSproc: DABCO, HOMO ionization (orb 31, A1P), 1 - 50eV\", \"url\": \"https://zenodo.org/record/3629721\"}</script>\\n\\n<script src=\"/static/gen/zenodo.60c4ee65.js\"></script>\\n<script type=\"text/javascript\" src=\"//cdnjs.cloudflare.com/ajax/libs/mathjax/2.7.1/MathJax.js?config=TeX-AMS-MML_HTMLorMML\"></script>\\n<script src=\"/static/gen/zenodo.search.ff7bb1ad.js\"></script>\\n<script type=\"text/javascript\">var addthis_config = {\"data_track_addressbar\": true};</script>\\n<script type=\"text/javascript\">\\n  // Bootstrap the Invenio CSL Formatter and invenio-search-js\\n  require([\\n    \"jquery\",\\n    \\'typeahead.js\\',\\n    \\'bloodhound\\',\\n    \"node_modules/angular/angular\",\\n    \"node_modules/invenio-csl-js/dist/invenio-csl-js\",\\n    \"node_modules/invenio-search-js/dist/invenio-search-js\",\\n    \"js/zenodo/module\"\\n    ], function(typeahead, Bloodhound) {\\n      angular.element(document).ready(function() {\\n\\n        // FIXME: This is already defined in js/zenodo_deposit/filters.js.\\n        // It should be moved to a common place...\\n        angular.module(\\'zenodo.filters\\').filter(\\'limitToEllipsis\\', function () {\\n          return function(text, n) {\\n            return (text.length > n) ? text.substr(0, n-1) + \\'&hellip;\\' : text;\\n          };\\n        });\\n\\n        angular.bootstrap(document.getElementById(\"citations\"), [\\n            \\'invenioSearch\\',\\n            \\'zenodo.filters\\',\\n            \\'mgcrea.ngStrap.tooltip\\',\\n          ]\\n        );\\n\\n        angular.bootstrap(document.getElementById(\"invenio-csl\"), [\\n            \\'invenioCsl\\',\\n          ]\\n        );\\n      });\\n    }\\n  );\\n  require([\\n    \"jquery\",\\n    \"js/zenodo/functions\",\\n    ], function($, recordCommunityCurate) {\\n      $(function () {\\n        $(\"#recordCommunityCuration .btn\").click(recordCommunityCurate);\\n        $(\\'.preview-link\\').on(\\'click\\', function(event) {\\n          $(\\'#preview\\').show();\\n          var filename = encodeURIComponent($(event.target).data(\\'filename\\'));\\n          $(\\'#preview-iframe\\').attr(\"src\",\"/record/3629721/preview/\" + filename);\\n        });\\n      });\\n    }\\n  );\\n  $(function () {\\n    $(\\'[data-toggle=\"tooltip\"]\\').tooltip();\\n  });\\n</script>\\n<script type=\"text/javascript\" src=\"//s7.addthis.com/js/300/addthis_widget.js#pubid=ra-5137aff66ad9c2a1\"></script>\\n<script type=\\'text/javascript\\' src=\\'https://d1bxh8uas1mnw7.cloudfront.net/assets/embed.js\\'></script>\\n\\n<script type=\"text/javascript\">\\nvar _paq = _paq || [];\\n_paq.push([\"setDomains\", [\"*.zenodo.org\",\"*.zenodo.cern.ch\",\"*.zenodo.eu\",\"*.zenodo.net\"]]);\\n_paq.push([\"trackPageView\"]);\\n_paq.push([\"enableLinkTracking\"]);\\n\\n(function() {\\n  var u=((\"https:\" == document.location.protocol) ? \"https\" : \"http\") + \"://piwik.web.cern.ch/\";\\n  _paq.push([\"setTrackerUrl\", u+\"piwik.php\"]);\\n  _paq.push([\"setSiteId\", \"57\"]);\\n  var d=document, g=d.createElement(\"script\"), s=d.getElementsByTagName(\"script\")[0]; g.type=\"text/javascript\";\\n  g.defer=true; g.async=true; g.src=u+\"piwik.js\"; s.parentNode.insertBefore(g,s);\\n})();\\n</script>\\n  </body>\\n</html>'"
      ]
     },
     "execution_count": 33,
     "metadata": {},
     "output_type": "execute_result"
    }
   ],
   "source": [
    "r.text"
   ]
  },
  {
   "cell_type": "code",
   "execution_count": 40,
   "metadata": {},
   "outputs": [],
   "source": [
    "# OPTIONS: parse this text for file links & download, or use API"
   ]
  },
  {
   "cell_type": "markdown",
   "metadata": {},
   "source": [
    "## With Zenodo API\n",
    "\n",
    "This should be neater than above method... but some methods require (personal) access token to work.\n",
    "\n",
    "https://developers.zenodo.org/#quickstart-upload"
   ]
  },
  {
   "cell_type": "code",
   "execution_count": 224,
   "metadata": {},
   "outputs": [
    {
     "name": "stdout",
     "output_type": "stream",
     "text": [
      "*** Directory /home/femtolab/Downloads/3629721 already exists, contents will be overwritten.\n"
     ]
    }
   ],
   "source": [
    "import os\n",
    "from pathlib import Path\n",
    "\n",
    "# Set record IDs, starting from DOI\n",
    "recordID = {}\n",
    "\n",
    "recordID['doi'] = '10.5281/zenodo.3629721'\n",
    "recordID['url'] = {'doi':'http://dx.doi.org/' + recordID['doi']}\n",
    "recordID['zenID'] = int(recordID['doi'].rsplit('.',1)[-1])\n",
    "recordID['url']['get'] = 'https://zenodo.org/record/' + str(recordID['zenID'])\n",
    "\n",
    "# Set also local paths, working dir or other\n",
    "# recordID['downloadBase'] = Path(os.getcwd())\n",
    "recordID['downloadBase'] = Path('/home/femtolab/Downloads')\n",
    "recordID['downloadDir'] = recordID['downloadBase']/str(recordID['zenID'])\n",
    "\n",
    "try:\n",
    "    os.mkdir(recordID['downloadDir'])\n",
    "except FileExistsError:\n",
    "    print(f\"*** Directory {recordID['downloadDir']} already exists, contents will be overwritten.\")"
   ]
  },
  {
   "cell_type": "code",
   "execution_count": 216,
   "metadata": {},
   "outputs": [
    {
     "data": {
      "text/plain": [
       "True"
      ]
     },
     "execution_count": 216,
     "metadata": {},
     "output_type": "execute_result"
    }
   ],
   "source": [
    "testStr = 'http://dx.doi.org/10.5281/zenodo.3629721'\n",
    "# testStr.find(\"dx.doi\") #.startswith('http://dx.doi')\n",
    "\"dx.doi\" in testStr"
   ]
  },
  {
   "cell_type": "code",
   "execution_count": 217,
   "metadata": {},
   "outputs": [
    {
     "data": {
      "text/plain": [
       "'10.5281/zenodo.3629721'"
      ]
     },
     "execution_count": 217,
     "metadata": {},
     "output_type": "execute_result"
    }
   ],
   "source": [
    "# With url parser, see https://docs.python.org/3/library/urllib.parse.html\n",
    "\n",
    "from urllib.parse import urlparse\n",
    "urlparse(testStr).path.strip('/')"
   ]
  },
  {
   "cell_type": "code",
   "execution_count": 218,
   "metadata": {},
   "outputs": [
    {
     "data": {
      "text/plain": [
       "'http://dx.doi.org/10.5281/3629721'"
      ]
     },
     "execution_count": 218,
     "metadata": {},
     "output_type": "execute_result"
    }
   ],
   "source": [
    "testURL2 = \"https://zenodo.org/record/3629721\"\n",
    "ID = urlparse(testURL2).path.rsplit('/')[-1]\n",
    "\n",
    "from urllib.parse import urljoin\n",
    "urljoin('http://dx.doi.org/10.5281/zenodo.', ID)"
   ]
  },
  {
   "cell_type": "code",
   "execution_count": 219,
   "metadata": {},
   "outputs": [
    {
     "data": {
      "text/plain": [
       "'10.5281/zenodo.3629721'"
      ]
     },
     "execution_count": 219,
     "metadata": {},
     "output_type": "execute_result"
    }
   ],
   "source": [
    "type(ID)\n",
    "# '10.5281/zenodo.'.join(ID)\n",
    "'10.5281/zenodo.' + ID\n",
    "\n",
    "# 'tets' + 'TTTT'"
   ]
  },
  {
   "cell_type": "code",
   "execution_count": 220,
   "metadata": {},
   "outputs": [
    {
     "data": {
      "text/plain": [
       "{'doi': '10.5281/zenodo.3629721',\n",
       " 'url': {'doi': 'http://dx.doi.org/10.5281/zenodo.3629721',\n",
       "  'get': 'https://zenodo.org/api/records/3629721'},\n",
       " 'zenID': 3629721,\n",
       " 'downloadBase': PosixPath('/home/femtolab/Downloads'),\n",
       " 'downloadDir': PosixPath('/home/femtolab/Downloads/3629721')}"
      ]
     },
     "execution_count": 220,
     "metadata": {},
     "output_type": "execute_result"
    }
   ],
   "source": [
    "recordID"
   ]
  },
  {
   "cell_type": "code",
   "execution_count": 225,
   "metadata": {},
   "outputs": [],
   "source": [
    "# r = requests.get('https://zenodo.org/api/deposit/depositions/3629721/files')  # Needs token\n",
    "# r = requests.get('https://zenodo.org/api/records/3629721')  # OK\n",
    "r = requests.get(recordID['url']['get'])  # OK"
   ]
  },
  {
   "cell_type": "code",
   "execution_count": 226,
   "metadata": {},
   "outputs": [
    {
     "ename": "JSONDecodeError",
     "evalue": "Expecting value: line 2 column 1 (char 1)",
     "output_type": "error",
     "traceback": [
      "\u001b[0;31m---------------------------------------------------------------------------\u001b[0m",
      "\u001b[0;31mJSONDecodeError\u001b[0m                           Traceback (most recent call last)",
      "\u001b[0;32m<ipython-input-226-ac87c07b27a0>\u001b[0m in \u001b[0;36m<module>\u001b[0;34m\u001b[0m\n\u001b[1;32m      1\u001b[0m \u001b[0;32mif\u001b[0m \u001b[0mr\u001b[0m\u001b[0;34m.\u001b[0m\u001b[0mok\u001b[0m\u001b[0;34m:\u001b[0m\u001b[0;34m\u001b[0m\u001b[0;34m\u001b[0m\u001b[0m\n\u001b[0;32m----> 2\u001b[0;31m     \u001b[0mprint\u001b[0m\u001b[0;34m(\u001b[0m\u001b[0;34mf\"Found Zenodo record {recordID['zenID']}: {r.json()['metadata']['title']}\"\u001b[0m\u001b[0;34m)\u001b[0m\u001b[0;34m\u001b[0m\u001b[0;34m\u001b[0m\u001b[0m\n\u001b[0m",
      "\u001b[0;32m~/anaconda3/envs/epsdev/lib/python3.7/site-packages/requests/models.py\u001b[0m in \u001b[0;36mjson\u001b[0;34m(self, **kwargs)\u001b[0m\n\u001b[1;32m    895\u001b[0m                     \u001b[0;31m# used.\u001b[0m\u001b[0;34m\u001b[0m\u001b[0;34m\u001b[0m\u001b[0;34m\u001b[0m\u001b[0m\n\u001b[1;32m    896\u001b[0m                     \u001b[0;32mpass\u001b[0m\u001b[0;34m\u001b[0m\u001b[0;34m\u001b[0m\u001b[0m\n\u001b[0;32m--> 897\u001b[0;31m         \u001b[0;32mreturn\u001b[0m \u001b[0mcomplexjson\u001b[0m\u001b[0;34m.\u001b[0m\u001b[0mloads\u001b[0m\u001b[0;34m(\u001b[0m\u001b[0mself\u001b[0m\u001b[0;34m.\u001b[0m\u001b[0mtext\u001b[0m\u001b[0;34m,\u001b[0m \u001b[0;34m**\u001b[0m\u001b[0mkwargs\u001b[0m\u001b[0;34m)\u001b[0m\u001b[0;34m\u001b[0m\u001b[0;34m\u001b[0m\u001b[0m\n\u001b[0m\u001b[1;32m    898\u001b[0m \u001b[0;34m\u001b[0m\u001b[0m\n\u001b[1;32m    899\u001b[0m     \u001b[0;34m@\u001b[0m\u001b[0mproperty\u001b[0m\u001b[0;34m\u001b[0m\u001b[0;34m\u001b[0m\u001b[0m\n",
      "\u001b[0;32m~/anaconda3/envs/epsdev/lib/python3.7/json/__init__.py\u001b[0m in \u001b[0;36mloads\u001b[0;34m(s, encoding, cls, object_hook, parse_float, parse_int, parse_constant, object_pairs_hook, **kw)\u001b[0m\n\u001b[1;32m    346\u001b[0m             \u001b[0mparse_int\u001b[0m \u001b[0;32mis\u001b[0m \u001b[0;32mNone\u001b[0m \u001b[0;32mand\u001b[0m \u001b[0mparse_float\u001b[0m \u001b[0;32mis\u001b[0m \u001b[0;32mNone\u001b[0m \u001b[0;32mand\u001b[0m\u001b[0;34m\u001b[0m\u001b[0;34m\u001b[0m\u001b[0m\n\u001b[1;32m    347\u001b[0m             parse_constant is None and object_pairs_hook is None and not kw):\n\u001b[0;32m--> 348\u001b[0;31m         \u001b[0;32mreturn\u001b[0m \u001b[0m_default_decoder\u001b[0m\u001b[0;34m.\u001b[0m\u001b[0mdecode\u001b[0m\u001b[0;34m(\u001b[0m\u001b[0ms\u001b[0m\u001b[0;34m)\u001b[0m\u001b[0;34m\u001b[0m\u001b[0;34m\u001b[0m\u001b[0m\n\u001b[0m\u001b[1;32m    349\u001b[0m     \u001b[0;32mif\u001b[0m \u001b[0mcls\u001b[0m \u001b[0;32mis\u001b[0m \u001b[0;32mNone\u001b[0m\u001b[0;34m:\u001b[0m\u001b[0;34m\u001b[0m\u001b[0;34m\u001b[0m\u001b[0m\n\u001b[1;32m    350\u001b[0m         \u001b[0mcls\u001b[0m \u001b[0;34m=\u001b[0m \u001b[0mJSONDecoder\u001b[0m\u001b[0;34m\u001b[0m\u001b[0;34m\u001b[0m\u001b[0m\n",
      "\u001b[0;32m~/anaconda3/envs/epsdev/lib/python3.7/json/decoder.py\u001b[0m in \u001b[0;36mdecode\u001b[0;34m(self, s, _w)\u001b[0m\n\u001b[1;32m    335\u001b[0m \u001b[0;34m\u001b[0m\u001b[0m\n\u001b[1;32m    336\u001b[0m         \"\"\"\n\u001b[0;32m--> 337\u001b[0;31m         \u001b[0mobj\u001b[0m\u001b[0;34m,\u001b[0m \u001b[0mend\u001b[0m \u001b[0;34m=\u001b[0m \u001b[0mself\u001b[0m\u001b[0;34m.\u001b[0m\u001b[0mraw_decode\u001b[0m\u001b[0;34m(\u001b[0m\u001b[0ms\u001b[0m\u001b[0;34m,\u001b[0m \u001b[0midx\u001b[0m\u001b[0;34m=\u001b[0m\u001b[0m_w\u001b[0m\u001b[0;34m(\u001b[0m\u001b[0ms\u001b[0m\u001b[0;34m,\u001b[0m \u001b[0;36m0\u001b[0m\u001b[0;34m)\u001b[0m\u001b[0;34m.\u001b[0m\u001b[0mend\u001b[0m\u001b[0;34m(\u001b[0m\u001b[0;34m)\u001b[0m\u001b[0;34m)\u001b[0m\u001b[0;34m\u001b[0m\u001b[0;34m\u001b[0m\u001b[0m\n\u001b[0m\u001b[1;32m    338\u001b[0m         \u001b[0mend\u001b[0m \u001b[0;34m=\u001b[0m \u001b[0m_w\u001b[0m\u001b[0;34m(\u001b[0m\u001b[0ms\u001b[0m\u001b[0;34m,\u001b[0m \u001b[0mend\u001b[0m\u001b[0;34m)\u001b[0m\u001b[0;34m.\u001b[0m\u001b[0mend\u001b[0m\u001b[0;34m(\u001b[0m\u001b[0;34m)\u001b[0m\u001b[0;34m\u001b[0m\u001b[0;34m\u001b[0m\u001b[0m\n\u001b[1;32m    339\u001b[0m         \u001b[0;32mif\u001b[0m \u001b[0mend\u001b[0m \u001b[0;34m!=\u001b[0m \u001b[0mlen\u001b[0m\u001b[0;34m(\u001b[0m\u001b[0ms\u001b[0m\u001b[0;34m)\u001b[0m\u001b[0;34m:\u001b[0m\u001b[0;34m\u001b[0m\u001b[0;34m\u001b[0m\u001b[0m\n",
      "\u001b[0;32m~/anaconda3/envs/epsdev/lib/python3.7/json/decoder.py\u001b[0m in \u001b[0;36mraw_decode\u001b[0;34m(self, s, idx)\u001b[0m\n\u001b[1;32m    353\u001b[0m             \u001b[0mobj\u001b[0m\u001b[0;34m,\u001b[0m \u001b[0mend\u001b[0m \u001b[0;34m=\u001b[0m \u001b[0mself\u001b[0m\u001b[0;34m.\u001b[0m\u001b[0mscan_once\u001b[0m\u001b[0;34m(\u001b[0m\u001b[0ms\u001b[0m\u001b[0;34m,\u001b[0m \u001b[0midx\u001b[0m\u001b[0;34m)\u001b[0m\u001b[0;34m\u001b[0m\u001b[0;34m\u001b[0m\u001b[0m\n\u001b[1;32m    354\u001b[0m         \u001b[0;32mexcept\u001b[0m \u001b[0mStopIteration\u001b[0m \u001b[0;32mas\u001b[0m \u001b[0merr\u001b[0m\u001b[0;34m:\u001b[0m\u001b[0;34m\u001b[0m\u001b[0;34m\u001b[0m\u001b[0m\n\u001b[0;32m--> 355\u001b[0;31m             \u001b[0;32mraise\u001b[0m \u001b[0mJSONDecodeError\u001b[0m\u001b[0;34m(\u001b[0m\u001b[0;34m\"Expecting value\"\u001b[0m\u001b[0;34m,\u001b[0m \u001b[0ms\u001b[0m\u001b[0;34m,\u001b[0m \u001b[0merr\u001b[0m\u001b[0;34m.\u001b[0m\u001b[0mvalue\u001b[0m\u001b[0;34m)\u001b[0m \u001b[0;32mfrom\u001b[0m \u001b[0;32mNone\u001b[0m\u001b[0;34m\u001b[0m\u001b[0;34m\u001b[0m\u001b[0m\n\u001b[0m\u001b[1;32m    356\u001b[0m         \u001b[0;32mreturn\u001b[0m \u001b[0mobj\u001b[0m\u001b[0;34m,\u001b[0m \u001b[0mend\u001b[0m\u001b[0;34m\u001b[0m\u001b[0;34m\u001b[0m\u001b[0m\n",
      "\u001b[0;31mJSONDecodeError\u001b[0m: Expecting value: line 2 column 1 (char 1)"
     ]
    }
   ],
   "source": [
    "if r.ok:\n",
    "    print(f\"Found Zenodo record {recordID['zenID']}: {r.json()['metadata']['title']}\")\n"
   ]
  },
  {
   "cell_type": "code",
   "execution_count": 227,
   "metadata": {},
   "outputs": [
    {
     "data": {
      "text/plain": [
       "<Response [200]>"
      ]
     },
     "execution_count": 227,
     "metadata": {},
     "output_type": "execute_result"
    }
   ],
   "source": [
    "r"
   ]
  },
  {
   "cell_type": "code",
   "execution_count": 143,
   "metadata": {},
   "outputs": [
    {
     "data": {
      "text/plain": [
       "list"
      ]
     },
     "execution_count": 143,
     "metadata": {},
     "output_type": "execute_result"
    }
   ],
   "source": [
    "type(r.json()['files'])"
   ]
  },
  {
   "cell_type": "code",
   "execution_count": 113,
   "metadata": {},
   "outputs": [
    {
     "data": {
      "text/plain": [
       "'/home/femtolab/Downloads/3629721/readme.txt'"
      ]
     },
     "execution_count": 113,
     "metadata": {},
     "output_type": "execute_result"
    }
   ],
   "source": [
    "# Try getting a file with wget\n",
    "import wget\n",
    "\n",
    "wget.download(r.json()['files'][0]['links']['self'], out=recordID['downloadDir'].as_posix())\n"
   ]
  },
  {
   "cell_type": "code",
   "execution_count": 133,
   "metadata": {},
   "outputs": [],
   "source": [
    "# Basic bytes to KB/Mb... conversion, from https://stackoverflow.com/questions/2104080/how-to-check-file-size-in-python\n",
    "def convert_bytes(num):\n",
    "    \"\"\"\n",
    "    This function will convert bytes to MB.... GB... etc\n",
    "    \"\"\"\n",
    "    for x in ['bytes', 'KB', 'MB', 'GB', 'TB']:\n",
    "        if num < 1024.0:\n",
    "            return \"%3.1f %s\" % (num, x)\n",
    "#             return [num, x]\n",
    "        num /= 1024.0\n"
   ]
  },
  {
   "cell_type": "code",
   "execution_count": 149,
   "metadata": {},
   "outputs": [
    {
     "name": "stdout",
     "output_type": "stream",
     "text": [
      "Record 3629721: 5 files, 1.4 MB\n",
      "Getting item https://zenodo.org/api/files/99f977ee-257f-462f-9335-04a9135eb11b/readme.txt\n",
      "Pulled to file: /home/femtolab/Downloads/3629721/readme (1).txt\n",
      "Getting item https://zenodo.org/api/files/99f977ee-257f-462f-9335-04a9135eb11b/DABCO_1-50.0eV_orb31_A1P.ipynb\n",
      "Pulled to file: /home/femtolab/Downloads/3629721/DABCO_1-50.0eV_orb31_A1P (1).ipynb\n",
      "Getting item https://zenodo.org/api/files/99f977ee-257f-462f-9335-04a9135eb11b/DABCO_1-50.0eV_orb31_A1P.md\n",
      "Pulled to file: /home/femtolab/Downloads/3629721/DABCO_1-50.0eV_orb31_A1P (1).md\n",
      "Getting item https://zenodo.org/api/files/99f977ee-257f-462f-9335-04a9135eb11b/DABCO_1-50.0eV_orb31_A1P.json\n",
      "Pulled to file: /home/femtolab/Downloads/3629721/DABCO_1-50.0eV_orb31_A1P (1).json\n",
      "Getting item https://zenodo.org/api/files/99f977ee-257f-462f-9335-04a9135eb11b/DABCO_1-50.0eV_orb31_A1P.zip\n",
      "Pulled to file: /home/femtolab/Downloads/3629721/DABCO_1-50.0eV_orb31_A1P (1).zip\n"
     ]
    }
   ],
   "source": [
    "# Pull all files\n",
    "\n",
    "# downloadSize = sum(item['size'] for item in r.json()['files'])\n",
    "# fList = []\n",
    "\n",
    "# print(f\"Record {recordID['zenID']}: {len(r.json()['files'])} files, {convert_bytes(downloadSize)}\")\n",
    "\n",
    "# for n, item in enumerate(r.json()['files']):\n",
    "#     print(f\"Getting item {item['links']['self']}\")\n",
    "#     fout = wget.download(item['links']['self'], out=recordID['downloadDir'].as_posix())\n",
    "    \n",
    "#     print(f\"Pulled to file: {fout}\")\n",
    "#     fList.append(Path(fout))  # Log local file list"
   ]
  },
  {
   "cell_type": "code",
   "execution_count": 154,
   "metadata": {},
   "outputs": [
    {
     "data": {
      "text/plain": [
       "['__bytes__',\n",
       " '__class__',\n",
       " '__delattr__',\n",
       " '__dir__',\n",
       " '__doc__',\n",
       " '__enter__',\n",
       " '__eq__',\n",
       " '__exit__',\n",
       " '__format__',\n",
       " '__fspath__',\n",
       " '__ge__',\n",
       " '__getattribute__',\n",
       " '__gt__',\n",
       " '__hash__',\n",
       " '__init__',\n",
       " '__init_subclass__',\n",
       " '__le__',\n",
       " '__lt__',\n",
       " '__module__',\n",
       " '__ne__',\n",
       " '__new__',\n",
       " '__reduce__',\n",
       " '__reduce_ex__',\n",
       " '__repr__',\n",
       " '__rtruediv__',\n",
       " '__setattr__',\n",
       " '__sizeof__',\n",
       " '__slots__',\n",
       " '__str__',\n",
       " '__subclasshook__',\n",
       " '__truediv__',\n",
       " '_accessor',\n",
       " '_cached_cparts',\n",
       " '_closed',\n",
       " '_cparts',\n",
       " '_drv',\n",
       " '_flavour',\n",
       " '_format_parsed_parts',\n",
       " '_from_parsed_parts',\n",
       " '_from_parts',\n",
       " '_hash',\n",
       " '_init',\n",
       " '_make_child',\n",
       " '_make_child_relpath',\n",
       " '_opener',\n",
       " '_parse_args',\n",
       " '_parts',\n",
       " '_pparts',\n",
       " '_raise_closed',\n",
       " '_raw_open',\n",
       " '_root',\n",
       " '_str',\n",
       " 'absolute',\n",
       " 'anchor',\n",
       " 'as_posix',\n",
       " 'as_uri',\n",
       " 'chmod',\n",
       " 'cwd',\n",
       " 'drive',\n",
       " 'exists',\n",
       " 'expanduser',\n",
       " 'glob',\n",
       " 'group',\n",
       " 'home',\n",
       " 'is_absolute',\n",
       " 'is_block_device',\n",
       " 'is_char_device',\n",
       " 'is_dir',\n",
       " 'is_fifo',\n",
       " 'is_file',\n",
       " 'is_mount',\n",
       " 'is_reserved',\n",
       " 'is_socket',\n",
       " 'is_symlink',\n",
       " 'iterdir',\n",
       " 'joinpath',\n",
       " 'lchmod',\n",
       " 'lstat',\n",
       " 'match',\n",
       " 'mkdir',\n",
       " 'name',\n",
       " 'open',\n",
       " 'owner',\n",
       " 'parent',\n",
       " 'parents',\n",
       " 'parts',\n",
       " 'read_bytes',\n",
       " 'read_text',\n",
       " 'relative_to',\n",
       " 'rename',\n",
       " 'replace',\n",
       " 'resolve',\n",
       " 'rglob',\n",
       " 'rmdir',\n",
       " 'root',\n",
       " 'samefile',\n",
       " 'stat',\n",
       " 'stem',\n",
       " 'suffix',\n",
       " 'suffixes',\n",
       " 'symlink_to',\n",
       " 'touch',\n",
       " 'unlink',\n",
       " 'with_name',\n",
       " 'with_suffix',\n",
       " 'write_bytes',\n",
       " 'write_text']"
      ]
     },
     "execution_count": 154,
     "metadata": {},
     "output_type": "execute_result"
    }
   ],
   "source": [
    "dir(fList[0])"
   ]
  },
  {
   "cell_type": "code",
   "execution_count": 162,
   "metadata": {},
   "outputs": [],
   "source": [
    "# Unzip if required\n",
    "\n",
    "import zipfile\n",
    "\n",
    "for n, item in enumerate(fList):\n",
    "    if item.suffix == '.zip':\n",
    "        with zipfile.ZipFile(item,\"r\") as zipObj:\n",
    "            zipFiles = zipObj.namelist()\n",
    "            zipObj.extractall(recordID['downloadDir'])\n",
    "#             print(zip_ref)"
   ]
  },
  {
   "cell_type": "code",
   "execution_count": 164,
   "metadata": {},
   "outputs": [
    {
     "data": {
      "text/plain": [
       "['generators/DABCO_1-50.0eV_orb31_A1P.inp',\n",
       " 'DABCO_1-50.0eV/DABCO_1-50.0eV_orb31_A1P.inp.out_BLM-L_2020-01-22_16-43-16.nc',\n",
       " 'DABCO_1-50.0eV/DABCO_1-50.0eV_orb31_A1P.inp',\n",
       " 'DABCO_1-50.0eV/DABCO_1-50.0eV_orb31_A1P.inp.out',\n",
       " 'DABCO_1-50.0eV/DABCO_1-50.0eV_orb31_A1P.inp.out_BLM-V_2020-01-22_16-43-16.nc',\n",
       " 'DABCO_1-50.0eV/DABCO_1-50.0eV_orb31_A1P.inp.err',\n",
       " 'DABCO_1-50.0eV/orb31_A1P_idy/',\n",
       " 'DABCO_1-50.0eV/orb31_A1P_idy/DABCOSEPCEP.idy',\n",
       " 'DABCO_1-50.0eV/orb31_A1P_idy/DABCOSA2PPCA2PP.idy',\n",
       " 'electronic_structure/DABCO_Jmol_E_cc-pVDZ_D3h_manual-third_c.molden',\n",
       " 'electronic_structure/DABCO_Jmol_E_cc-pVDZ_D3h_manual-third_c.log']"
      ]
     },
     "execution_count": 164,
     "metadata": {},
     "output_type": "execute_result"
    }
   ],
   "source": [
    "(zipFiles)"
   ]
  },
  {
   "cell_type": "code",
   "execution_count": 83,
   "metadata": {},
   "outputs": [
    {
     "data": {
      "text/plain": [
       "<function wget.download(url, out=None, bar=<function bar_adaptive at 0x7f97abbb5b90>)>"
      ]
     },
     "execution_count": 83,
     "metadata": {},
     "output_type": "execute_result"
    }
   ],
   "source": [
    "wget.download"
   ]
  },
  {
   "cell_type": "markdown",
   "metadata": {},
   "source": [
    "## With class\n",
    "Above now implemented in `epsproc.utils.epsdata.ePSdata` class"
   ]
  },
  {
   "cell_type": "code",
   "execution_count": 1,
   "metadata": {},
   "outputs": [
    {
     "name": "stdout",
     "output_type": "stream",
     "text": [
      "* plotly not found, plotly plots not available. \n",
      "* pyevtk not found, VTK export not available. \n"
     ]
    }
   ],
   "source": [
    "import sys\n",
    "# ePSproc test codebase (local)\n",
    "if sys.platform == \"win32\":\n",
    "    modPath = r'D:\\code\\github\\ePSproc'  # Win test machine\n",
    "else:\n",
    "    modPath = r'/home/femtolab/github/ePSproc/'  # Linux test machine\n",
    "    \n",
    "sys.path.append(modPath)\n",
    "# import epsproc as ep\n",
    "\n",
    "from epsproc.util.epsdata import ePSdata"
   ]
  },
  {
   "cell_type": "code",
   "execution_count": 2,
   "metadata": {},
   "outputs": [
    {
     "name": "stdout",
     "output_type": "stream",
     "text": [
      "*** Download dir set to: /home/femtolab/Downloads/3629721\n",
      "/n*** Found Zenodo record 3629721: ePSproc: DABCO, HOMO ionization (orb 31, A1P), 1 - 50eV\n",
      "Zenodo URL: http://dx.doi.org/10.5281/zenodo.3629721\n",
      "Record 3629721: 5 files, 1.4 MiB\n"
     ]
    },
    {
     "data": {
      "text/html": [
       "DABCO, HOMO ionization (orb 31, A1P), 1 - 50eV - photoionization calculations with ePolyScat (ePS) + ePSproc.<br><br>*Web version*: <a href=\"https://phockett.github.io/ePSdata/DABCO/DABCO_1-50.0eV_orb31_A1P.html\">https://phockett.github.io/ePSdata/DABCO/DABCO_1-50.0eV_orb31_A1P.html</a><br><br>For more details of the calculations, see readme.txt, or: <ul><li><a href=\"https://phockett.github.io/ePSdata/about.html\">About ePSdata</a></li><li><a href=\"http://epsproc.readthedocs.io/en/latest/about.html\">About ePSproc</a></li><li><a href=\"http://www.chem.tamu.edu/rgroup/lucchese/ePolyScat.E3.manual/manual.html\">About ePS</a></li></ul>"
      ],
      "text/plain": [
       "<IPython.core.display.HTML object>"
      ]
     },
     "metadata": {},
     "output_type": "display_data"
    },
    {
     "name": "stdout",
     "output_type": "stream",
     "text": [
      "Citation details: https://phockett.github.io/ePSdata/DABCO/DABCO_1-50.0eV_orb31_A1P.html#Cite-this-dataset\n"
     ]
    }
   ],
   "source": [
    "dataObj = ePSdata(doi='10.5281/zenodo.3629721', downloadDir=r'/home/femtolab/Downloads')"
   ]
  },
  {
   "cell_type": "code",
   "execution_count": 4,
   "metadata": {},
   "outputs": [
    {
     "data": {
      "text/plain": [
       "'DABCO, HOMO ionization (orb 31, A1P), 1 - 50eV - photoionization calculations with ePolyScat (ePS) + ePSproc.<br><br>*Web version*: <a href=\"https://phockett.github.io/ePSdata/DABCO/DABCO_1-50.0eV_orb31_A1P.html\">https://phockett.github.io/ePSdata/DABCO/DABCO_1-50.0eV_orb31_A1P.html</a><br><br>For more details of the calculations, see readme.txt, or: <ul><li><a href=\"https://phockett.github.io/ePSdata/about.html\">About ePSdata</a></li><li><a href=\"http://epsproc.readthedocs.io/en/latest/about.html\">About ePSproc</a></li><li><a href=\"http://www.chem.tamu.edu/rgroup/lucchese/ePolyScat.E3.manual/manual.html\">About ePS</a></li></ul>'"
      ]
     },
     "execution_count": 4,
     "metadata": {},
     "output_type": "execute_result"
    }
   ],
   "source": [
    "dataObj.r.json()['metadata']['description']"
   ]
  },
  {
   "cell_type": "code",
   "execution_count": 7,
   "metadata": {},
   "outputs": [
    {
     "name": "stdout",
     "output_type": "stream",
     "text": [
      "Getting item https://zenodo.org/api/files/99f977ee-257f-462f-9335-04a9135eb11b/readme.txt\n",
      "Pulled to file: /home/femtolab/Downloads/3629721/readme (1).txt\n",
      "Getting item https://zenodo.org/api/files/99f977ee-257f-462f-9335-04a9135eb11b/DABCO_1-50.0eV_orb31_A1P.ipynb\n",
      "Pulled to file: /home/femtolab/Downloads/3629721/DABCO_1-50.0eV_orb31_A1P (1).ipynb\n",
      "Getting item https://zenodo.org/api/files/99f977ee-257f-462f-9335-04a9135eb11b/DABCO_1-50.0eV_orb31_A1P.md\n",
      "Pulled to file: /home/femtolab/Downloads/3629721/DABCO_1-50.0eV_orb31_A1P (1).md\n",
      "Getting item https://zenodo.org/api/files/99f977ee-257f-462f-9335-04a9135eb11b/DABCO_1-50.0eV_orb31_A1P.json\n",
      "Pulled to file: /home/femtolab/Downloads/3629721/DABCO_1-50.0eV_orb31_A1P (1).json\n",
      "Getting item https://zenodo.org/api/files/99f977ee-257f-462f-9335-04a9135eb11b/DABCO_1-50.0eV_orb31_A1P.zip\n",
      "Pulled to file: /home/femtolab/Downloads/3629721/DABCO_1-50.0eV_orb31_A1P (1).zip\n"
     ]
    }
   ],
   "source": [
    "dataObj.downloadFiles()"
   ]
  },
  {
   "cell_type": "code",
   "execution_count": 8,
   "metadata": {},
   "outputs": [
    {
     "data": {
      "text/plain": [
       "[PosixPath('/home/femtolab/Downloads/3629721/readme (1).txt'),\n",
       " PosixPath('/home/femtolab/Downloads/3629721/DABCO_1-50.0eV_orb31_A1P (1).ipynb'),\n",
       " PosixPath('/home/femtolab/Downloads/3629721/DABCO_1-50.0eV_orb31_A1P (1).md'),\n",
       " PosixPath('/home/femtolab/Downloads/3629721/DABCO_1-50.0eV_orb31_A1P (1).json'),\n",
       " PosixPath('/home/femtolab/Downloads/3629721/DABCO_1-50.0eV_orb31_A1P (1).zip')]"
      ]
     },
     "execution_count": 8,
     "metadata": {},
     "output_type": "execute_result"
    }
   ],
   "source": [
    "dataObj.fList"
   ]
  },
  {
   "cell_type": "code",
   "execution_count": 9,
   "metadata": {},
   "outputs": [
    {
     "name": "stdout",
     "output_type": "stream",
     "text": [
      "Unzipped file /home/femtolab/Downloads/3629721/DABCO_1-50.0eV_orb31_A1P (1).zip\n"
     ]
    }
   ],
   "source": [
    "dataObj.unzipFiles()"
   ]
  },
  {
   "cell_type": "code",
   "execution_count": 6,
   "metadata": {},
   "outputs": [
    {
     "data": {
      "text/plain": [
       "{'DABCO_1-50.0eV_orb31_A1P (1).zip': {'path': PosixPath('/home/femtolab/Downloads/3629721/DABCO_1-50.0eV_orb31_A1P (1).zip'),\n",
       "  'files': ['generators/DABCO_1-50.0eV_orb31_A1P.inp',\n",
       "   'DABCO_1-50.0eV/DABCO_1-50.0eV_orb31_A1P.inp.out_BLM-L_2020-01-22_16-43-16.nc',\n",
       "   'DABCO_1-50.0eV/DABCO_1-50.0eV_orb31_A1P.inp',\n",
       "   'DABCO_1-50.0eV/DABCO_1-50.0eV_orb31_A1P.inp.out',\n",
       "   'DABCO_1-50.0eV/DABCO_1-50.0eV_orb31_A1P.inp.out_BLM-V_2020-01-22_16-43-16.nc',\n",
       "   'DABCO_1-50.0eV/DABCO_1-50.0eV_orb31_A1P.inp.err',\n",
       "   'DABCO_1-50.0eV/orb31_A1P_idy/',\n",
       "   'DABCO_1-50.0eV/orb31_A1P_idy/DABCOSEPCEP.idy',\n",
       "   'DABCO_1-50.0eV/orb31_A1P_idy/DABCOSA2PPCA2PP.idy',\n",
       "   'electronic_structure/DABCO_Jmol_E_cc-pVDZ_D3h_manual-third_c.molden',\n",
       "   'electronic_structure/DABCO_Jmol_E_cc-pVDZ_D3h_manual-third_c.log']}}"
      ]
     },
     "execution_count": 6,
     "metadata": {},
     "output_type": "execute_result"
    }
   ],
   "source": [
    "dataObj.zip"
   ]
  },
  {
   "cell_type": "markdown",
   "metadata": {},
   "source": [
    "#### Testing HTML parsing & display\n",
    "For URL extraction.\n",
    "\n",
    "Best notes: https://stackoverflow.com/questions/6883049/regex-to-extract-urls-from-href-attribute-in-html-with-python\n",
    "\n",
    "NOTE - use HTML parsers, not regex!\n",
    "\n",
    "Either [inbuilt html.parser](https://docs.python.org/3/library/html.parser.html), or [BeautifulSoup](https://www.crummy.com/software/BeautifulSoup/), are suggested.\n",
    "\n",
    "See also https://github.com/lipoja/URLExtract for another alternative."
   ]
  },
  {
   "cell_type": "code",
   "execution_count": 14,
   "metadata": {},
   "outputs": [
    {
     "data": {
      "text/plain": [
       "['https://phockett.github.io/ePSdata/DABCO/DABCO_1-50.0eV_orb31_A1P.html\">https://phockett.github.io/ePSdata/DABCO/DABCO_1-50.0eV_orb31_A1P.html</a><br><br>For',\n",
       " 'https://phockett.github.io/ePSdata/about.html\">About',\n",
       " 'http://epsproc.readthedocs.io/en/latest/about.html\">About',\n",
       " 'http://www.chem.tamu.edu/rgroup/lucchese/ePolyScat.E3.manual/manual.html\">About']"
      ]
     },
     "execution_count": 14,
     "metadata": {},
     "output_type": "execute_result"
    }
   ],
   "source": [
    "import re\n",
    "\n",
    "myString = dataObj.r.json()['metadata']['description']\n",
    "\n",
    "# print(re.search(\"(?P<url>https?://[^\\s]+)\", myString).group(\"url\"))  # This pulls full <a href .....</a>, ugh.\n",
    "# re.findall(r'(https?://\\S+)', myString)  # Gets all URLs, but not correct.\n",
    "# urls = re.findall('https?://(?:[-\\w.]|(?:%[\\da-fA-F]{2}))+', myString)  # This gets only base URL\n",
    "# urls"
   ]
  },
  {
   "cell_type": "code",
   "execution_count": 20,
   "metadata": {
    "scrolled": true
   },
   "outputs": [
    {
     "name": "stdout",
     "output_type": "stream",
     "text": [
      "['https://phockett.github.io/ePSdata/DABCO/DABCO_1-50.0eV_orb31_A1P.html', 'https://phockett.github.io/ePSdata/about.html', 'http://epsproc.readthedocs.io/en/latest/about.html', 'http://www.chem.tamu.edu/rgroup/lucchese/ePolyScat.E3.manual/manual.html']\n"
     ]
    }
   ],
   "source": [
    "# This works.\n",
    "# https://stackoverflow.com/a/6883228\n",
    "from html.parser import HTMLParser\n",
    "\n",
    "class MyParser(HTMLParser):\n",
    "    def __init__(self, output_list=None):\n",
    "        HTMLParser.__init__(self)\n",
    "        if output_list is None:\n",
    "            self.output_list = []\n",
    "        else:\n",
    "            self.output_list = output_list\n",
    "    def handle_starttag(self, tag, attrs):\n",
    "        if tag == 'a':\n",
    "            self.output_list.append(dict(attrs).get('href'))\n",
    "            \n",
    "p = MyParser()\n",
    "p.feed(myString)\n",
    "p.output_list"
   ]
  },
  {
   "cell_type": "code",
   "execution_count": 24,
   "metadata": {},
   "outputs": [
    {
     "name": "stdout",
     "output_type": "stream",
     "text": [
      "https://phockett.github.io/ePSdata/DABCO/DABCO_1-50.0eV_orb31_A1P.html\n",
      "https://phockett.github.io/ePSdata/about.html\n",
      "http://epsproc.readthedocs.io/en/latest/about.html\n",
      "http://www.chem.tamu.edu/rgroup/lucchese/ePolyScat.E3.manual/manual.html\n"
     ]
    }
   ],
   "source": [
    "# With Beautiful Soup\n",
    "# https://www.crummy.com/software/BeautifulSoup/bs4/doc/\n",
    "\n",
    "from bs4 import BeautifulSoup\n",
    "\n",
    "# Set object\n",
    "soup = BeautifulSoup(myString, 'html.parser')\n",
    "\n",
    "# Find all tags <a\n",
    "soup.find_all('a')\n",
    "\n",
    "# Extract URLs\n",
    "for link in soup.find_all('a'):\n",
    "    print(link.get('href'))\n",
    "    "
   ]
  },
  {
   "cell_type": "code",
   "execution_count": 17,
   "metadata": {},
   "outputs": [
    {
     "data": {
      "text/html": [
       "DABCO, HOMO ionization (orb 31, A1P), 1 - 50eV - photoionization calculations with ePolyScat (ePS) + ePSproc.<br><br>*Web version*: <a href=\"https://phockett.github.io/ePSdata/DABCO/DABCO_1-50.0eV_orb31_A1P.html\">https://phockett.github.io/ePSdata/DABCO/DABCO_1-50.0eV_orb31_A1P.html</a><br><br>For more details of the calculations, see readme.txt, or: <ul><li><a href=\"https://phockett.github.io/ePSdata/about.html\">About ePSdata</a></li><li><a href=\"http://epsproc.readthedocs.io/en/latest/about.html\">About ePSproc</a></li><li><a href=\"http://www.chem.tamu.edu/rgroup/lucchese/ePolyScat.E3.manual/manual.html\">About ePS</a></li></ul>"
      ],
      "text/plain": [
       "<IPython.core.display.HTML object>"
      ]
     },
     "metadata": {},
     "output_type": "display_data"
    }
   ],
   "source": [
    "# Test job info summary - HTML rendering\n",
    "from IPython.core.display import HTML\n",
    "jobInfo = HTML(dataObj.r.json()['metadata']['description'])\n",
    "display(jobInfo)"
   ]
  },
  {
   "cell_type": "markdown",
   "metadata": {},
   "source": [
    "## With zenodo_get wrapper\n",
    "\n",
    "For details, see Zenodo https://doi.org/10.5281/zenodo.3676567 or [GitLab page](https://gitlab.com/dvolgyes/zenodo_get)"
   ]
  },
  {
   "cell_type": "code",
   "execution_count": 53,
   "metadata": {},
   "outputs": [
    {
     "name": "stdout",
     "output_type": "stream",
     "text": [
      "Requirement already satisfied: zenodo_get in /home/femtolab/anaconda3/envs/epsdev/lib/python3.7/site-packages (1.3.0)\n",
      "Requirement already satisfied: wget in /home/femtolab/anaconda3/envs/epsdev/lib/python3.7/site-packages (from zenodo_get) (3.2)\n",
      "Requirement already satisfied: requests in /home/femtolab/anaconda3/envs/epsdev/lib/python3.7/site-packages (from zenodo_get) (2.22.0)\n",
      "Requirement already satisfied: idna<2.9,>=2.5 in /home/femtolab/anaconda3/envs/epsdev/lib/python3.7/site-packages (from requests->zenodo_get) (2.8)\n",
      "Requirement already satisfied: certifi>=2017.4.17 in /home/femtolab/anaconda3/envs/epsdev/lib/python3.7/site-packages (from requests->zenodo_get) (2020.6.20)\n",
      "Requirement already satisfied: chardet<3.1.0,>=3.0.2 in /home/femtolab/anaconda3/envs/epsdev/lib/python3.7/site-packages (from requests->zenodo_get) (3.0.4)\n",
      "Requirement already satisfied: urllib3!=1.25.0,!=1.25.1,<1.26,>=1.21.1 in /home/femtolab/anaconda3/envs/epsdev/lib/python3.7/site-packages (from requests->zenodo_get) (1.25.8)\n"
     ]
    }
   ],
   "source": [
    "# Install with pip\n",
    "!pip install zenodo_get"
   ]
  },
  {
   "cell_type": "code",
   "execution_count": 69,
   "metadata": {},
   "outputs": [],
   "source": [
    "# import zenodo_get as zget  # Seems to be OK, but empty - issue with import here (designed for CLI?)\n",
    "from zenodo_get import __main__ as zget  # This seems to work."
   ]
  },
  {
   "cell_type": "code",
   "execution_count": 70,
   "metadata": {},
   "outputs": [
    {
     "data": {
      "text/plain": [
       "['OptionParser',\n",
       " '__builtins__',\n",
       " '__cached__',\n",
       " '__doc__',\n",
       " '__file__',\n",
       " '__loader__',\n",
       " '__name__',\n",
       " '__package__',\n",
       " '__spec__',\n",
       " 'abort_counter',\n",
       " 'abort_signal',\n",
       " 'check_hash',\n",
       " 'ctrl_c',\n",
       " 'eprint',\n",
       " 'handle_ctrl_c',\n",
       " 'hashlib',\n",
       " 'json',\n",
       " 'os',\n",
       " 'requests',\n",
       " 'signal',\n",
       " 'sys',\n",
       " 'time',\n",
       " 'wget',\n",
       " 'zenodo_get',\n",
       " 'zget']"
      ]
     },
     "execution_count": 70,
     "metadata": {},
     "output_type": "execute_result"
    }
   ],
   "source": [
    "dir(zget)"
   ]
  },
  {
   "cell_type": "code",
   "execution_count": 78,
   "metadata": {},
   "outputs": [
    {
     "ename": "KeyError",
     "evalue": "'files'",
     "output_type": "error",
     "traceback": [
      "\u001b[0;31m---------------------------------------------------------------------------\u001b[0m",
      "\u001b[0;31mKeyError\u001b[0m                                  Traceback (most recent call last)",
      "\u001b[0;32m<ipython-input-78-fe4289ae847f>\u001b[0m in \u001b[0;36m<module>\u001b[0;34m\u001b[0m\n\u001b[1;32m      1\u001b[0m \u001b[0;31m# zget.zenodo_get(['','-d http://dx.doi.org/10.5281/zenodo.3629721'])  # Throws KeyError at 'files'\u001b[0m\u001b[0;34m\u001b[0m\u001b[0;34m\u001b[0m\u001b[0;34m\u001b[0m\u001b[0m\n\u001b[1;32m      2\u001b[0m \u001b[0;31m# zget.zenodo_get(['','-d 10.5281/zenodo.3629721'])  # Throws KeyError at 'files'\u001b[0m\u001b[0;34m\u001b[0m\u001b[0;34m\u001b[0m\u001b[0;34m\u001b[0m\u001b[0m\n\u001b[0;32m----> 3\u001b[0;31m \u001b[0mzget\u001b[0m\u001b[0;34m.\u001b[0m\u001b[0mzenodo_get\u001b[0m\u001b[0;34m(\u001b[0m\u001b[0;34m[\u001b[0m\u001b[0;34m''\u001b[0m\u001b[0;34m,\u001b[0m\u001b[0;34m'-r 3629721'\u001b[0m\u001b[0;34m]\u001b[0m\u001b[0;34m)\u001b[0m  \u001b[0;31m# Throws KeyError at 'files'\u001b[0m\u001b[0;34m\u001b[0m\u001b[0;34m\u001b[0m\u001b[0m\n\u001b[0m",
      "\u001b[0;32m~/anaconda3/envs/epsdev/lib/python3.7/site-packages/zenodo_get/__main__.py\u001b[0m in \u001b[0;36mzenodo_get\u001b[0;34m(argv)\u001b[0m\n\u001b[1;32m    222\u001b[0m     \u001b[0;32mif\u001b[0m \u001b[0mr\u001b[0m\u001b[0;34m.\u001b[0m\u001b[0mok\u001b[0m\u001b[0;34m:\u001b[0m\u001b[0;34m\u001b[0m\u001b[0;34m\u001b[0m\u001b[0m\n\u001b[1;32m    223\u001b[0m         \u001b[0mjs\u001b[0m \u001b[0;34m=\u001b[0m \u001b[0mjson\u001b[0m\u001b[0;34m.\u001b[0m\u001b[0mloads\u001b[0m\u001b[0;34m(\u001b[0m\u001b[0mr\u001b[0m\u001b[0;34m.\u001b[0m\u001b[0mtext\u001b[0m\u001b[0;34m)\u001b[0m\u001b[0;34m\u001b[0m\u001b[0;34m\u001b[0m\u001b[0m\n\u001b[0;32m--> 224\u001b[0;31m         \u001b[0mfiles\u001b[0m \u001b[0;34m=\u001b[0m \u001b[0mjs\u001b[0m\u001b[0;34m[\u001b[0m\u001b[0;34m'files'\u001b[0m\u001b[0;34m]\u001b[0m\u001b[0;34m\u001b[0m\u001b[0;34m\u001b[0m\u001b[0m\n\u001b[0m\u001b[1;32m    225\u001b[0m         \u001b[0mtotal_size\u001b[0m \u001b[0;34m=\u001b[0m \u001b[0msum\u001b[0m\u001b[0;34m(\u001b[0m\u001b[0mf\u001b[0m\u001b[0;34m[\u001b[0m\u001b[0;34m'size'\u001b[0m\u001b[0;34m]\u001b[0m \u001b[0;32mfor\u001b[0m \u001b[0mf\u001b[0m \u001b[0;32min\u001b[0m \u001b[0mfiles\u001b[0m\u001b[0;34m)\u001b[0m\u001b[0;34m\u001b[0m\u001b[0;34m\u001b[0m\u001b[0m\n\u001b[1;32m    226\u001b[0m \u001b[0;34m\u001b[0m\u001b[0m\n",
      "\u001b[0;31mKeyError\u001b[0m: 'files'"
     ]
    }
   ],
   "source": [
    "# zget.zenodo_get(['','-d http://dx.doi.org/10.5281/zenodo.3629721'])  # Throws KeyError at 'files'\n",
    "# zget.zenodo_get(['','-d 10.5281/zenodo.3629721'])  # Throws KeyError at 'files'\n",
    "zget.zenodo_get(['','-r 3629721'])  # Throws KeyError at 'files'"
   ]
  },
  {
   "cell_type": "code",
   "execution_count": 63,
   "metadata": {},
   "outputs": [
    {
     "name": "stdout",
     "output_type": "stream",
     "text": [
      "/bin/sh: 1: zenodo_get.py: not found\r\n"
     ]
    }
   ],
   "source": [
    "!zenodo_get.py -c"
   ]
  },
  {
   "cell_type": "code",
   "execution_count": null,
   "metadata": {},
   "outputs": [],
   "source": []
  }
 ],
 "metadata": {
  "kernelspec": {
   "display_name": "Python 3",
   "language": "python",
   "name": "python3"
  },
  "language_info": {
   "codemirror_mode": {
    "name": "ipython",
    "version": 3
   },
   "file_extension": ".py",
   "mimetype": "text/x-python",
   "name": "python",
   "nbconvert_exporter": "python",
   "pygments_lexer": "ipython3",
   "version": "3.7.6"
  },
  "latex_envs": {
   "LaTeX_envs_menu_present": true,
   "autoclose": false,
   "autocomplete": true,
   "bibliofile": "biblio.bib",
   "cite_by": "apalike",
   "current_citInitial": 1,
   "eqLabelWithNumbers": true,
   "eqNumInitial": 1,
   "hotkeys": {
    "equation": "Ctrl-E",
    "itemize": "Ctrl-I"
   },
   "labels_anchors": false,
   "latex_user_defs": false,
   "report_style_numbering": false,
   "user_envs_cfg": false
  }
 },
 "nbformat": 4,
 "nbformat_minor": 4
}
