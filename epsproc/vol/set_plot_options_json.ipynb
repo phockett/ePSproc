{
 "cells": [
  {
   "cell_type": "markdown",
   "metadata": {},
   "source": [
    "# Set plot options - interactive to json file\n",
    "07/08/20\n",
    "\n",
    "For wavefunction plotting, now changing format to use dict for plot options, and json file to store/modify. For ease of use & reproducibility (and to save writing the raw file), the original settings are set here.\n",
    "\n",
    "DEPRECATED - see end of notebook for current packaged function version."
   ]
  },
  {
   "cell_type": "code",
   "execution_count": 2,
   "metadata": {
    "lines_to_next_cell": 2
   },
   "outputs": [],
   "source": [
    "import json\n",
    "import pprint\n",
    "pp = pprint.PrettyPrinter(indent=4)\n",
    "\n",
    "import sys\n",
    "from pathlib import Path\n",
    "\n",
    "# ePSproc test codebase (local)\n",
    "# For package version this shouldn't be necessary\n",
    "if sys.platform == \"win32\":\n",
    "    modPath = r'D:\\code\\github\\ePSproc'  # Win test machine\n",
    "else:\n",
    "    modPath = r'/home/femtolab/github/ePSproc/'  # Linux test machine\n",
    "\n",
    "optionsFile = Path(modPath,'epsproc','vol','plotOptions.json')"
   ]
  },
  {
   "cell_type": "markdown",
   "metadata": {},
   "source": [
    "## Read existing options (if set)"
   ]
  },
  {
   "cell_type": "code",
   "execution_count": 17,
   "metadata": {},
   "outputs": [
    {
     "data": {
      "text/plain": [
       "True"
      ]
     },
     "execution_count": 17,
     "metadata": {},
     "output_type": "execute_result"
    }
   ],
   "source": [
    "optionsFile.is_file()"
   ]
  },
  {
   "cell_type": "code",
   "execution_count": 19,
   "metadata": {},
   "outputs": [
    {
     "name": "stdout",
     "output_type": "stream",
     "text": [
      "*** Read existing file /home/femtolab/github/ePSproc/epsproc/vol/plotOptions.json OK, contents:\n",
      "{\n",
      "    \"global\": {\n",
      "        \"note\": \"Global plot settings, used as defaults. To change for session, overwrite in local dict. To change permanently, overwrite in file plotOptions.json. To reset, use `epsproc/vol/set_plot_options_json.ipynb` or .py.\",\n",
      "        \"pType\": \"Abs\",\n",
      "        \"interactive\": true,\n",
      "        \"animate\": false,\n",
      "        \"isoLevels\": 6,\n",
      "        \"isoValsAbs\": null,\n",
      "        \"isoValsPC\": null,\n",
      "        \"opacity\": 0.5\n",
      "    }\n",
      "}\n"
     ]
    }
   ],
   "source": [
    "if optionsFile.is_file():\n",
    "    with open(optionsFile) as json_file:\n",
    "        optionsFileJSON = json.load(json_file)\n",
    "    \n",
    "    print(f\"*** Read existing file {optionsFile} OK, contents:\")\n",
    "    print(json.dumps(optionsFileJSON, sort_keys=False, indent=4))\n",
    "    \n",
    "else:\n",
    "    print(f\"*** File {optionsFile} not found.\")\n",
    "    \n"
   ]
  },
  {
   "cell_type": "markdown",
   "metadata": {},
   "source": [
    "## Set new options"
   ]
  },
  {
   "cell_type": "code",
   "execution_count": null,
   "metadata": {},
   "outputs": [],
   "source": [
    "optionsLocal = {}"
   ]
  },
  {
   "cell_type": "markdown",
   "metadata": {},
   "source": [
    "### Define global settings"
   ]
  },
  {
   "cell_type": "code",
   "execution_count": 56,
   "metadata": {
    "scrolled": true
   },
   "outputs": [],
   "source": [
    "globalSettings = {\"note\":\"Global plot settings, used as defaults. To change for session, overwrite in local dict. To change permanently, overwrite in file plotOptions.json. To reset, use `epsproc/vol/set_plot_options_json.ipynb` or .py.\",\n",
    "                  \"pType\":\"Abs\", \"interactive\":True, \"inline\":True, \"animate\":False,\n",
    "                  \"isoLevels\":6, \"isoValsAbs\":None, \"isoValsPC\":None,\n",
    "                  \"opacity\":0.5,\n",
    "#                   \"plotter\":\"\"  # Set plotter dynamically based on options above...?\n",
    "                  }\n",
    "\n",
    "optionsLocal[\"global\"] = globalSettings"
   ]
  },
  {
   "cell_type": "markdown",
   "metadata": {},
   "source": [
    "## Define plotter specific settings"
   ]
  },
  {
   "cell_type": "code",
   "execution_count": 59,
   "metadata": {},
   "outputs": [],
   "source": [
    "BGplotterSettings = {\"addAxis\" : True,\n",
    "                     \"kwargs\" : {}    # Set empty kwargs dict for passing any other params at run time.\n",
    "                    }\n",
    "\n",
    "optionsLocal[\"BGplotter\"] = BGplotterSettings"
   ]
  },
  {
   "cell_type": "markdown",
   "metadata": {},
   "source": [
    "## Write settings to file"
   ]
  },
  {
   "cell_type": "code",
   "execution_count": 60,
   "metadata": {},
   "outputs": [
    {
     "name": "stdout",
     "output_type": "stream",
     "text": [
      "File /home/femtolab/github/ePSproc/epsproc/vol/plotOptions.json exists, overwrite (y/n)? y\n"
     ]
    }
   ],
   "source": [
    "with open(optionsFile, 'w') as json_file:\n",
    "    \n",
    "    if optionsFile.is_file():\n",
    "        owFlag = input(f\"File {optionsFile} exists, overwrite (y/n)? \")\n",
    "    else:\n",
    "        owFlag = 'y'\n",
    "        \n",
    "    if owFlag == 'y':\n",
    "        json.dump(optionsLocal, json_file, indent=4, sort_keys=False)  # Set indent + sort keys for nicer (HF) file output."
   ]
  },
  {
   "cell_type": "code",
   "execution_count": null,
   "metadata": {},
   "outputs": [],
   "source": [
    "stop here if running full notebook!!!"
   ]
  },
  {
   "cell_type": "markdown",
   "metadata": {},
   "source": [
    "## Functional version testing..."
   ]
  },
  {
   "cell_type": "code",
   "execution_count": 3,
   "metadata": {},
   "outputs": [
    {
     "name": "stdout",
     "output_type": "stream",
     "text": [
      "* plotly not found, plotly plots not available. \n",
      "* pyevtk not found, VTK export not available. \n"
     ]
    }
   ],
   "source": [
    "sys.path.append(modPath)\n",
    "# import epsproc as ep\n",
    "\n",
    "from epsproc.vol.setOptions import setLocalOptions, readOptionsFile, writeOptionsFile  # Plot options IO"
   ]
  },
  {
   "cell_type": "code",
   "execution_count": 4,
   "metadata": {},
   "outputs": [],
   "source": [
    "output = setLocalOptions()"
   ]
  },
  {
   "cell_type": "code",
   "execution_count": 5,
   "metadata": {},
   "outputs": [
    {
     "data": {
      "text/plain": [
       "{'global': {'note': 'Global plot settings, used as defaults. To change for session, overwrite in local dict. To change permanently, overwrite in file plotOptions.json. To reset, use `epsproc/vol/set_plot_options_json.ipynb` or .py.',\n",
       "  'pType': 'Abs',\n",
       "  'interactive': True,\n",
       "  'inline': True,\n",
       "  'animate': False,\n",
       "  'isoLevels': 6,\n",
       "  'isoValsAbs': None,\n",
       "  'isoValsPC': None,\n",
       "  'opacity': 0.5},\n",
       " 'BGplotter': {'addAxis': True, 'kwargs': {}}}"
      ]
     },
     "execution_count": 5,
     "metadata": {},
     "output_type": "execute_result"
    }
   ],
   "source": [
    "output"
   ]
  },
  {
   "cell_type": "code",
   "execution_count": 7,
   "metadata": {},
   "outputs": [
    {
     "name": "stdout",
     "output_type": "stream",
     "text": [
      "File test.out exists, overwrite (y/n)? y\n"
     ]
    }
   ],
   "source": [
    "writeOptionsFile(Path(\"test.out\"), output)"
   ]
  },
  {
   "cell_type": "code",
   "execution_count": null,
   "metadata": {},
   "outputs": [],
   "source": []
  }
 ],
 "metadata": {
  "jupytext": {
   "formats": "ipynb,py:light"
  },
  "kernelspec": {
   "display_name": "Python 3",
   "language": "python",
   "name": "python3"
  },
  "latex_envs": {
   "LaTeX_envs_menu_present": true,
   "autoclose": false,
   "autocomplete": true,
   "bibliofile": "biblio.bib",
   "cite_by": "apalike",
   "current_citInitial": 1,
   "eqLabelWithNumbers": true,
   "eqNumInitial": 1,
   "hotkeys": {
    "equation": "Ctrl-E",
    "itemize": "Ctrl-I"
   },
   "labels_anchors": false,
   "latex_user_defs": false,
   "report_style_numbering": false,
   "user_envs_cfg": false
  }
 },
 "nbformat": 4,
 "nbformat_minor": 4
}
