{
 "cells": [
  {
   "cell_type": "markdown",
   "metadata": {},
   "source": [
    "# ePSproc dev notebook template\n",
    "\n",
    "16/08/21  v2 - updated import routines, added classes, added Git versioning.\n",
    "\n",
    "15/07/20  v1\n",
    "\n"
   ]
  },
  {
   "cell_type": "markdown",
   "metadata": {},
   "source": [
    "## Setup"
   ]
  },
  {
   "cell_type": "markdown",
   "metadata": {},
   "source": [
    "### Full import"
   ]
  },
  {
   "cell_type": "code",
   "execution_count": null,
   "metadata": {},
   "outputs": [],
   "source": [
    "# Standard libs\n",
    "import sys\n",
    "import os\n",
    "from pathlib import Path\n",
    "import numpy as np\n",
    "import xarray as xr\n",
    "\n",
    "from datetime import datetime as dt\n",
    "timeString = dt.now()\n"
   ]
  },
  {
   "cell_type": "code",
   "execution_count": null,
   "metadata": {},
   "outputs": [],
   "source": [
    "\n",
    "# For module testing, include path to module here, otherwise use global installation\n",
    "local = True\n",
    "\n",
    "if local:\n",
    "    import sys\n",
    "    if sys.platform == \"win32\":\n",
    "        modPath = r'D:\\code\\github\\ePSproc'  # Win test machine\n",
    "        winFlag = True\n",
    "    else:\n",
    "        modPath = r'~/github/ePSproc/'  # Linux test machine\n",
    "        winFlag = False\n",
    "\n",
    "    sys.path.append(modPath)\n",
    "\n",
    "\n",
    "# Import\n",
    "import epsproc as ep  \n",
    "\n",
    "# Set data path\n",
    "# Note this is set here from ep.__path__, but may not be correct in all cases - depends on where the Github repo is.\n",
    "epDemoDataPath = Path(ep.__path__[0]).parent/'data'\n",
    "\n"
   ]
  },
  {
   "cell_type": "markdown",
   "metadata": {},
   "source": [
    "### Tidy import"
   ]
  },
  {
   "cell_type": "code",
   "execution_count": null,
   "metadata": {},
   "outputs": [],
   "source": [
    "import sys\n",
    "import os\n",
    "from pathlib import Path\n",
    "import numpy as np\n",
    "# import epsproc as ep\n",
    "import xarray as xr\n",
    "\n",
    "import matplotlib.pyplot as plt\n",
    "\n",
    "from datetime import datetime as dt\n",
    "timeString = dt.now()\n",
    "\n",
    "import epsproc as ep\n",
    "\n",
    "# Multijob class dev code\n",
    "from epsproc.classes.multiJob import ePSmultiJob"
   ]
  },
  {
   "cell_type": "markdown",
   "metadata": {},
   "source": [
    "### Optional bits"
   ]
  },
  {
   "cell_type": "code",
   "execution_count": null,
   "metadata": {},
   "outputs": [],
   "source": [
    "# Plotters\n",
    "from epsproc.plot import hvPlotters\n",
    "hvPlotters.setPlotters(width = 700, snsStyle='whitegrid')"
   ]
  },
  {
   "cell_type": "code",
   "execution_count": null,
   "metadata": {},
   "outputs": [],
   "source": [
    "# More optional plot settings\n",
    "import seaborn as sns\n",
    "\n",
    "sns.set(rc={'figure.figsize':(10,6)})  # Set figure size in inches\n",
    "sns.set_context(\"paper\")\n",
    "sns.set_style(\"whitegrid\")  # Set plot style\n",
    "sns.set_palette(\"Paired\")   # Set colour mapping\n",
    "\n",
    "# Try direct fig type setting for PDF output figs\n",
    "from IPython.display import set_matplotlib_formats\n",
    "# set_matplotlib_formats('png', 'pdf')\n",
    "set_matplotlib_formats('svg', 'pdf')"
   ]
  },
  {
   "cell_type": "code",
   "execution_count": null,
   "metadata": {},
   "outputs": [],
   "source": [
    "# To control display of warnings...\n",
    "# https://stackoverflow.com/a/9031848\n",
    "import warnings\n",
    "warnings.filterwarnings('once')  # set 'once' or 'ignore'\n",
    "\n",
    "# 16/08/21 ADDED TO util.env.isnotebook(), not yet tested."
   ]
  },
  {
   "cell_type": "markdown",
   "metadata": {},
   "source": [
    "## Load test data"
   ]
  },
  {
   "cell_type": "markdown",
   "metadata": {},
   "source": [
    "### Functional version"
   ]
  },
  {
   "cell_type": "code",
   "execution_count": null,
   "metadata": {},
   "outputs": [],
   "source": [
    "# Load data from modPath\\data\n",
    "dataPath = os.path.join(epDemoDataPath, 'photoionization')\n",
    "dataFile = os.path.join(dataPath, 'n2_3sg_0.1-50.1eV_A2.inp.out')  # Set for sample N2 data for testing\n",
    "\n",
    "# Scan data file\n",
    "dataSet = ep.readMatEle(fileIn = dataFile)\n",
    "dataXS = ep.readMatEle(fileIn = dataFile, recordType = 'CrossSection')  # XS info currently not set in NO2 sample file."
   ]
  },
  {
   "cell_type": "markdown",
   "metadata": {},
   "source": [
    "### Class version"
   ]
  },
  {
   "cell_type": "code",
   "execution_count": null,
   "metadata": {},
   "outputs": [],
   "source": [
    "# Class dev code\n",
    "from epsproc.classes.multiJob import ePSmultiJob\n",
    "from epsproc.classes.base import ePSbase\n",
    "\n",
    "# Instantiate class object.\n",
    "# Minimally this needs just the dataPath, if verbose = 1 is set then some useful output will also be printed.\n",
    "data = ePSbase(dataPath, verbose = 1)\n",
    "\n",
    "# ScanFiles() - this will look for data files on the path provided, and read from them.\n",
    "data.scanFiles()"
   ]
  },
  {
   "cell_type": "markdown",
   "metadata": {},
   "source": [
    "## New stuff\n",
    "\n",
    "... goes here ..."
   ]
  },
  {
   "cell_type": "markdown",
   "metadata": {},
   "source": [
    "## Versions"
   ]
  },
  {
   "cell_type": "code",
   "execution_count": null,
   "metadata": {},
   "outputs": [],
   "source": [
    "import scooby\n",
    "scooby.Report(additional=['epsproc', 'holoviews', 'hvplot', 'xarray', 'matplotlib', 'bokeh'])"
   ]
  },
  {
   "cell_type": "code",
   "execution_count": null,
   "metadata": {},
   "outputs": [],
   "source": [
    "# Check current Git commit for local ePSproc version\n",
    "from pathlib import Path\n",
    "!git -C {Path(ep.__file__).parent} branch\n",
    "!git -C {Path(ep.__file__).parent} log --format=\"%H\" -n 1"
   ]
  },
  {
   "cell_type": "code",
   "execution_count": null,
   "metadata": {},
   "outputs": [],
   "source": [
    "# Check current remote commits\n",
    "!git ls-remote --heads https://github.com/phockett/ePSproc"
   ]
  }
 ],
 "metadata": {
  "kernelspec": {
   "display_name": "Python 3",
   "language": "python",
   "name": "python3"
  },
  "language_info": {
   "codemirror_mode": {
    "name": "ipython",
    "version": 3
   },
   "file_extension": ".py",
   "mimetype": "text/x-python",
   "name": "python",
   "nbconvert_exporter": "python",
   "pygments_lexer": "ipython3",
   "version": "3.7.4"
  },
  "latex_envs": {
   "LaTeX_envs_menu_present": true,
   "autoclose": false,
   "autocomplete": true,
   "bibliofile": "biblio.bib",
   "cite_by": "apalike",
   "current_citInitial": 1,
   "eqLabelWithNumbers": true,
   "eqNumInitial": 1,
   "hotkeys": {
    "equation": "Ctrl-E",
    "itemize": "Ctrl-I"
   },
   "labels_anchors": false,
   "latex_user_defs": false,
   "report_style_numbering": false,
   "user_envs_cfg": false
  }
 },
 "nbformat": 4,
 "nbformat_minor": 4
}
