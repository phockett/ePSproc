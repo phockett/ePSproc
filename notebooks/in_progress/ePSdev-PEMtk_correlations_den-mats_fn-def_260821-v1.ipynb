{
 "cells": [
  {
   "cell_type": "markdown",
   "metadata": {},
   "source": [
    "# ePSproc/PEMtk dev - functional form dev\n",
    "26/08/21\n",
    "\n",
    "See prior notebook for basics: http://100.86.127.24/jupyter/user/paul/doc/tree/github/ePSproc/notebooks/in_progress/ePSdev-PEMtk_correlations_den-mats_basic-tests_220821.ipynb"
   ]
  },
  {
   "cell_type": "code",
   "execution_count": null,
   "metadata": {},
   "outputs": [],
   "source": []
  },
  {
   "cell_type": "markdown",
   "metadata": {
    "tags": []
   },
   "source": [
    "## Setup"
   ]
  },
  {
   "cell_type": "code",
   "execution_count": 1,
   "metadata": {},
   "outputs": [
    {
     "name": "stdout",
     "output_type": "stream",
     "text": [
      "* sparse not found, sparse matrix forms not available. \n",
      "* natsort not found, some sorting functions not available. \n",
      "* pyevtk not found, VTK export not available. \n"
     ]
    }
   ],
   "source": [
    "import sys\n",
    "import os\n",
    "from pathlib import Path\n",
    "import numpy as np\n",
    "# import epsproc as ep\n",
    "import xarray as xr\n",
    "\n",
    "import matplotlib.pyplot as plt\n",
    "\n",
    "from datetime import datetime as dt\n",
    "timeString = dt.now()\n",
    "\n",
    "import epsproc as ep\n",
    "\n",
    "# Multijob class dev code\n",
    "from epsproc.classes.multiJob import ePSmultiJob"
   ]
  },
  {
   "cell_type": "code",
   "execution_count": 2,
   "metadata": {},
   "outputs": [
    {
     "name": "stderr",
     "output_type": "stream",
     "text": [
      "/home/paul/anaconda3/envs/epsdev-xr15/lib/python3.7/site-packages/ipykernel/ipkernel.py:287: DeprecationWarning: `should_run_async` will not call `transform_cell` automatically in the future. Please pass the result to `transformed_cell` argument and any exception that happen during thetransform in `preprocessing_exc_tuple` in IPython 7.17 and above.\n",
      "  and should_run_async(code)\n"
     ]
    }
   ],
   "source": [
    "epDemoDataPath = Path(ep.__path__[0]).parent/'data'/'photoionization'"
   ]
  },
  {
   "cell_type": "markdown",
   "metadata": {},
   "source": [
    "## Load test data"
   ]
  },
  {
   "cell_type": "code",
   "execution_count": 3,
   "metadata": {},
   "outputs": [
    {
     "name": "stderr",
     "output_type": "stream",
     "text": [
      "/home/paul/github/ePSproc/epsproc/IO.py:657: DeprecationWarning: `np.float` is a deprecated alias for the builtin `float`. To silence this warning, use `float` by itself. Doing this will not modify any behavior and is safe. If you specifically wanted the numpy scalar type, use `np.float64` here.\n",
      "Deprecated in NumPy 1.20; for more details and guidance: https://numpy.org/devdocs/release/1.20.0-notes.html#deprecations\n",
      "  attribs.append(['E', np.float(parseLineDigits(dumpSeg[3][2])[0]), 'eV'])\n",
      "/home/paul/github/ePSproc/epsproc/IO.py:662: DeprecationWarning: `np.int` is a deprecated alias for the builtin `int`. To silence this warning, use `int` by itself. Doing this will not modify any behavior and is safe. When replacing `np.int`, you may wish to use e.g. `np.int64` or `np.int32` to specify the precision. If you wish to review your current use, check the release note link for additional information.\n",
      "Deprecated in NumPy 1.20; for more details and guidance: https://numpy.org/devdocs/release/1.20.0-notes.html#deprecations\n",
      "  attribs.append(['Lmax', np.int(parseLineDigits(dumpSeg[10][2])[0]), ''])\n",
      "/home/paul/anaconda3/envs/epsdev-xr15/lib/python3.7/site-packages/xarray/core/alignment.py:298: FutureWarning: Index.__or__ operating as a set operation is deprecated, in the future this will be a logical operation matching Series.__or__.  Use index.union(other) instead\n",
      "  index = joiner(matching_indexes)\n",
      "/home/paul/anaconda3/envs/epsdev-xr15/lib/python3.7/site-packages/xarray/core/alignment.py:298: FutureWarning: Index.__or__ operating as a set operation is deprecated, in the future this will be a logical operation matching Series.__or__.  Use index.union(other) instead\n",
      "  index = joiner(matching_indexes)\n",
      "/home/paul/anaconda3/envs/epsdev-xr15/lib/python3.7/site-packages/xarray/core/alignment.py:298: FutureWarning: Index.__or__ operating as a set operation is deprecated, in the future this will be a logical operation matching Series.__or__.  Use index.union(other) instead\n",
      "  index = joiner(matching_indexes)\n",
      "/home/paul/github/ePSproc/epsproc/IO.py:657: DeprecationWarning: `np.float` is a deprecated alias for the builtin `float`. To silence this warning, use `float` by itself. Doing this will not modify any behavior and is safe. If you specifically wanted the numpy scalar type, use `np.float64` here.\n",
      "Deprecated in NumPy 1.20; for more details and guidance: https://numpy.org/devdocs/release/1.20.0-notes.html#deprecations\n",
      "  attribs.append(['E', np.float(parseLineDigits(dumpSeg[3][2])[0]), 'eV'])\n",
      "/home/paul/github/ePSproc/epsproc/IO.py:662: DeprecationWarning: `np.int` is a deprecated alias for the builtin `int`. To silence this warning, use `int` by itself. Doing this will not modify any behavior and is safe. When replacing `np.int`, you may wish to use e.g. `np.int64` or `np.int32` to specify the precision. If you wish to review your current use, check the release note link for additional information.\n",
      "Deprecated in NumPy 1.20; for more details and guidance: https://numpy.org/devdocs/release/1.20.0-notes.html#deprecations\n",
      "  attribs.append(['Lmax', np.int(parseLineDigits(dumpSeg[10][2])[0]), ''])\n",
      "/home/paul/anaconda3/envs/epsdev-xr15/lib/python3.7/site-packages/xarray/core/alignment.py:298: FutureWarning: Index.__or__ operating as a set operation is deprecated, in the future this will be a logical operation matching Series.__or__.  Use index.union(other) instead\n",
      "  index = joiner(matching_indexes)\n",
      "/home/paul/anaconda3/envs/epsdev-xr15/lib/python3.7/site-packages/xarray/core/alignment.py:298: FutureWarning: Index.__or__ operating as a set operation is deprecated, in the future this will be a logical operation matching Series.__or__.  Use index.union(other) instead\n",
      "  index = joiner(matching_indexes)\n",
      "/home/paul/anaconda3/envs/epsdev-xr15/lib/python3.7/site-packages/xarray/core/alignment.py:298: FutureWarning: Index.__or__ operating as a set operation is deprecated, in the future this will be a logical operation matching Series.__or__.  Use index.union(other) instead\n",
      "  index = joiner(matching_indexes)\n",
      "/home/paul/anaconda3/envs/epsdev-xr15/lib/python3.7/site-packages/xarray/core/alignment.py:298: FutureWarning: Index.__or__ operating as a set operation is deprecated, in the future this will be a logical operation matching Series.__or__.  Use index.union(other) instead\n",
      "  index = joiner(matching_indexes)\n",
      "/home/paul/anaconda3/envs/epsdev-xr15/lib/python3.7/site-packages/xarray/core/alignment.py:298: FutureWarning: Index.__or__ operating as a set operation is deprecated, in the future this will be a logical operation matching Series.__or__.  Use index.union(other) instead\n",
      "  index = joiner(matching_indexes)\n",
      "/home/paul/anaconda3/envs/epsdev-xr15/lib/python3.7/site-packages/xarray/core/alignment.py:298: FutureWarning: Index.__or__ operating as a set operation is deprecated, in the future this will be a logical operation matching Series.__or__.  Use index.union(other) instead\n",
      "  index = joiner(matching_indexes)\n",
      "/home/paul/anaconda3/envs/epsdev-xr15/lib/python3.7/site-packages/xarray/core/alignment.py:298: FutureWarning: Index.__or__ operating as a set operation is deprecated, in the future this will be a logical operation matching Series.__or__.  Use index.union(other) instead\n",
      "  index = joiner(matching_indexes)\n",
      "/home/paul/anaconda3/envs/epsdev-xr15/lib/python3.7/site-packages/xarray/core/alignment.py:298: FutureWarning: Index.__or__ operating as a set operation is deprecated, in the future this will be a logical operation matching Series.__or__.  Use index.union(other) instead\n",
      "  index = joiner(matching_indexes)\n",
      "/home/paul/anaconda3/envs/epsdev-xr15/lib/python3.7/site-packages/xarray/core/alignment.py:298: FutureWarning: Index.__or__ operating as a set operation is deprecated, in the future this will be a logical operation matching Series.__or__.  Use index.union(other) instead\n",
      "  index = joiner(matching_indexes)\n",
      "/home/paul/anaconda3/envs/epsdev-xr15/lib/python3.7/site-packages/xarray/core/alignment.py:298: FutureWarning: Index.__or__ operating as a set operation is deprecated, in the future this will be a logical operation matching Series.__or__.  Use index.union(other) instead\n",
      "  index = joiner(matching_indexes)\n",
      "/home/paul/anaconda3/envs/epsdev-xr15/lib/python3.7/site-packages/xarray/core/alignment.py:298: FutureWarning: Index.__or__ operating as a set operation is deprecated, in the future this will be a logical operation matching Series.__or__.  Use index.union(other) instead\n",
      "  index = joiner(matching_indexes)\n",
      "/home/paul/anaconda3/envs/epsdev-xr15/lib/python3.7/site-packages/xarray/core/alignment.py:298: FutureWarning: Index.__or__ operating as a set operation is deprecated, in the future this will be a logical operation matching Series.__or__.  Use index.union(other) instead\n",
      "  index = joiner(matching_indexes)\n",
      "/home/paul/anaconda3/envs/epsdev-xr15/lib/python3.7/site-packages/xarray/core/alignment.py:298: FutureWarning: Index.__or__ operating as a set operation is deprecated, in the future this will be a logical operation matching Series.__or__.  Use index.union(other) instead\n",
      "  index = joiner(matching_indexes)\n",
      "/home/paul/anaconda3/envs/epsdev-xr15/lib/python3.7/site-packages/xarray/core/alignment.py:298: FutureWarning: Index.__or__ operating as a set operation is deprecated, in the future this will be a logical operation matching Series.__or__.  Use index.union(other) instead\n",
      "  index = joiner(matching_indexes)\n",
      "/home/paul/anaconda3/envs/epsdev-xr15/lib/python3.7/site-packages/xarray/core/alignment.py:298: FutureWarning: Index.__or__ operating as a set operation is deprecated, in the future this will be a logical operation matching Series.__or__.  Use index.union(other) instead\n",
      "  index = joiner(matching_indexes)\n",
      "/home/paul/anaconda3/envs/epsdev-xr15/lib/python3.7/site-packages/xarray/core/alignment.py:298: FutureWarning: Index.__or__ operating as a set operation is deprecated, in the future this will be a logical operation matching Series.__or__.  Use index.union(other) instead\n",
      "  index = joiner(matching_indexes)\n",
      "/home/paul/anaconda3/envs/epsdev-xr15/lib/python3.7/site-packages/xarray/core/alignment.py:298: FutureWarning: Index.__or__ operating as a set operation is deprecated, in the future this will be a logical operation matching Series.__or__.  Use index.union(other) instead\n",
      "  index = joiner(matching_indexes)\n",
      "/home/paul/anaconda3/envs/epsdev-xr15/lib/python3.7/site-packages/xarray/core/alignment.py:298: FutureWarning: Index.__or__ operating as a set operation is deprecated, in the future this will be a logical operation matching Series.__or__.  Use index.union(other) instead\n",
      "  index = joiner(matching_indexes)\n",
      "/home/paul/anaconda3/envs/epsdev-xr15/lib/python3.7/site-packages/xarray/core/alignment.py:298: FutureWarning: Index.__or__ operating as a set operation is deprecated, in the future this will be a logical operation matching Series.__or__.  Use index.union(other) instead\n",
      "  index = joiner(matching_indexes)\n",
      "/home/paul/anaconda3/envs/epsdev-xr15/lib/python3.7/site-packages/xarray/core/alignment.py:298: FutureWarning: Index.__or__ operating as a set operation is deprecated, in the future this will be a logical operation matching Series.__or__.  Use index.union(other) instead\n",
      "  index = joiner(matching_indexes)\n",
      "/home/paul/anaconda3/envs/epsdev-xr15/lib/python3.7/site-packages/xarray/core/alignment.py:298: FutureWarning: Index.__or__ operating as a set operation is deprecated, in the future this will be a logical operation matching Series.__or__.  Use index.union(other) instead\n",
      "  index = joiner(matching_indexes)\n",
      "/home/paul/anaconda3/envs/epsdev-xr15/lib/python3.7/site-packages/xarray/core/alignment.py:298: FutureWarning: Index.__or__ operating as a set operation is deprecated, in the future this will be a logical operation matching Series.__or__.  Use index.union(other) instead\n",
      "  index = joiner(matching_indexes)\n",
      "/home/paul/anaconda3/envs/epsdev-xr15/lib/python3.7/site-packages/xarray/core/alignment.py:298: FutureWarning: Index.__or__ operating as a set operation is deprecated, in the future this will be a logical operation matching Series.__or__.  Use index.union(other) instead\n",
      "  index = joiner(matching_indexes)\n",
      "/home/paul/anaconda3/envs/epsdev-xr15/lib/python3.7/site-packages/xarray/core/alignment.py:298: FutureWarning: Index.__or__ operating as a set operation is deprecated, in the future this will be a logical operation matching Series.__or__.  Use index.union(other) instead\n",
      "  index = joiner(matching_indexes)\n",
      "/home/paul/anaconda3/envs/epsdev-xr15/lib/python3.7/site-packages/xarray/core/alignment.py:298: FutureWarning: Index.__or__ operating as a set operation is deprecated, in the future this will be a logical operation matching Series.__or__.  Use index.union(other) instead\n",
      "  index = joiner(matching_indexes)\n",
      "/home/paul/anaconda3/envs/epsdev-xr15/lib/python3.7/site-packages/xarray/core/alignment.py:298: FutureWarning: Index.__or__ operating as a set operation is deprecated, in the future this will be a logical operation matching Series.__or__.  Use index.union(other) instead\n",
      "  index = joiner(matching_indexes)\n",
      "/home/paul/anaconda3/envs/epsdev-xr15/lib/python3.7/site-packages/xarray/core/alignment.py:298: FutureWarning: Index.__or__ operating as a set operation is deprecated, in the future this will be a logical operation matching Series.__or__.  Use index.union(other) instead\n",
      "  index = joiner(matching_indexes)\n",
      "/home/paul/anaconda3/envs/epsdev-xr15/lib/python3.7/site-packages/xarray/core/alignment.py:298: FutureWarning: Index.__or__ operating as a set operation is deprecated, in the future this will be a logical operation matching Series.__or__.  Use index.union(other) instead\n",
      "  index = joiner(matching_indexes)\n",
      "/home/paul/anaconda3/envs/epsdev-xr15/lib/python3.7/site-packages/xarray/core/alignment.py:298: FutureWarning: Index.__or__ operating as a set operation is deprecated, in the future this will be a logical operation matching Series.__or__.  Use index.union(other) instead\n",
      "  index = joiner(matching_indexes)\n",
      "/home/paul/anaconda3/envs/epsdev-xr15/lib/python3.7/site-packages/xarray/core/alignment.py:298: FutureWarning: Index.__or__ operating as a set operation is deprecated, in the future this will be a logical operation matching Series.__or__.  Use index.union(other) instead\n",
      "  index = joiner(matching_indexes)\n",
      "/home/paul/anaconda3/envs/epsdev-xr15/lib/python3.7/site-packages/xarray/core/alignment.py:298: FutureWarning: Index.__or__ operating as a set operation is deprecated, in the future this will be a logical operation matching Series.__or__.  Use index.union(other) instead\n",
      "  index = joiner(matching_indexes)\n",
      "/home/paul/anaconda3/envs/epsdev-xr15/lib/python3.7/site-packages/xarray/core/alignment.py:298: FutureWarning: Index.__or__ operating as a set operation is deprecated, in the future this will be a logical operation matching Series.__or__.  Use index.union(other) instead\n",
      "  index = joiner(matching_indexes)\n",
      "/home/paul/anaconda3/envs/epsdev-xr15/lib/python3.7/site-packages/xarray/core/alignment.py:298: FutureWarning: Index.__or__ operating as a set operation is deprecated, in the future this will be a logical operation matching Series.__or__.  Use index.union(other) instead\n",
      "  index = joiner(matching_indexes)\n",
      "/home/paul/anaconda3/envs/epsdev-xr15/lib/python3.7/site-packages/xarray/core/alignment.py:298: FutureWarning: Index.__or__ operating as a set operation is deprecated, in the future this will be a logical operation matching Series.__or__.  Use index.union(other) instead\n",
      "  index = joiner(matching_indexes)\n",
      "/home/paul/anaconda3/envs/epsdev-xr15/lib/python3.7/site-packages/xarray/core/alignment.py:298: FutureWarning: Index.__or__ operating as a set operation is deprecated, in the future this will be a logical operation matching Series.__or__.  Use index.union(other) instead\n",
      "  index = joiner(matching_indexes)\n",
      "/home/paul/anaconda3/envs/epsdev-xr15/lib/python3.7/site-packages/xarray/core/alignment.py:298: FutureWarning: Index.__or__ operating as a set operation is deprecated, in the future this will be a logical operation matching Series.__or__.  Use index.union(other) instead\n",
      "  index = joiner(matching_indexes)\n",
      "/home/paul/anaconda3/envs/epsdev-xr15/lib/python3.7/site-packages/xarray/core/alignment.py:298: FutureWarning: Index.__or__ operating as a set operation is deprecated, in the future this will be a logical operation matching Series.__or__.  Use index.union(other) instead\n",
      "  index = joiner(matching_indexes)\n",
      "/home/paul/anaconda3/envs/epsdev-xr15/lib/python3.7/site-packages/xarray/core/alignment.py:298: FutureWarning: Index.__or__ operating as a set operation is deprecated, in the future this will be a logical operation matching Series.__or__.  Use index.union(other) instead\n",
      "  index = joiner(matching_indexes)\n",
      "/home/paul/anaconda3/envs/epsdev-xr15/lib/python3.7/site-packages/xarray/core/alignment.py:298: FutureWarning: Index.__or__ operating as a set operation is deprecated, in the future this will be a logical operation matching Series.__or__.  Use index.union(other) instead\n",
      "  index = joiner(matching_indexes)\n",
      "/home/paul/anaconda3/envs/epsdev-xr15/lib/python3.7/site-packages/xarray/core/alignment.py:298: FutureWarning: Index.__or__ operating as a set operation is deprecated, in the future this will be a logical operation matching Series.__or__.  Use index.union(other) instead\n",
      "  index = joiner(matching_indexes)\n",
      "/home/paul/anaconda3/envs/epsdev-xr15/lib/python3.7/site-packages/xarray/core/alignment.py:298: FutureWarning: Index.__or__ operating as a set operation is deprecated, in the future this will be a logical operation matching Series.__or__.  Use index.union(other) instead\n",
      "  index = joiner(matching_indexes)\n",
      "/home/paul/anaconda3/envs/epsdev-xr15/lib/python3.7/site-packages/xarray/core/alignment.py:298: FutureWarning: Index.__or__ operating as a set operation is deprecated, in the future this will be a logical operation matching Series.__or__.  Use index.union(other) instead\n",
      "  index = joiner(matching_indexes)\n",
      "/home/paul/anaconda3/envs/epsdev-xr15/lib/python3.7/site-packages/xarray/core/alignment.py:298: FutureWarning: Index.__or__ operating as a set operation is deprecated, in the future this will be a logical operation matching Series.__or__.  Use index.union(other) instead\n",
      "  index = joiner(matching_indexes)\n",
      "/home/paul/anaconda3/envs/epsdev-xr15/lib/python3.7/site-packages/xarray/core/alignment.py:298: FutureWarning: Index.__or__ operating as a set operation is deprecated, in the future this will be a logical operation matching Series.__or__.  Use index.union(other) instead\n",
      "  index = joiner(matching_indexes)\n",
      "/home/paul/anaconda3/envs/epsdev-xr15/lib/python3.7/site-packages/xarray/core/alignment.py:298: FutureWarning: Index.__or__ operating as a set operation is deprecated, in the future this will be a logical operation matching Series.__or__.  Use index.union(other) instead\n",
      "  index = joiner(matching_indexes)\n",
      "/home/paul/anaconda3/envs/epsdev-xr15/lib/python3.7/site-packages/xarray/core/alignment.py:298: FutureWarning: Index.__or__ operating as a set operation is deprecated, in the future this will be a logical operation matching Series.__or__.  Use index.union(other) instead\n",
      "  index = joiner(matching_indexes)\n",
      "/home/paul/anaconda3/envs/epsdev-xr15/lib/python3.7/site-packages/xarray/core/alignment.py:298: FutureWarning: Index.__or__ operating as a set operation is deprecated, in the future this will be a logical operation matching Series.__or__.  Use index.union(other) instead\n",
      "  index = joiner(matching_indexes)\n",
      "/home/paul/anaconda3/envs/epsdev-xr15/lib/python3.7/site-packages/xarray/core/alignment.py:298: FutureWarning: Index.__or__ operating as a set operation is deprecated, in the future this will be a logical operation matching Series.__or__.  Use index.union(other) instead\n",
      "  index = joiner(matching_indexes)\n",
      "/home/paul/anaconda3/envs/epsdev-xr15/lib/python3.7/site-packages/xarray/core/alignment.py:298: FutureWarning: Index.__or__ operating as a set operation is deprecated, in the future this will be a logical operation matching Series.__or__.  Use index.union(other) instead\n",
      "  index = joiner(matching_indexes)\n",
      "/home/paul/anaconda3/envs/epsdev-xr15/lib/python3.7/site-packages/xarray/core/alignment.py:298: FutureWarning: Index.__or__ operating as a set operation is deprecated, in the future this will be a logical operation matching Series.__or__.  Use index.union(other) instead\n",
      "  index = joiner(matching_indexes)\n",
      "/home/paul/anaconda3/envs/epsdev-xr15/lib/python3.7/site-packages/xarray/core/alignment.py:298: FutureWarning: Index.__or__ operating as a set operation is deprecated, in the future this will be a logical operation matching Series.__or__.  Use index.union(other) instead\n",
      "  index = joiner(matching_indexes)\n",
      "/home/paul/anaconda3/envs/epsdev-xr15/lib/python3.7/site-packages/xarray/core/alignment.py:298: FutureWarning: Index.__or__ operating as a set operation is deprecated, in the future this will be a logical operation matching Series.__or__.  Use index.union(other) instead\n",
      "  index = joiner(matching_indexes)\n",
      "/home/paul/anaconda3/envs/epsdev-xr15/lib/python3.7/site-packages/xarray/core/alignment.py:298: FutureWarning: Index.__or__ operating as a set operation is deprecated, in the future this will be a logical operation matching Series.__or__.  Use index.union(other) instead\n",
      "  index = joiner(matching_indexes)\n",
      "/home/paul/anaconda3/envs/epsdev-xr15/lib/python3.7/site-packages/xarray/core/alignment.py:298: FutureWarning: Index.__or__ operating as a set operation is deprecated, in the future this will be a logical operation matching Series.__or__.  Use index.union(other) instead\n",
      "  index = joiner(matching_indexes)\n",
      "/home/paul/anaconda3/envs/epsdev-xr15/lib/python3.7/site-packages/xarray/core/alignment.py:298: FutureWarning: Index.__or__ operating as a set operation is deprecated, in the future this will be a logical operation matching Series.__or__.  Use index.union(other) instead\n",
      "  index = joiner(matching_indexes)\n",
      "/home/paul/github/ePSproc/epsproc/IO.py:657: DeprecationWarning: `np.float` is a deprecated alias for the builtin `float`. To silence this warning, use `float` by itself. Doing this will not modify any behavior and is safe. If you specifically wanted the numpy scalar type, use `np.float64` here.\n",
      "Deprecated in NumPy 1.20; for more details and guidance: https://numpy.org/devdocs/release/1.20.0-notes.html#deprecations\n",
      "  attribs.append(['E', np.float(parseLineDigits(dumpSeg[3][2])[0]), 'eV'])\n",
      "/home/paul/github/ePSproc/epsproc/IO.py:662: DeprecationWarning: `np.int` is a deprecated alias for the builtin `int`. To silence this warning, use `int` by itself. Doing this will not modify any behavior and is safe. When replacing `np.int`, you may wish to use e.g. `np.int64` or `np.int32` to specify the precision. If you wish to review your current use, check the release note link for additional information.\n",
      "Deprecated in NumPy 1.20; for more details and guidance: https://numpy.org/devdocs/release/1.20.0-notes.html#deprecations\n",
      "  attribs.append(['Lmax', np.int(parseLineDigits(dumpSeg[10][2])[0]), ''])\n",
      "/home/paul/anaconda3/envs/epsdev-xr15/lib/python3.7/site-packages/xarray/core/alignment.py:298: FutureWarning: Index.__or__ operating as a set operation is deprecated, in the future this will be a logical operation matching Series.__or__.  Use index.union(other) instead\n",
      "  index = joiner(matching_indexes)\n"
     ]
    },
    {
     "name": "stdout",
     "output_type": "stream",
     "text": [
      "\n",
      "*** Job orb8 details\n",
      "Key: orb8\n",
      "Dir /home/paul/github/ePSproc/data/photoionization, 1 file(s).\n",
      "{   'batch': 'ePS ethylene, batch C2H4_1.0-100.0eV, orbital orb8_B3u',\n",
      "    'event': 'HOMO ioinzation (B3u), wavefn run, 0.5:1:10.5, sph grid',\n",
      "    'orbE': -10.32127880310325,\n",
      "    'orbLabel': 'B3u'}\n",
      "\n",
      "*** Job orb5 details\n",
      "Key: orb5\n",
      "Dir /home/paul/github/ePSproc/data/photoionization, 1 file(s).\n",
      "{   'batch': 'ePS n2, batch n2_3sg_0.1-50.1eV, orbital A2',\n",
      "    'event': ' N2 X-state (3sg-1)',\n",
      "    'orbE': -17.34181645456815,\n",
      "    'orbLabel': '3sg-1'}\n",
      "\n",
      "*** Job orb11 details\n",
      "Key: orb11\n",
      "Dir /home/paul/github/ePSproc/data/photoionization, 1 file(s).\n",
      "{   'batch': 'NO2 input file for ePolyScat',\n",
      "    'event': ' Ionization of orbital 10 (A2)',\n",
      "    'orbE': -14.378496492380059,\n",
      "    'orbLabel': 'A2'}\n"
     ]
    }
   ],
   "source": [
    "# Class dev code\n",
    "from epsproc.classes.multiJob import ePSmultiJob\n",
    "from epsproc.classes.base import ePSbase\n",
    "\n",
    "# Instantiate class object.\n",
    "# Minimally this needs just the dataPath, if verbose = 1 is set then some useful output will also be printed.\n",
    "data = ePSbase(epDemoDataPath, verbose = 1)\n",
    "\n",
    "# ScanFiles() - this will look for data files on the path provided, and read from them.\n",
    "data.scanFiles()"
   ]
  },
  {
   "cell_type": "markdown",
   "metadata": {},
   "source": [
    "## Function dev\n",
    "\n",
    "Functions to calculate & plot density matrices..."
   ]
  },
  {
   "cell_type": "code",
   "execution_count": 8,
   "metadata": {},
   "outputs": [],
   "source": [
    "#*** Dim functionality (see also lmPlot() and multiDimXrToPD() functions)\n",
    "\n",
    "# Set imports\n",
    "from epsproc.util import matEleSelector\n",
    "from epsproc.util.misc import checkDims\n",
    "# matEdimList, BLMdimList, dataTypesList, multiDimXrToPD\n",
    "# checkDims = ep.util.misc.checkDims\n",
    "\n",
    "def densityCalc(da, denDims = 'LM', selDims = None, sumDims = None, stackDims = None, \n",
    "                thres = None):\n",
    "    \n",
    "    # Set data\n",
    "    daDen = matEleSelector(da, thres = thres, inds = selDims)  # TODO: pass **kwargs here?\n",
    "                                                # Pass dims = denDims?\n",
    "    \n",
    "    # Check dims\n",
    "    dimsIn = checkDims(daDen, refDims = denDims)\n",
    "    \n",
    "    print(dimsIn)"
   ]
  },
  {
   "cell_type": "code",
   "execution_count": 9,
   "metadata": {},
   "outputs": [
    {
     "name": "stdout",
     "output_type": "stream",
     "text": [
      "{'dataDims': ('LM', 'Eke', 'Sym', 'mu', 'it'), 'dataDimsUS': ('Eke', 'mu', 'it', 'l', 'm', 'Cont', 'Targ', 'Total'), 'refDims': 'LM', 'shared': [], 'extra': ['m', 'Eke', 'Total', 'l', 'Targ', 'mu', 'it', 'Cont'], 'stacked': ['Sym', 'LM'], 'stackedMap': {'Sym': FrozenList(['Cont', 'Targ', 'Total']), 'LM': FrozenList(['l', 'm'])}, 'invalid': ['M', 'L']}\n"
     ]
    }
   ],
   "source": [
    "k = 'orb11'\n",
    "matE = data.data[k]['matE']\n",
    "selDims = {'Type':'L'}\n",
    "thres = 1e-1\n",
    "\n",
    "\n",
    "densityCalc(matE, selDims = selDims, thres = thres)"
   ]
  },
  {
   "cell_type": "code",
   "execution_count": 10,
   "metadata": {},
   "outputs": [
    {
     "name": "stderr",
     "output_type": "stream",
     "text": [
      "/home/paul/anaconda3/envs/epsdev-xr15/lib/python3.7/site-packages/ipykernel/ipkernel.py:287: DeprecationWarning: `should_run_async` will not call `transform_cell` automatically in the future. Please pass the result to `transformed_cell` argument and any exception that happen during thetransform in `preprocessing_exc_tuple` in IPython 7.17 and above.\n",
      "  and should_run_async(code)\n"
     ]
    },
    {
     "data": {
      "text/plain": [
       "('LM', 'Eke', 'Sym', 'mu', 'it', 'Type')"
      ]
     },
     "execution_count": 10,
     "metadata": {},
     "output_type": "execute_result"
    }
   ],
   "source": [
    "matE.dims"
   ]
  },
  {
   "cell_type": "code",
   "execution_count": 30,
   "metadata": {},
   "outputs": [],
   "source": [
    "def checkDims2(data, refDims = []):\n",
    "    \"\"\"\n",
    "    Check dimensions for a data array (Xarray) vs. a reference list (or dict).\n",
    "\n",
    "    Parameters\n",
    "    ----------\n",
    "    data : Xarray\n",
    "        Data array to check.\n",
    "        \n",
    "    refDims : str, list, optional, default = []\n",
    "        Dims to check vs. input data array.\n",
    "    \n",
    "    Returns \n",
    "    -------\n",
    "    \n",
    "    dictionary \n",
    "        Containing:\n",
    "        \n",
    "        - stacked and unstacked dims\n",
    "        - stacked dim mappings\n",
    "        - intersection and differences vs. refDims\n",
    "        \n",
    "\n",
    "    TODO: check and order dims by size? Otherwise set return is alphebetical\n",
    "\n",
    "    26/08/21 Added additional tests for stacked dims vs. ref.\n",
    "             Bit messy, but left as-is to avoid breaking old code.\n",
    "             In future should amalgamate stacked & unstacked tests & tidy output.\n",
    "                \n",
    "    23/08/21 Added stacked dim mapping output.\n",
    "    11/05/21 Added handling for stacked dims.\n",
    "\n",
    "    \"\"\"\n",
    "    \n",
    "    # Force to list to avoid breaking *unpacking later\n",
    "    if not isinstance(refDims, list):\n",
    "        refDims = [refDims]\n",
    "    \n",
    "    dims = data.dims # Set dim list - this excludes stacked dims\n",
    "    dimsUS = data.unstack().dims  # Set unstaked (full) dim list\n",
    "\n",
    "    stackedDims = list(set(dims) - set(dimsUS))\n",
    "\n",
    "    stackedDimsMap = {k:data.indexes[k].names for k in stackedDims}  # Get stacked dim mapping from indexes (Xarray/Pandas)\n",
    "\n",
    "    # Check ref vs. full dim list (unstacked dims)\n",
    "    sharedDims = list(set(dimsUS)&{*refDims})  # Intersection\n",
    "    extraDims = list(set(dimsUS) - {*refDims})  # Difference\n",
    "    invalidDims = list({*refDims} - set(dimsUS))  # Missing\n",
    "    \n",
    "    # 26/08/21 - added additional tests for stacked dims vs. ref, but may want to amalgamate with above?\n",
    "    # TODO: tidy output too - separate dicts for stacked and unstacked dims?\n",
    "    # Check ref vs. full dim list (stacked dims)\n",
    "    sharedDimsStacked = list(set(dims)&{*refDims})  # Intersection\n",
    "    extraDimsStacked = list(set(dims) - {*refDims})  # Difference\n",
    "    invalidDimsStacked = list({*refDims} - set(dims))  # Missing\n",
    "\n",
    "    # Test also missing dims overally\n",
    "    missingDims = list({*refDims} - set(dimsUS) - set(dims))  # Missing\n",
    "    \n",
    "    return {'dataDims':dims, 'dataDimsUS':dimsUS, 'refDims':refDims, \n",
    "            'shared':sharedDims, 'extra':extraDims, 'invalid':invalidDims,\n",
    "            'stacked':stackedDims, 'stackedMap':stackedDimsMap, \n",
    "            'stackedShared':sharedDimsStacked, 'stackedExtra':extraDimsStacked, 'stackedInvalid':invalidDimsStacked,\n",
    "            'missing':missingDims}"
   ]
  },
  {
   "cell_type": "code",
   "execution_count": 31,
   "metadata": {},
   "outputs": [
    {
     "data": {
      "text/plain": [
       "{'dataDims': ('LM', 'Eke', 'Sym', 'mu', 'it', 'Type'),\n",
       " 'dataDimsUS': ('Eke', 'mu', 'it', 'Type', 'l', 'm', 'Cont', 'Targ', 'Total'),\n",
       " 'refDims': ['LM'],\n",
       " 'shared': [],\n",
       " 'extra': ['m', 'Eke', 'Total', 'l', 'Targ', 'Type', 'mu', 'it', 'Cont'],\n",
       " 'invalid': ['LM'],\n",
       " 'stacked': ['Sym', 'LM'],\n",
       " 'stackedMap': {'Sym': FrozenList(['Cont', 'Targ', 'Total']),\n",
       "  'LM': FrozenList(['l', 'm'])},\n",
       " 'stackedShared': ['LM'],\n",
       " 'stackedExtra': ['Sym', 'Eke', 'Type', 'mu', 'it'],\n",
       " 'stackedInvalid': [],\n",
       " 'missing': []}"
      ]
     },
     "execution_count": 31,
     "metadata": {},
     "output_type": "execute_result"
    }
   ],
   "source": [
    "checkDims2(matE, refDims = 'LM')"
   ]
  },
  {
   "cell_type": "code",
   "execution_count": 17,
   "metadata": {},
   "outputs": [
    {
     "ename": "NameError",
     "evalue": "name 'refDims' is not defined",
     "output_type": "error",
     "traceback": [
      "\u001b[0;31m---------------------------------------------------------------------------\u001b[0m",
      "\u001b[0;31mNameError\u001b[0m                                 Traceback (most recent call last)",
      "\u001b[0;32m<ipython-input-17-2fad22fb75d0>\u001b[0m in \u001b[0;36m<module>\u001b[0;34m\u001b[0m\n\u001b[0;32m----> 1\u001b[0;31m \u001b[0mlist\u001b[0m\u001b[0;34m(\u001b[0m\u001b[0;34m{\u001b[0m\u001b[0;34m*\u001b[0m\u001b[0mrefDims\u001b[0m\u001b[0;34m}\u001b[0m \u001b[0;34m-\u001b[0m \u001b[0mset\u001b[0m\u001b[0;34m(\u001b[0m\u001b[0mdimsUS\u001b[0m\u001b[0;34m)\u001b[0m \u001b[0;34m-\u001b[0m \u001b[0mset\u001b[0m\u001b[0;34m(\u001b[0m\u001b[0mdims\u001b[0m\u001b[0;34m)\u001b[0m\u001b[0;34m)\u001b[0m\u001b[0;34m\u001b[0m\u001b[0;34m\u001b[0m\u001b[0m\n\u001b[0m",
      "\u001b[0;31mNameError\u001b[0m: name 'refDims' is not defined"
     ]
    }
   ],
   "source": [
    "list({*refDims} - set(dimsUS) - set(dims))"
   ]
  },
  {
   "cell_type": "code",
   "execution_count": 20,
   "metadata": {},
   "outputs": [
    {
     "name": "stdout",
     "output_type": "stream",
     "text": [
      "L M\n"
     ]
    }
   ],
   "source": [
    "refDims = 'LM'\n",
    "print(*refDims)"
   ]
  },
  {
   "cell_type": "code",
   "execution_count": 33,
   "metadata": {},
   "outputs": [],
   "source": [
    "dimTest = checkDims2(matE, refDims = 'LM')"
   ]
  },
  {
   "cell_type": "code",
   "execution_count": null,
   "metadata": {},
   "outputs": [],
   "source": []
  }
 ],
 "metadata": {
  "kernelspec": {
   "display_name": "Python [conda env:epsdev-xr15]",
   "language": "python",
   "name": "conda-env-epsdev-xr15-py"
  },
  "language_info": {
   "codemirror_mode": {
    "name": "ipython",
    "version": 3
   },
   "file_extension": ".py",
   "mimetype": "text/x-python",
   "name": "python",
   "nbconvert_exporter": "python",
   "pygments_lexer": "ipython3",
   "version": "3.7.10"
  }
 },
 "nbformat": 4,
 "nbformat_minor": 4
}
