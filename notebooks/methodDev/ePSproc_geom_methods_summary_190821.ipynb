{
 "cells": [
  {
   "cell_type": "markdown",
   "metadata": {},
   "source": [
    "# Geometric methods summary\n",
    "19/08/21\n",
    "\n",
    "This notebook summarises the current state of the geometric tensor methods, these are currently used for MF and AF calculations "
   ]
  },
  {
   "cell_type": "markdown",
   "metadata": {},
   "source": [
    "## Formalism\n",
    "\n",
    "The equations for the $\\beta_{LM}$ parameters, in the molecular and lab frames (MF & AF respectively), can be written in terms of geometric tensor paramters.\n",
    "\n",
    "For the MF, denoted $\\beta_{LM}$ ([full development notes here](https://epsproc.readthedocs.io/en/latest/methods/geometric_method_dev_pt2_170320_v140420.html)):\n",
    "\n",
    "\\begin{eqnarray}\n",
    "\\beta_{L,-M}^{\\mu_{i},\\mu_{f}}(E) & = & (-1)^{M}\\sum_{P,R',R}(2P+1)^{\\frac{1}{2}}{E_{P-R}(\\hat{e};\\mu_{0})}\\sum_{l,m,\\mu}\\sum_{l',m',\\mu'}(-1)^{(\\mu'-\\mu_{0})}{\\Lambda_{R',R}(R_{\\hat{n}};\\mu,P,R,R')B_{L,-M}(l,l',m,m')}I_{l,m,\\mu}^{p_{i}\\mu_{i},p_{f}\\mu_{f}}(E)I_{l',m',\\mu'}^{p_{i}\\mu_{i},p_{f}\\mu_{f}*}(E)\n",
    "\\end{eqnarray}\n",
    "\n",
    "For the AF, denoted $\\bar{\\beta}_{LM}$ ([full development notes here](https://epsproc.readthedocs.io/en/latest/methods/geometric_method_dev_pt3_AFBLM_090620_010920_dev_bk100920.html)):\n",
    "\n",
    "\\begin{eqnarray}\n",
    "\\bar{\\beta}_{L,-M}^{\\mu_{i},\\mu_{f}}(E,t) & =(-1)^{M} & \\sum_{P,R',R}{[P]^{\\frac{1}{2}}}{E_{P-R}(\\hat{e};\\mu_{0})}\\sum_{l,m,\\mu}\\sum_{l',m',\\mu'}(-1)^{(\\mu'-\\mu_{0})}{\\Lambda_{R'}(\\mu,P,R')B_{L,S-R'}(l,l',m,m')}I_{l,m,\\mu}^{p_{i}\\mu_{i},p_{f}\\mu_{f}}(E)I_{l',m',\\mu'}^{p_{i}\\mu_{i},p_{f}\\mu_{f}*}(E)\\sum_{K,Q,S}\\Delta_{L,M}(K,Q,S)A_{Q,S}^{K}(t)\\label{eq:BLM-tidy-prod-2}\n",
    "\\end{eqnarray}\n",
    "\n",
    "Where $I_{l,m,\\mu}^{p_{i}\\mu_{i},p_{f}\\mu_{f}}(E)$ are the (radial) dipole ionization matrix elements, as a function of energy $E$, obtained from an [ePolyScat (or other) calculation](https://epsproc.readthedocs.io/en/latest/ePS_ePSproc_tutorial/ePS_tutorial_080520.html#Theoretical-background), defined by a set of partial-waves $\\{l,m\\}$, for polarizations $\\mu$ and channels (symmetries) labelled by initial and final state indexes ${p_{i}\\mu_{i},p_{f}\\mu_{f}}$.\n",
    "\n",
    "In both cases a set of geometric tensor terms are required, defined below. Note that, in this case, time-dependence arises purely from the $A_{Q,S}^{K}(t)$ terms in the AF case, and the electric field term currently describes only the photon angular momentum coupling, time-dependent/shaped fields are not yet supported (as of v1.3.0, but will be soon). Similarly, a time-dependent initial state (e.g. vibrational wavepacket) could also describe a time-dependent MF case, but is currently not included here.\n",
    "\n",
    "\n",
    "### Electric field term\n",
    "\n",
    "The [coupling of two 1-photon terms can be written as a tensor contraction](https://epsproc.readthedocs.io/en/latest/methods/geometric_method_dev_260220_090420_tidy.html#E_{P,R}-tensor):\n",
    "\n",
    "\\begin{equation}\n",
    "E_{PR}(\\hat{e})=[e\\otimes e^{*}]_{R}^{P}=[P]^{\\frac{1}{2}}\\sum_{p}(-1)^{R}\\left(\\begin{array}{ccc}\n",
    "1 & 1 & P\\\\\n",
    "p & R-p & -R\n",
    "\\end{array}\\right)e_{p}e_{R-p}^{*}\\label{eq:EPR-defn-1}\n",
    "\\end{equation}\n",
    "\n",
    "Where $e_{p}$ and $e_{R-p}$ define the field strengths for the polarizations $p$ and $R-p$, which are coupled into the spherical tensor $E_{PR}$.\n",
    "\n",
    "Note this currently describes only the photon angular momentum coupling, time-dependent/shaped fields are not yet supported (as of v1.3.0, but will be soon).\n",
    "\n",
    "\n",
    "### $B_{L,M}$ term\n",
    "\n",
    "The coupling of the partial wave pairs, $|l,m\\rangle$ and $|l',m'\\rangle$, into the observable set of $\\{L,M\\}$ is [defined by a tensor contraction with two 3j terms](https://epsproc.readthedocs.io/en/latest/methods/geometric_method_dev_260220_090420_tidy.html#B_{L,M}-term).\n",
    "\n",
    "\\begin{equation}\n",
    "B_{L,M}=(-1)^{m}\\left(\\frac{(2l+1)(2l'+1)(2L+1)}{4\\pi}\\right)^{1/2}\\left(\\begin{array}{ccc}\n",
    "l & l' & L\\\\\n",
    "0 & 0 & 0\n",
    "\\end{array}\\right)\\left(\\begin{array}{ccc}\n",
    "l & l' & L\\\\\n",
    "-m & m' & M\n",
    "\\end{array}\\right)\n",
    "\\end{equation}\n",
    "\n",
    "Note for the AF case $B_{L,S-R'}(l,l',m,m')$ instead of $B_{L,-M}(l,l',m,m')$ for MF case. This allows for all MF projections to contribute (rather than a single specified polarization geometry).\n",
    "\n",
    "\n",
    "### $\\Lambda$ Term\n",
    "\n",
    "Define [MF projection term](https://epsproc.readthedocs.io/en/latest/methods/geometric_method_dev_260220_090420_tidy.html#\\Lambda-Term), $\\Lambda_{R',R}(R_{\\hat{n}})$:\n",
    "\n",
    "\\begin{equation}\n",
    "\\Lambda_{R',R}(R_{\\hat{n}})=(-1)^{(R')}\\left(\\begin{array}{ccc}\n",
    "1 & 1 & P\\\\\n",
    "\\mu & -\\mu' & R'\n",
    "\\end{array}\\right)D_{-R',-R}^{P}(R_{\\hat{n}})\n",
    "\\end{equation}\n",
    "\n",
    "This is similar to the $E_{PR}$ term, and essentially rotates it into the MF by a set of rotations (Euler angles) defined by $R_{\\hat{n}}$.\n",
    "\n",
    "For [the AF case](https://epsproc.readthedocs.io/en/latest/methods/geometric_method_dev_pt3_AFBLM_090620_010920_dev_bk100920.html#\\beta_{L,M}^{AF}-rewrite), a simplified form is used (since there is no specific orientation/rotation into the MF, and the relations are defined by the molecular axis distribution):\n",
    "\n",
    "\\begin{equation}\n",
    "\\bar{\\Lambda}_{R'}=(-1)^{(R')}\\left(\\begin{array}{ccc}\n",
    "1 & 1 & P\\\\\n",
    "\\mu & -\\mu' & R'\n",
    "\\end{array}\\right)\\equiv\\Lambda_{R',R'}(R_{\\hat{n}}=0)\n",
    "\\end{equation} \n",
    "\n",
    "\n",
    "### Alignment term\n",
    "\n",
    "\\begin{equation}\n",
    "\\Delta_{L,M}(K,Q,S)=(2K+1)^{1/2}(-1)^{K+Q}\\left(\\begin{array}{ccc}\n",
    "P & K & L\\\\\n",
    "R & -Q & -M\n",
    "\\end{array}\\right)\\left(\\begin{array}{ccc}\n",
    "P & K & L\\\\\n",
    "R' & -S & S-R'\n",
    "\\end{array}\\right)\n",
    "\\end{equation}\n",
    "\n",
    "The axis distribution moments (ADMs) define the LF in this case, and are given above as a set of parameters $A_{Q,S}^{K}(t)$; the coupling between the LF and MF is, effectively, defined by the final term in the AF:\n",
    "\n",
    "\\begin{equation}\n",
    "\\sum_{K,Q,S}\\Delta_{L,M}(K,Q,S)A_{Q,S}^{K}(t)\n",
    "\\end{equation}\n",
    "\n",
    "\n",
    "**Refs for the full AF-PAD formalism above:**\n",
    "\n",
    "1. Reid, Katharine L., and Jonathan G. Underwood. “Extracting Molecular Axis Alignment from Photoelectron Angular Distributions.” The Journal of Chemical Physics 112, no. 8 (2000): 3643. https://doi.org/10.1063/1.480517.\n",
    "2. Underwood, Jonathan G., and Katharine L. Reid. “Time-Resolved Photoelectron Angular Distributions as a Probe of Intramolecular Dynamics: Connecting the Molecular Frame and the Laboratory Frame.” The Journal of Chemical Physics 113, no. 3 (2000): 1067. https://doi.org/10.1063/1.481918.\n",
    "3. Stolow, Albert, and Jonathan G. Underwood. “Time-Resolved Photoelectron Spectroscopy of Non-Adiabatic Dynamics in Polyatomic Molecules.” In Advances in Chemical Physics, edited by Stuart A. Rice, 139:497–584. Advances in Chemical Physics. Hoboken, NJ, USA: John Wiley & Sons, Inc., 2008. https://doi.org/10.1002/9780470259498.ch6.\n",
    "\n",
    "\n",
    "Where [3] has the version as per the full form above (full asymmetric top alignment distribution expansion)."
   ]
  },
  {
   "cell_type": "markdown",
   "metadata": {},
   "source": [
    "## Numerical implementation\n",
    "\n",
    "In the current version (v1.3.0, 17/08/21), the above formalism is implemented in the modules [geomFunc.mfblmGeom](https://epsproc.readthedocs.io/en/latest/modules/epsproc.geomFunc.mfblmGeom.html) and [geomFunc.afblmGeom](https://epsproc.readthedocs.io/en/latest/modules/epsproc.geomFunc.afblmGeom.html), defined as a tensor product and making use of direct multiplication of Xarrays corresponding to each term in the eqns.  (See [geometric method dev pt 1 for more details of the component tensors](https://epsproc.readthedocs.io/en/dev/methods/geometric_method_dev_260220_090420_tidy.html), source functions are in primarily in the [geomFunc.geomCalc module](https://epsproc.readthedocs.io/en/latest/modules/epsproc.geomFunc.geomCalc.html).)\n",
    "\n",
    "This is easy to follow, and relatively fast, although can be RAM heavy for large sets of matrix elements (despite the relatively sparse arrays). Parallelization is not yet implemented, but should be fairly easy using [Xarray's GroupBy functionality](http://xarray.pydata.org/en/stable/groupby.html). Fast functions are [used on the back-end](https://epsproc.readthedocs.io/en/dev/tests/Low_level_bench_tests_Wigner3j_Feb2020.html), although there is likely some significant speed-ups to be had by making use of GPU methods here (and in the tensor handling) - this will be necessary for larger problems, e.g. fitting data.\n",
    "\n",
    "Additionally, a set of [phase convention flags](https://epsproc.readthedocs.io/en/latest/modules/epsproc.geomFunc.geomCalc.html#epsproc.geomFunc.geomCalc.setPhaseConventions) can be set for the calculations. This allows quick testing of phase convention choices and the effects of various phase terms.\n",
    "\n",
    "The tensor codes have been [checked against a few MF/LF results](https://epsproc.readthedocs.io/en/latest/methods/LF_AF_verification_tests_060720_tidy_100920.html), and so far seem robust.\n",
    "\n",
    "\n",
    "*TODO*: more test cases and continuous testing."
   ]
  },
  {
   "cell_type": "markdown",
   "metadata": {},
   "source": [
    "## Additional background & development materials\n",
    "\n",
    "Previous developmental tests for:\n",
    "\n",
    "- [Spherical functions](https://epsproc.readthedocs.io/en/dev/tests/Spherical_function_testing_Aug_2019.html)\n",
    "- [Frame definitions](https://epsproc.readthedocs.io/en/dev/tests/ePSproc_frame_rotation_tests_Dec2019.html)\n",
    "- [Low level functions (inc. benchmarks)](https://epsproc.readthedocs.io/en/dev/tests/Low_level_bench_tests_Wigner3j_Feb2020.html)\n",
    "- [Geometric functions (inc. development)](https://epsproc.readthedocs.io/en/dev/methods/geometric_method_dev_pt3_AFBLM_090620_010920_dev_bk100920.html)\n",
    "- [LF/AF routines](https://epsproc.readthedocs.io/en/dev/methods/LF_AF_verification_tests_060720_tidy_100920.html)"
   ]
  },
  {
   "cell_type": "markdown",
   "metadata": {},
   "source": [
    "## Setup"
   ]
  },
  {
   "cell_type": "markdown",
   "metadata": {},
   "source": [
    "### Full import"
   ]
  },
  {
   "cell_type": "code",
   "execution_count": null,
   "metadata": {},
   "outputs": [],
   "source": [
    "# Standard libs\n",
    "import sys\n",
    "import os\n",
    "from pathlib import Path\n",
    "import numpy as np\n",
    "import xarray as xr\n",
    "\n",
    "from datetime import datetime as dt\n",
    "timeString = dt.now()\n"
   ]
  },
  {
   "cell_type": "code",
   "execution_count": null,
   "metadata": {},
   "outputs": [],
   "source": [
    "\n",
    "# For module testing, include path to module here, otherwise use global installation\n",
    "local = True\n",
    "\n",
    "if local:\n",
    "    import sys\n",
    "    if sys.platform == \"win32\":\n",
    "        modPath = r'D:\\code\\github\\ePSproc'  # Win test machine\n",
    "        winFlag = True\n",
    "    else:\n",
    "        modPath = r'~/github/ePSproc/'  # Linux test machine\n",
    "        winFlag = False\n",
    "\n",
    "    sys.path.append(modPath)\n",
    "\n",
    "\n",
    "# Import\n",
    "import epsproc as ep  \n",
    "\n",
    "# Set data path\n",
    "# Note this is set here from ep.__path__, but may not be correct in all cases - depends on where the Github repo is.\n",
    "epDemoDataPath = Path(ep.__path__[0]).parent/'data'\n",
    "\n"
   ]
  },
  {
   "cell_type": "markdown",
   "metadata": {},
   "source": [
    "### Tidy import"
   ]
  },
  {
   "cell_type": "code",
   "execution_count": null,
   "metadata": {},
   "outputs": [],
   "source": [
    "import sys\n",
    "import os\n",
    "from pathlib import Path\n",
    "import numpy as np\n",
    "# import epsproc as ep\n",
    "import xarray as xr\n",
    "\n",
    "import matplotlib.pyplot as plt\n",
    "\n",
    "from datetime import datetime as dt\n",
    "timeString = dt.now()\n",
    "\n",
    "import epsproc as ep\n",
    "\n",
    "# Multijob class dev code\n",
    "from epsproc.classes.multiJob import ePSmultiJob"
   ]
  },
  {
   "cell_type": "markdown",
   "metadata": {},
   "source": [
    "### Optional bits"
   ]
  },
  {
   "cell_type": "code",
   "execution_count": null,
   "metadata": {},
   "outputs": [],
   "source": [
    "# Plotters\n",
    "from epsproc.plot import hvPlotters\n",
    "hvPlotters.setPlotters(width = 700, snsStyle='whitegrid')"
   ]
  },
  {
   "cell_type": "code",
   "execution_count": null,
   "metadata": {},
   "outputs": [],
   "source": [
    "# More optional plot settings\n",
    "import seaborn as sns\n",
    "\n",
    "sns.set(rc={'figure.figsize':(10,6)})  # Set figure size in inches\n",
    "sns.set_context(\"paper\")\n",
    "sns.set_style(\"whitegrid\")  # Set plot style\n",
    "sns.set_palette(\"Paired\")   # Set colour mapping\n",
    "\n",
    "# Try direct fig type setting for PDF output figs\n",
    "from IPython.display import set_matplotlib_formats\n",
    "# set_matplotlib_formats('png', 'pdf')\n",
    "set_matplotlib_formats('svg', 'pdf')"
   ]
  },
  {
   "cell_type": "code",
   "execution_count": null,
   "metadata": {},
   "outputs": [],
   "source": [
    "# To control display of warnings...\n",
    "# https://stackoverflow.com/a/9031848\n",
    "import warnings\n",
    "warnings.filterwarnings('once')  # set 'once' or 'ignore'\n",
    "\n",
    "# 16/08/21 ADDED TO util.env.isnotebook(), not yet tested."
   ]
  },
  {
   "cell_type": "markdown",
   "metadata": {},
   "source": [
    "## Load test data"
   ]
  },
  {
   "cell_type": "markdown",
   "metadata": {},
   "source": [
    "### Functional version"
   ]
  },
  {
   "cell_type": "code",
   "execution_count": null,
   "metadata": {},
   "outputs": [],
   "source": [
    "# Load data from modPath\\data\n",
    "dataPath = os.path.join(epDemoDataPath, 'photoionization')\n",
    "dataFile = os.path.join(dataPath, 'n2_3sg_0.1-50.1eV_A2.inp.out')  # Set for sample N2 data for testing\n",
    "\n",
    "# Scan data file\n",
    "dataSet = ep.readMatEle(fileIn = dataFile)\n",
    "dataXS = ep.readMatEle(fileIn = dataFile, recordType = 'CrossSection')  # XS info currently not set in NO2 sample file."
   ]
  },
  {
   "cell_type": "markdown",
   "metadata": {},
   "source": [
    "### Class version"
   ]
  },
  {
   "cell_type": "code",
   "execution_count": null,
   "metadata": {},
   "outputs": [],
   "source": [
    "# Class dev code\n",
    "from epsproc.classes.multiJob import ePSmultiJob\n",
    "from epsproc.classes.base import ePSbase\n",
    "\n",
    "# Instantiate class object.\n",
    "# Minimally this needs just the dataPath, if verbose = 1 is set then some useful output will also be printed.\n",
    "data = ePSbase(dataPath, verbose = 1)\n",
    "\n",
    "# ScanFiles() - this will look for data files on the path provided, and read from them.\n",
    "data.scanFiles()"
   ]
  },
  {
   "cell_type": "markdown",
   "metadata": {},
   "source": [
    "## New stuff\n",
    "\n",
    "... goes here ..."
   ]
  },
  {
   "cell_type": "markdown",
   "metadata": {},
   "source": [
    "## Versions"
   ]
  },
  {
   "cell_type": "code",
   "execution_count": null,
   "metadata": {},
   "outputs": [],
   "source": [
    "import scooby\n",
    "scooby.Report(additional=['epsproc', 'holoviews', 'hvplot', 'xarray', 'matplotlib', 'bokeh'])"
   ]
  },
  {
   "cell_type": "code",
   "execution_count": null,
   "metadata": {},
   "outputs": [],
   "source": [
    "# Check current Git commit for local ePSproc version\n",
    "from pathlib import Path\n",
    "!git -C {Path(ep.__file__).parent} branch\n",
    "!git -C {Path(ep.__file__).parent} log --format=\"%H\" -n 1"
   ]
  },
  {
   "cell_type": "code",
   "execution_count": null,
   "metadata": {},
   "outputs": [],
   "source": [
    "# Check current remote commits\n",
    "!git ls-remote --heads git://github.com/phockett/ePSproc"
   ]
  }
 ],
 "metadata": {
  "kernelspec": {
   "display_name": "Python 3",
   "language": "python",
   "name": "python3"
  },
  "language_info": {
   "codemirror_mode": {
    "name": "ipython",
    "version": 3
   },
   "file_extension": ".py",
   "mimetype": "text/x-python",
   "name": "python",
   "nbconvert_exporter": "python",
   "pygments_lexer": "ipython3",
   "version": "3.7.3"
  },
  "latex_envs": {
   "LaTeX_envs_menu_present": true,
   "autoclose": false,
   "autocomplete": true,
   "bibliofile": "biblio.bib",
   "cite_by": "apalike",
   "current_citInitial": 1,
   "eqLabelWithNumbers": true,
   "eqNumInitial": 1,
   "hotkeys": {
    "equation": "Ctrl-E",
    "itemize": "Ctrl-I"
   },
   "labels_anchors": false,
   "latex_user_defs": false,
   "report_style_numbering": false,
   "user_envs_cfg": false
  }
 },
 "nbformat": 4,
 "nbformat_minor": 4
}
